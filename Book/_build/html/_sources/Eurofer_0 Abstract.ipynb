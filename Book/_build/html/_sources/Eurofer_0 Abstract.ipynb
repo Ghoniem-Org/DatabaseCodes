{
 "cells": [
  {
   "cell_type": "markdown",
   "id": "bd72455d-0dc9-4897-a388-83d353596929",
   "metadata": {},
   "source": [
    "# 0 Abstract\n",
    "We present a comprehensive database for the ferritic-martensitic steel Eurofer97.  The database is intended to assist in the mechanical design of components manufactured from reduced activation 9 Cr steels (e.g. Eurofer97), in particular, in a fusion reactor power source.  The database is classified into three main categories: (1) fabrication and microstructure, (2) thermophysical properties, and (3) mechanical properties.  The effects of irradiation (both neutron and ion) on the properties of Eurofer are also discussed. Data for each property is collected from various sources available in the public domain.  The sources of data are given together with links to the original publication for verification or corrections. Various functional forms are developed to describe the properties of Eurofer97 as a function of temperature, and if available, as a function of the irradiation dose."
   ]
  },
  {
   "cell_type": "code",
   "execution_count": null,
   "id": "fa67012c-37d3-4cd9-abf7-9269b9d87de4",
   "metadata": {},
   "outputs": [],
   "source": []
  }
 ],
 "metadata": {
  "kernelspec": {
   "display_name": "Python 3 (ipykernel)",
   "language": "python",
   "name": "python3"
  },
  "language_info": {
   "codemirror_mode": {
    "name": "ipython",
    "version": 3
   },
   "file_extension": ".py",
   "mimetype": "text/x-python",
   "name": "python",
   "nbconvert_exporter": "python",
   "pygments_lexer": "ipython3",
   "version": "3.12.4"
  }
 },
 "nbformat": 4,
 "nbformat_minor": 5
}
