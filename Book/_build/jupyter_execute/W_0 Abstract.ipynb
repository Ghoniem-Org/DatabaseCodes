{
 "cells": [
  {
   "cell_type": "markdown",
   "id": "bd72455d-0dc9-4897-a388-83d353596929",
   "metadata": {},
   "source": [
    "# 0 Abstract\n",
    "This study presents a comprehensive database for tungsten, which aims to assist in the mechanical design of tungsten components, specifically those used in fusion reactor power sources. The database is organized into three main categories: fabrication and microstructure, thermophysical properties, and mechanical properties. Additionally, the study examines the effects of irradiation, including both neutron and ion irradiation, on the properties of tungsten. The data for each property is collected from multiple publicly available sources, and the sources are provided along with links to the original publications for verification or potential corrections. To describe the properties of tungsten, various functional forms are developed based on temperature, and if applicable, the irradiation dose."
   ]
  },
  {
   "cell_type": "code",
   "execution_count": null,
   "id": "7bb4dfdc-246b-496e-924e-fb2c8ad79704",
   "metadata": {},
   "outputs": [],
   "source": []
  }
 ],
 "metadata": {
  "kernelspec": {
   "display_name": "Python 3 (ipykernel)",
   "language": "python",
   "name": "python3"
  },
  "language_info": {
   "codemirror_mode": {
    "name": "ipython",
    "version": 3
   },
   "file_extension": ".py",
   "mimetype": "text/x-python",
   "name": "python",
   "nbconvert_exporter": "python",
   "pygments_lexer": "ipython3",
   "version": "3.12.4"
  }
 },
 "nbformat": 4,
 "nbformat_minor": 5
}