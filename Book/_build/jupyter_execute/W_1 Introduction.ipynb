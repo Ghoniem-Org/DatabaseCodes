{
 "cells": [
  {
   "cell_type": "markdown",
   "id": "b43b1d9c-8798-4210-bccf-ccfbbea1dd38",
   "metadata": {},
   "source": [
    "# 1 Introduction\n",
    "Tungsten, denoted by the chemical symbol W and atomic number 74, was first discovered as a metal in 1783 \\cite{Wikipedia2023}. It is a hard, steel-grey metal that is typically brittle. However, in its pure form, tungsten becomes malleable enough to be shaped through forging, drawing, or extrusion. Alternatively, it is commonly produced through sintering \\cite{Wikipedia2023}. Tungsten possesses several remarkable properties. It has the highest melting point among all metals in its pure state, the lowest vapor pressure, and the highest tensile strength at temperatures exceeding 2000 $^\\circ$C. Furthermore, its stable crystal phase does not undergo any structural transformations under high pressure (up to 364 gigapascals). Tungsten also exhibits the lowest coefficient of thermal expansion among all pure metals. These unique characteristics can be attributed to the strong metallic bonds formed by the 5d electrons between tungsten atoms. Tungsten exists in two primary crystalline forms: $\\alpha$ and $\\beta$. The $\\alpha$ phase, which has a body-centered cubic structure, is the more stable form. On the other hand, the $\\beta$-phase, known as A15 cubic, is metastable.\n",
    "\n",
    "Tungsten is a mostly nonreactive element: it does not react with water, is immune to attack by most acids and bases, and it does not react with oxygen or air at room temperature. At elevated temperatures, it reacts with oxygen to form the tungsten trioxide compound, $WO_3$. However, it will react directly with fluorine ($F_2$) at room temperature to form tungsten fluoride ($WF_6$). At around 250 $^\\circ$C, it will react with chlorine or bromine, and under certain hot conditions, it will react with iodine. The most common oxidation state of tungsten is +6, but it exhibits all oxidation states from -2 to +6. Tungsten is commonly combined with oxygen to form yellow tungstic oxide $WO_3$, which dissolves in aqueous alkaline solutions to form tungstate ions $WO_2$.\n",
    "\n",
    "\n",
    "Tungsten has a wide range of uses, including its application in various fields such as incandescent light bulb filaments, X-ray tubes, gas tungsten arc welding electrodes, superalloys, radiation shielding, plasma-facing components, fusion energy structures, industrial catalysis, and space propulsion. Its hardness and high density make it suitable for military purposes like penetrating projectiles, munitions, rocket nozzles, armor-piercing charges, and soldier protection gear. Roughly half of the tungsten is consumed in the production of hard materials, particularly tungsten carbide, while the remaining portion is used in alloys and steels. Tungsten carbide, which is based on WC, is used in the manufacturing of wear-resistant abrasives, carbide cutting tools, and sintered tungsten carbide rings in the jewelry industry. Tungsten-containing superalloys such as Hastelloy and Stellite are utilized in turbine blades, wear-resistant parts, and coatings. The high heat resistance of tungsten makes it valuable in arc welding applications when combined with highly conductive metals like silver or copper. In such cases, the silver or copper provides the necessary conductivity, while tungsten allows the welding rod to withstand high temperatures. Due to its strength at high temperatures and high melting point, elemental tungsten is used in various high-temperature applications, including cathode-ray tubes, vacuum tube filaments, heating elements, and rocket engine nozzles. Its high melting point also makes it suitable for aerospace and high-temperature applications in electrical, heating, and welding processes, particularly in gas tungsten arc welding or tungsten inert gas (TIG) welding. Tungsten is employed as an interconnect material in integrated circuits, replacing traditional wiring with metallic films of tungsten or molybdenum between the silicon dioxide dielectric material and the transistors. Additionally, tungsten is used in electrodes and emitter tips in electron beam instruments that utilize field emission guns, such as electron microscopes."
   ]
  },
  {
   "cell_type": "code",
   "execution_count": null,
   "id": "632894c8-5a57-44ca-a5d6-fb7fbf1ebad7",
   "metadata": {},
   "outputs": [],
   "source": []
  }
 ],
 "metadata": {
  "kernelspec": {
   "display_name": "Python 3 (ipykernel)",
   "language": "python",
   "name": "python3"
  },
  "language_info": {
   "codemirror_mode": {
    "name": "ipython",
    "version": 3
   },
   "file_extension": ".py",
   "mimetype": "text/x-python",
   "name": "python",
   "nbconvert_exporter": "python",
   "pygments_lexer": "ipython3",
   "version": "3.12.4"
  }
 },
 "nbformat": 4,
 "nbformat_minor": 5
}