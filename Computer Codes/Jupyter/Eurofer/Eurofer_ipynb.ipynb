{
 "cells": [
  {
   "cell_type": "code",
   "execution_count": 1,
   "id": "a60040d8-570c-48bc-8743-07b25a2e21b1",
   "metadata": {
    "editable": true,
    "slideshow": {
     "slide_type": ""
    },
    "tags": []
   },
   "outputs": [
    {
     "ename": "ModuleNotFoundError",
     "evalue": "No module named 'import_ipynb'",
     "output_type": "error",
     "traceback": [
      "\u001b[1;31m---------------------------------------------------------------------------\u001b[0m",
      "\u001b[1;31mModuleNotFoundError\u001b[0m                       Traceback (most recent call last)",
      "Cell \u001b[1;32mIn[1], line 1\u001b[0m\n\u001b[1;32m----> 1\u001b[0m \u001b[38;5;28;01mimport\u001b[39;00m \u001b[38;5;21;01mimport_ipynb\u001b[39;00m\n\u001b[0;32m      2\u001b[0m \u001b[38;5;28;01mimport\u001b[39;00m \u001b[38;5;21;01mpandas\u001b[39;00m \u001b[38;5;28;01mas\u001b[39;00m \u001b[38;5;21;01mpd\u001b[39;00m\n\u001b[0;32m      3\u001b[0m \u001b[38;5;28;01mimport\u001b[39;00m \u001b[38;5;21;01mnumpy\u001b[39;00m \u001b[38;5;28;01mas\u001b[39;00m \u001b[38;5;21;01mnp\u001b[39;00m\n",
      "\u001b[1;31mModuleNotFoundError\u001b[0m: No module named 'import_ipynb'"
     ]
    }
   ],
   "source": [
    "import import_ipynb\n",
    "import pandas as pd\n",
    "import numpy as np\n",
    "from IPython.display import display, Markdown, Math, HTML\n",
    "from Utilities import fit_poly, display_fitting, polynomial_model, custom_plot, custom_multi_plot,\\\n",
    "                    fit_poly_with_confidence, plot_fit_with_confidence\n",
    "\n",
    "#-1 Load the data from the Excel file\n",
    "col_names = [\"Temp (K)\", \"Thermal Diffusivity Coef. (cm2/s)\"]\n",
    "df =pd.read_excel('Eurofer_data.xlsx',sheet_name=\"Eurofer_diffusivity\", \\\n",
    "                  header=2, usecols=[0,1],names=col_names, nrows=10)\n",
    "T, Property= [df[col].dropna().to_numpy() for col in df]\n",
    "\n",
    "#-2 Call the function and get the output and optimized parameters\n",
    "fit_output, popt = fit_poly(T, Property,2)\n",
    "\n",
    "#-3 Display fitting parameters and LaTeX equation for Eurofer 97\n",
    "display_fitting('Eurofer 97', r'\\alpha', fit_output, popt)\n",
    " \n",
    "#-4 Generate fitted data for Eurofer 97 \n",
    "T_fit = np.linspace(0, 1000, 200)\n",
    "Prop_fit = polynomial_model(T_fit, *popt)\n",
    "\n",
    "#-5 Plot the data\n",
    "custom_plot(T, Property, T_fit, Prop_fit, \n",
    "            x_label='Temperature [K]', y_label='Diffusivity [$cm^2/s$]', \n",
    "            title=' Eurofer Diffusivity vs Temperature', \n",
    "            data_label='Eurofer Data', fit_label='Eurofer Fit',\n",
    "            scale='linear', xlim=(0, 1000), ylim=(0, 0.1))\n",
    "\n",
    "#-6 Plot the data with 95% confidence intervals\n",
    "fit_results = fit_poly_with_confidence(T, Property, 2, confidence=0.95)\n",
    "\n",
    "plot_fit_with_confidence(T, Property, fit_results, x_label='Temperature [K]', y_label='Diffusivity [$cm^2/s$]', \n",
    "            title=' Eurofer Diffusivity vs Temperature', \n",
    "            data_label='Eurofer Data', fit_label='Eurofer Fit',\n",
    "            scale='linear', xlim=(0, 1000), ylim=(0, 0.1))\n"
   ]
  },
  {
   "cell_type": "code",
   "execution_count": null,
   "id": "f2ac676b-372e-4289-aa77-ec56fc17dfa9",
   "metadata": {},
   "outputs": [],
   "source": []
  },
  {
   "cell_type": "code",
   "execution_count": null,
   "id": "8448a6c5-fe87-4d9d-98ce-f979ff256b32",
   "metadata": {
    "editable": true,
    "slideshow": {
     "slide_type": ""
    },
    "tags": []
   },
   "outputs": [],
   "source": [
    "\n",
    "#-1 Load the data from the Excel file\n",
    "col_names = [\"Temp (K)\", \"Specific Heat (J/kg-K)\"]\n",
    "df =pd.read_excel('Eurofer_data.xlsx',sheet_name=\"Eurofer_specific_heat\", header=2, usecols=[0,1], nrows=28)\n",
    "T,Property= [df[col].dropna().to_numpy() for col in df]\n",
    "\n",
    "#-2 Call the function and get the output and optimized parameters\n",
    "fit_output, popt = fit_poly(T, Property,3)\n",
    "\n",
    "#-3 Display fitting parameters and LaTeX equation for Eurofer 97\n",
    "display_fitting('Eurofer 97', 'C_p', fit_output, popt)\n",
    " \n",
    "#-4 Generate fitted data for Eurofer 97 \n",
    "T_fit = np.linspace(0, 1000, 200)\n",
    "Property_fit = polynomial_model(T_fit, *popt)\n",
    "\n",
    "#-5 Plot the data\n",
    "custom_plot(T, Property, T_fit, Property_fit, \n",
    "            x_label='Temperature [K]', y_label='Specific Heat (J/kg-K)', \n",
    "            title='Eurofer Specific Heat versus Temperature', \n",
    "            data_label='Eurofer Data', fit_label='Eurofer Fit',\n",
    "            scale='linear', xlim=(300, 1000), ylim=(300, 1200))\n"
   ]
  },
  {
   "cell_type": "code",
   "execution_count": null,
   "id": "8ba9eda1-5c88-4858-9bc9-be0483705907",
   "metadata": {},
   "outputs": [],
   "source": []
  },
  {
   "cell_type": "code",
   "execution_count": null,
   "id": "88e75e1e-55f2-4e30-ab5c-c299b9c84321",
   "metadata": {},
   "outputs": [],
   "source": [
    "\n",
    "#-1 Load the data from the Excel file\n",
    "col_names = [\"Temp (K)\", \"Thermal Conductivity, k (W/m-K)\"]\n",
    "df =pd.read_excel('Eurofer_data.xlsx',sheet_name=\"Eurofer_conductivity\", header=2, usecols=[0,1], nrows=8)\n",
    "T,Property= [df[col].dropna().to_numpy() for col in df]\n",
    "\n",
    "#-2 Call the function and get the output and optimized parameters\n",
    "fit_output, popt = fit_poly(T, Property,3)\n",
    "\n",
    "#-3 Display fitting parameters and LaTeX equation for Eurofer 97\n",
    "display_fitting('Eurofer 97', 'k', fit_output, popt)\n",
    " \n",
    "#-4 Generate fitted data for Eurofer 97 \n",
    "T_fit = np.linspace(0, 1000, 200)\n",
    "Property_fit = polynomial_model(T_fit, *popt)\n",
    "\n",
    "#-5 Plot the data\n",
    "custom_plot(T, Property, T_fit, Property_fit, \n",
    "            x_label='Temperature [K]', y_label='k (W/m-K)', \n",
    "            title='Eurofer thermal conductivity versus Temperature', \n",
    "            data_label='Eurofer Data', fit_label='Eurofer Fit',\n",
    "            scale='linear', xlim=(300, 1000), ylim=(0, 50))\n"
   ]
  },
  {
   "cell_type": "code",
   "execution_count": null,
   "id": "0a3778d6-1db6-481e-a85a-d1dfaa8a98b5",
   "metadata": {},
   "outputs": [],
   "source": []
  },
  {
   "cell_type": "code",
   "execution_count": null,
   "id": "a3a7ba1f-6a29-4836-94fc-5d04441d6e4f",
   "metadata": {},
   "outputs": [],
   "source": [
    "\n",
    "#-1 Load the data from the Excel file\n",
    "col_names = [\"Temp (K)\", \"Electrical Resistivity (x10^(-8) ohm-m)\"]\n",
    "df =pd.read_excel('Eurofer_data.xlsx',sheet_name=\"Eurofer_resistivity\", header=2, usecols=[0,1], nrows=23)\n",
    "T,Property= [df[col].dropna().to_numpy() for col in df]\n",
    "\n",
    "#-2 Call the function and get the output and optimized parameters\n",
    "fit_output, popt = fit_poly(T, Property,2)\n",
    "\n",
    "#-3 Display fitting parameters and LaTeX equation for Eurofer 97\n",
    "# display_fitting('Eurofer 97', '\\rho [10^{-8} ohm.m]', fit_output, popt)\n",
    "display_fitting('Eurofer 97', r'\\rho [10^{-8} \\, \\Omega \\cdot \\text{m}]', fit_output, popt)\n",
    "\n",
    "#-4 Generate fitted data for Eurofer 97 \n",
    "T_fit = np.linspace(0, 1000, 200)\n",
    "Property_fit = polynomial_model(T_fit, *popt)\n",
    "\n",
    "#-5 Plot the data\n",
    "custom_plot(T, Property, T_fit, Property_fit, \n",
    "            x_label='Temperature [K]', y_label= r'$\\rho~ [\\times 10^{-8} \\Omega.m]$', \n",
    "            title='Eurofer electrical resistivity versus Temperature', \n",
    "            data_label='Eurofer Data', fit_label='Eurofer Fit',\n",
    "            scale='linear', xlim=(300, 1000), ylim=(0, 150))\n"
   ]
  },
  {
   "cell_type": "code",
   "execution_count": null,
   "id": "4338fbad-0e1d-4e0a-860d-c5ab72e11222",
   "metadata": {},
   "outputs": [],
   "source": []
  },
  {
   "cell_type": "code",
   "execution_count": null,
   "id": "5342bdbd-7ad9-4939-b746-c26fdfe7b6ae",
   "metadata": {},
   "outputs": [],
   "source": [
    "\n",
    "#-1 Load the data from the Excel file\n",
    "col_names = [\"Temp (K)\", \"Coefficient of Thermal Expansion\"]\n",
    "df =pd.read_excel('Eurofer_data.xlsx',sheet_name=\"Eurofer_CTE\", header=2, usecols=[0,1], nrows=10)\n",
    "T,Property= [df[col].dropna().to_numpy() for col in df]\n",
    "\n",
    "#-2 Call the function and get the output and optimized parameters\n",
    "fit_output, popt = fit_poly(T, Property,2)\n",
    "\n",
    "#-3 Display fitting parameters and LaTeX equation for Eurofer 97\n",
    "# display_fitting('Eurofer 97', '\\rho [10^{-8} ohm.m]', fit_output, popt)\n",
    "display_fitting('Eurofer 97', r'CTE [10^{-6}]', fit_output, popt)\n",
    "\n",
    "#-4 Generate fitted data for Eurofer 97 \n",
    "T_fit = np.linspace(0, 1000, 200)\n",
    "Property_fit = polynomial_model(T_fit, *popt)\n",
    "\n",
    "#-5 Plot the data\n",
    "custom_plot(T, Property, T_fit, Property_fit, \n",
    "            x_label='Temperature [K]', y_label= r'CTE$~[10^{-6}]$', \n",
    "            title='Eurofer Coefficient of Thermal Expansion [10^{-6}] versus Temperature', \n",
    "            data_label='Eurofer Data', fit_label='Eurofer Fit',\n",
    "            scale='linear', xlim=(0, 1000), ylim=(0, 15))\n"
   ]
  },
  {
   "cell_type": "code",
   "execution_count": null,
   "id": "82cef3e2-b8b5-46b3-b82e-574aaa269b41",
   "metadata": {},
   "outputs": [],
   "source": []
  },
  {
   "cell_type": "code",
   "execution_count": null,
   "id": "6a9f59dd-c72b-4ecd-bfc1-bbe68843545e",
   "metadata": {},
   "outputs": [],
   "source": [
    "\n",
    "#-1 Load the data from the Excel file\n",
    "col_names = [\"Temp (K)\", \"Hemispherical Emissivity\"]\n",
    "df =pd.read_excel('Eurofer_data.xlsx',sheet_name=\"Eurofer_emissivity\", header=2, usecols=[0,1], nrows=10)\n",
    "T1,Property1= [df[col].dropna().to_numpy() for col in df]\n",
    "\n",
    "#-2 Call the function and get the output and optimized parameters\n",
    "fit_output1, popt1 = fit_poly(T1, Property1,2)\n",
    "\n",
    "#-3 Display fitting parameters and LaTeX equation for Eurofer 97\n",
    "display_fitting('Eurofer 97', r'As-rolled Emissivity', fit_output1, popt1)\n",
    "\n",
    "df =pd.read_excel('Eurofer_physical_data.xlsx',sheet_name=\"Eurofer_emissivity\", header=2, usecols=[3,4], nrows=10)\n",
    "T2,Property2= [df[col].dropna().to_numpy() for col in df]\n",
    "\n",
    "#-2 Call the function and get the output and optimized parameters\n",
    "fit_output2, popt2 = fit_poly(T2, Property2,2)\n",
    "\n",
    "#-3 Display fitting parameters and LaTeX equation for Eurofer 97\n",
    "display_fitting('Eurofer 97', r'Polished Emissivity', fit_output2, popt2)\n",
    "\n",
    "#-4 Generate fitted data for Eurofer 97 \n",
    "T_fit = np.linspace(0, 1000, 200)\n",
    "Property_fit1 = polynomial_model(T_fit, *popt1)\n",
    "Property_fit2 = polynomial_model(T_fit, *popt2)\n",
    "\n",
    "\n",
    "x_data_list = [T1, T2]\n",
    "y_data_list = [Property1,Property2]\n",
    "x_fit_list = [T_fit, T_fit]\n",
    "y_fit_list = [Property_fit1, Property_fit2]\n",
    "\n",
    "custom_multi_plot(x_data_list, y_data_list, x_fit_list, y_fit_list,\n",
    "                  x_label='Temperature [K]', y_label= r'Emissivity', \n",
    "                  title='Eurofer Hemispherical Emissivity versus Temperature', \n",
    "                  data_labels=['Hemispherical, as-rolled', 'Hemispherical, polished'], fit_labels=['Fit 1', 'Fit 2'],\n",
    "                  data_colors=['blue', 'green'], fit_colors=['red', 'purple'], \n",
    "                  scale='linear', xlim=(300, 1000), ylim=(0, 0.4))"
   ]
  },
  {
   "cell_type": "code",
   "execution_count": null,
   "id": "2458e7a1-fa2a-43ab-b77b-2d5365947e06",
   "metadata": {},
   "outputs": [],
   "source": []
  },
  {
   "cell_type": "code",
   "execution_count": null,
   "id": "48d1d0b2-6f90-4497-bf68-43a557512157",
   "metadata": {},
   "outputs": [],
   "source": []
  },
  {
   "cell_type": "code",
   "execution_count": null,
   "id": "acbc9b96-d223-4a8c-869c-479f50397d20",
   "metadata": {},
   "outputs": [],
   "source": []
  },
  {
   "cell_type": "code",
   "execution_count": null,
   "id": "103c8ca2-c2c9-47fc-a138-3a157f4478c3",
   "metadata": {},
   "outputs": [],
   "source": []
  }
 ],
 "metadata": {
  "kernelspec": {
   "display_name": "Python 3 (ipykernel)",
   "language": "python",
   "name": "python3"
  },
  "language_info": {
   "codemirror_mode": {
    "name": "ipython",
    "version": 3
   },
   "file_extension": ".py",
   "mimetype": "text/x-python",
   "name": "python",
   "nbconvert_exporter": "python",
   "pygments_lexer": "ipython3",
   "version": "3.12.2"
  }
 },
 "nbformat": 4,
 "nbformat_minor": 5
}
