{
 "cells": [
  {
   "cell_type": "code",
   "execution_count": null,
   "id": "3bb29f05-1c7f-413b-a58a-416e7fd4c69e",
   "metadata": {},
   "outputs": [],
   "source": [
    "import numpy as np\n",
    "from scipy.optimize import curve_fit\n",
    "\n",
    "# Define the quadratic model\n",
    "def quadratic_model(T, a, b, c):\n",
    "    return a + b*T + c*T**2\n",
    "\n",
    "# Function to calculate and return goodness-of-fit parameters\n",
    "def calculate_fit_parameters(T, Diff):\n",
    "    # Perform curve fitting\n",
    "    popt, _ = curve_fit(quadratic_model, T, Diff)\n",
    "    \n",
    "    # Calculate the residuals\n",
    "    residuals = Diff - quadratic_model(T, *popt)\n",
    "\n",
    "    # Calculate the total sum of squares (TSS)\n",
    "    ss_tot = np.sum((Diff - np.mean(Diff)) ** 2)\n",
    "\n",
    "    # Calculate the residual sum of squares (RSS)\n",
    "    ss_res = np.sum(residuals ** 2)\n",
    "\n",
    "    # Calculate R-squared\n",
    "    r_squared = 1 - (ss_res / ss_tot)\n",
    "\n",
    "    # Calculate the reduced chi-squared\n",
    "    # Degrees of freedom: number of observations - number of parameters\n",
    "    degrees_of_freedom = len(T) - len(popt)\n",
    "    reduced_chi_squared = ss_res / degrees_of_freedom\n",
    "\n",
    "    # Data to be written\n",
    "    euro_data = {\n",
    "        'Optimized parameters [a, b, c]': popt,\n",
    "        \"R-squared\": r_squared,\n",
    "        \"Reduced chi-squared\": reduced_chi_squared\n",
    "    }\n",
    "\n",
    "    # Display the formatted output in the Jupyter Notebook cell\n",
    "    output = \"# Goodness-of-fit parameters\\n\"\n",
    "    for key, value in euro_data.items():\n",
    "        output += f'\\n{key}: {value}\\n'\n",
    "\n",
    "    return output, popt\n"
   ]
  }
 ],
 "metadata": {
  "kernelspec": {
   "display_name": "Python 3 (ipykernel)",
   "language": "python",
   "name": "python3"
  },
  "language_info": {
   "codemirror_mode": {
    "name": "ipython",
    "version": 3
   },
   "file_extension": ".py",
   "mimetype": "text/x-python",
   "name": "python",
   "nbconvert_exporter": "python",
   "pygments_lexer": "ipython3",
   "version": "3.9.12"
  }
 },
 "nbformat": 4,
 "nbformat_minor": 5
}
