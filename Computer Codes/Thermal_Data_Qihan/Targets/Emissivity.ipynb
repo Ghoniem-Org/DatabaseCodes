{
 "cells": [
  {
   "cell_type": "code",
   "execution_count": 1,
   "id": "initial_id",
   "metadata": {
    "collapsed": true,
    "ExecuteTime": {
     "end_time": "2024-07-15T08:13:25.188027200Z",
     "start_time": "2024-07-15T08:13:24.135358300Z"
    }
   },
   "outputs": [],
   "source": [
    "%reload_ext autoreload\n",
    "%autoreload 2\n",
    "%matplotlib inline\n",
    "\n",
    "import sys\n",
    "sys.path.append(r'C:\\Users\\fuqih\\Documents\\GitHub\\DatabaseCodes_QF\\Computer Codes\\Targets')\n",
    "import numpy as np\n",
    "import matplotlib.pyplot as plt\n",
    "from Utilities import OutputExcel, clear_sheet\n",
    "import pandas as pd"
   ]
  },
  {
   "cell_type": "code",
   "execution_count": 2,
   "outputs": [
    {
     "name": "stdout",
     "output_type": "stream",
     "text": [
      "finished\n"
     ]
    }
   ],
   "source": [
    "sheetname = \"Emissivity\"\n",
    "clear_sheet(sheetname)"
   ],
   "metadata": {
    "collapsed": false,
    "ExecuteTime": {
     "end_time": "2024-07-15T08:13:39.108526300Z",
     "start_time": "2024-07-15T08:13:38.420840900Z"
    }
   },
   "id": "a9562a31974d5716"
  },
  {
   "cell_type": "markdown",
   "source": [
    "### \"T. Ech´aniz, I. G. de Arrieta, A. Gil-Mu˜ noz, J. Fern´andez-Pereda, R. Fuente, M. Klimenkov, G. L´opez, Infrared emissivity of reduced-activation eurofer 97 for fusion reactor applications, Journal of Nuclear Materials 549 (2021) 152907.\""
   ],
   "metadata": {
    "collapsed": false
   },
   "id": "3975ca217abe0201"
  },
  {
   "cell_type": "code",
   "execution_count": 3,
   "outputs": [],
   "source": [
    "# Define the temperature range and sizes\n",
    "T = np.arange(300, 1001, 10)\n",
    "n = len(T)\n",
    "\n",
    "# Define the data points for Polished and Rolled\n",
    "Polished = np.array([\n",
    "    [428.823529411765, 0.119205789571349],\n",
    "    [524.705882352941, 0.130441269252180],\n",
    "    [625.882352941177, 0.142931898311375],\n",
    "    [725.882352941176, 0.155424011876044],\n",
    "    [822.352941176471, 0.174860642048617]\n",
    "])\n",
    "\n",
    "Rolled = np.array([\n",
    "    [472.352941176471, 0.181611430692151],\n",
    "    [572.941176470588, 0.214922991278530],\n",
    "    [674.117647058824, 0.244448320653182],\n",
    "    [772.352941176471, 0.273977361291520],\n",
    "    [874.117647058824, 0.302240118760438]\n",
    "])"
   ],
   "metadata": {
    "collapsed": false,
    "ExecuteTime": {
     "end_time": "2024-07-15T08:13:40.401560600Z",
     "start_time": "2024-07-15T08:13:40.305847800Z"
    }
   },
   "id": "62dcc7f0e2f92abd"
  },
  {
   "cell_type": "code",
   "execution_count": 4,
   "outputs": [],
   "source": [
    "# Define the functions\n",
    "rho1 = lambda T: 100 * (4.2757e-07 + 7.6271e-10 * T - 2.2529e-13 * T**2)\n",
    "rho2 = lambda T: 100 * (7e-07 + 3.15e-9 * T - 2.8e-14 * T**2)\n",
    "sigma1 = lambda T: 0.766 * (rho1(T) * T)**0.5 - (0.309 - 0.0889 * np.log(rho1(T) * T)) * (rho1(T) * T) - 0.0175 * (rho1(T) * T)**1.5\n",
    "sigma2 = lambda T: 0.766 * (rho2(T) * T)**0.5 - (0.309 - 0.0889 * np.log(rho2(T) * T)) * (rho2(T) * T) - 0.0175 * (rho2(T) * T)**1.5\n",
    "\n",
    "# Calculate sigma values\n",
    "s1 = np.array([sigma1(temp) for temp in T])\n",
    "s2 = np.array([sigma2(temp) for temp in T])"
   ],
   "metadata": {
    "collapsed": false,
    "ExecuteTime": {
     "end_time": "2024-07-15T08:13:40.766348700Z",
     "start_time": "2024-07-15T08:13:40.671956200Z"
    }
   },
   "id": "b13370c09e6da2b9"
  },
  {
   "cell_type": "code",
   "execution_count": 5,
   "outputs": [
    {
     "name": "stderr",
     "output_type": "stream",
     "text": [
      "C:\\Users\\fuqih\\AppData\\Local\\Temp\\ipykernel_19076\\417283496.py:19: UserWarning: Matplotlib is currently using agg, which is a non-GUI backend, so cannot show the figure.\n",
      "  plt.show()\n"
     ]
    }
   ],
   "source": [
    "# Plot the data\n",
    "fig = plt.figure('F82H Emissivity')\n",
    "plt.plot(T, s1, label='Polished fit', linewidth=2)\n",
    "plt.plot(T, s2, 'k', label='Rolled fit', linewidth=2)\n",
    "plt.plot(Polished[:,0], Polished[:,1], 'o', markersize=12, markerfacecolor='red', label='Polished data')\n",
    "plt.plot(Rolled[:,0], Rolled[:,1], '^', markersize=12, markerfacecolor='green', label='Rolled data')\n",
    "\n",
    "# Labeling and formatting\n",
    "plt.xlabel('Temperature [K]', fontsize=14, fontname='Times New Roman')\n",
    "plt.ylabel('Emissivity ($\\\\sigma$)', fontsize=14, fontname='Times New Roman')\n",
    "plt.xlim([300, 1000])\n",
    "plt.legend(loc='best', ncol=1, fontsize=12)\n",
    "plt.title('Thermal Emissivity of F82H', fontsize=14)\n",
    "plt.gca().tick_params(labelsize=14)\n",
    "plt.show()"
   ],
   "metadata": {
    "collapsed": false,
    "ExecuteTime": {
     "end_time": "2024-07-15T08:13:41.336460500Z",
     "start_time": "2024-07-15T08:13:40.972461500Z"
    }
   },
   "id": "d58effe283309aff"
  },
  {
   "cell_type": "code",
   "execution_count": 6,
   "outputs": [],
   "source": [
    "# Combine the data into a DataFrame\n",
    "df_combined = pd.DataFrame({\n",
    "    'Polished Temperature (K)': Polished[:, 0],\n",
    "    'Polished Emissivity': Polished[:, 1],\n",
    "    'Rolled Temperature (K)': Rolled[:, 0],\n",
    "    'Rolled Emissivity': Rolled[:, 1]\n",
    "})"
   ],
   "metadata": {
    "collapsed": false,
    "ExecuteTime": {
     "end_time": "2024-07-15T08:13:42.273970100Z",
     "start_time": "2024-07-15T08:13:42.185971300Z"
    }
   },
   "id": "58e5c2385587f40a"
  },
  {
   "cell_type": "code",
   "execution_count": 7,
   "outputs": [
    {
     "name": "stdout",
     "output_type": "stream",
     "text": [
      "finished\n"
     ]
    }
   ],
   "source": [
    "inital_row = 1\n",
    "title = \"Thermal Emissivity of F82H\"\n",
    "reference = [\"T. Ech´aniz, I. G. de Arrieta, A. Gil-Mu˜ noz, J. Fern´andez-Pereda, R. Fuente, M. Klimenkov, G. L´opez, Infrared emissivity of reduced-activation eurofer 97 for fusion reactor applications, Journal of Nuclear Materials 549 (2021) 152907.\"]\n",
    "\n",
    "OutputExcel(sheetname, title, reference, inital_row, [df_combined], [fig])"
   ],
   "metadata": {
    "collapsed": false,
    "ExecuteTime": {
     "end_time": "2024-07-15T08:13:44.066371700Z",
     "start_time": "2024-07-15T08:13:43.469039600Z"
    }
   },
   "id": "34482bd5337a6142"
  },
  {
   "cell_type": "code",
   "execution_count": null,
   "outputs": [],
   "source": [],
   "metadata": {
    "collapsed": false
   },
   "id": "fc209e7d269cc321"
  }
 ],
 "metadata": {
  "kernelspec": {
   "display_name": "Python 3",
   "language": "python",
   "name": "python3"
  },
  "language_info": {
   "codemirror_mode": {
    "name": "ipython",
    "version": 2
   },
   "file_extension": ".py",
   "mimetype": "text/x-python",
   "name": "python",
   "nbconvert_exporter": "python",
   "pygments_lexer": "ipython2",
   "version": "2.7.6"
  }
 },
 "nbformat": 4,
 "nbformat_minor": 5
}
