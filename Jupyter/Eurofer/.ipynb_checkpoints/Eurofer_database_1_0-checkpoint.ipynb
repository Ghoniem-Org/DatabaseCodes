{
 "cells": [
  {
   "cell_type": "markdown",
   "id": "32929cb3-b4ad-4e04-a276-2e014cdbf396",
   "metadata": {},
   "source": [
    "# Eurofer Properties Database\n",
    "\n"
   ]
  },
  {
   "cell_type": "markdown",
   "id": "ceb68264-54f6-4f30-82ca-1d52f7bd1f63",
   "metadata": {},
   "source": [
    "## Table of Contents\n",
    "- [Abstract](#abstract)\n",
    "- [Introduction](#introduction)\n",
    "- [Section 1: Manufacturing & Heat Treatment](#section-1)\n",
    "  - [1.1. Composition](#composition)\n",
    "  - [1.2. Heat Treatment](#heat_treatment)\n",
    "  - [1.3. Microstructure](#microstructure)\n",
    "  - [1.4. Product Forms](#forms)\n",
    "- [Section 2: Thermo-physical Properties](#section-2)\n",
    "  - [2.1. Density](#density)\n",
    "  - [2.2. Thermal Diffusivity](#diffusivity)\n",
    "  - [2.3. Specific Heat](#cp)\n",
    "  - [2.4. Thermal Conductivity](#conductivity)\n",
    "  - [2.5. Coefficient of Thermal Expansion](#expansion)\n",
    "  - [2.6. Thermal Emissivity](#emissivity)\n",
    "  - [2.7. Electrical Resistivity](#resistivity)\n",
    "  - [2.8. Magnetic Properties](#magnetic)\n",
    "  - [2.9. Elastic Properties](#elastic)\n",
    "- [Section 3: Mechanical Properties](#mechanical)"
   ]
  },
  {
   "cell_type": "markdown",
   "id": "bd72455d-0dc9-4897-a388-83d353596929",
   "metadata": {},
   "source": [
    "<a id=\"abstract\"></a>\n",
    "<h2 style=\"text-align: center;\">Abstract</h2>\n",
    "<p style=\"text-align: justify;\">\n",
    "We present a comprehensive database for the ferritic-martensitic steel Eurofer97.  The database is intended to assist in the mechanical design of components manufactured from reduced activation 9 Cr steels (e.g. Eurofer97), in particular, in a fusion reactor power source.  The database is classified into three main categories: (1) fabrication and microstructure, (2) thermophysical properties, and (3) mechanical properties.  The effects of irradiation (both neutron and ion) on the properties of Eurofer are also discussed. Data for each property is collected from various sources available in the public domain.  The sources of data are given together with links to the original publication for verification or corrections. Various functional forms are developed to describe the properties of Eurofer97 as a function of temperature, and if available, as a function of the irradiation dose.\n",
    "</p>"
   ]
  },
  {
   "cell_type": "markdown",
   "id": "b43b1d9c-8798-4210-bccf-ccfbbea1dd38",
   "metadata": {},
   "source": [
    "<a id=\"introduction\"></a>\n",
    "<h2>Introduction</h2>"
   ]
  },
  {
   "cell_type": "markdown",
   "id": "e1ea1a9b-9700-4c9e-9301-b349916762f1",
   "metadata": {},
   "source": [
    "<a id=\"section-1\"></a>\n",
    "<h2>Section 1: Manufacturing & Heat Treatment</h2>\n",
    "<a id=\"composition\"></a>\n",
    "<h3> 1.1. Composition</h3>"
   ]
  },
  {
   "cell_type": "markdown",
   "id": "3c63074b-7d70-45ba-a0f9-6c2141d957a0",
   "metadata": {},
   "source": [
    "<table border=\"1\">\n",
    "    <tr>\n",
    "        <th>Specification</th>\n",
    "        <th>Producer analysis, heat 83699/83698 (Ø100 mm/14 mm)</th>\n",
    "        <th>IMF analysis, heat 83698, 1.5 mm plate</th>\n",
    "        <th>CEA analysis, 3 heats, 5 sizes</th>\n",
    "    </tr>\n",
    "    <tr>\n",
    "        <td>Cr</td>\n",
    "        <td>8.50-9.50</td>\n",
    "        <td>8.87/8.82</td>\n",
    "        <td>9.21</td>\n",
    "        <td>8.68-9.04</td>\n",
    "    </tr>\n",
    "    <tr>\n",
    "        <td>C</td>\n",
    "        <td>0.09-0.12</td>\n",
    "        <td>0.12/0.11</td>\n",
    "        <td>0.104</td>\n",
    "        <td>0.092-0.117</td>\n",
    "    </tr>\n",
    "    <tr>\n",
    "        <td>Mn</td>\n",
    "        <td>0.20-0.60</td>\n",
    "        <td>0.42/0.47</td>\n",
    "        <td>0.502</td>\n",
    "        <td>0.41-0.50</td>\n",
    "    </tr>\n",
    "    <tr>\n",
    "        <td>V</td>\n",
    "        <td>0.15-0.25</td>\n",
    "        <td>0.19/0.20</td>\n",
    "        <td>0.204</td>\n",
    "        <td>0.17-0.19</td>\n",
    "    </tr>\n",
    "    <tr>\n",
    "        <td>W</td>\n",
    "        <td>1.0-1.2</td>\n",
    "        <td>1.10/1.09</td>\n",
    "        <td>1.148</td>\n",
    "        <td>1.03-1.26</td>\n",
    "    </tr>\n",
    "    <tr>\n",
    "        <td>Ta</td>\n",
    "        <td>0.05-0.09</td>\n",
    "        <td>0.14/0.13</td>\n",
    "        <td>0.14</td>\n",
    "        <td>0.10-0.15</td>\n",
    "    </tr>\n",
    "    <tr>\n",
    "        <td>N2</td>\n",
    "        <td>0.015-0.045</td>\n",
    "        <td>0.018/0.020</td>\n",
    "        <td>0.0234</td>\n",
    "        <td>0.018-0.0226</td>\n",
    "    </tr>\n",
    "    <tr>\n",
    "        <td>O2</td>\n",
    "        <td>max. 0.01</td>\n",
    "        <td>0.0013/0.0010</td>\n",
    "        <td><0.001</td>\n",
    "        <td>0.0005-0.0011</td>\n",
    "    </tr>\n",
    "    <tr>\n",
    "        <td>P</td>\n",
    "        <td>max. 0.005</td>\n",
    "        <td>0.004/0.005</td>\n",
    "        <td><0.04</td>\n",
    "        <td>0.011-0.013</td>\n",
    "    </tr>\n",
    "    <tr>\n",
    "        <td>S</td>\n",
    "        <td>max. 0.005</td>\n",
    "        <td>0.003/0.004</td>\n",
    "        <td>0.004</td>\n",
    "        <td><0.003</td>\n",
    "    </tr>\n",
    "    <tr>\n",
    "        <td>B</td>\n",
    "        <td>max. 0.001*)</td>\n",
    "        <td><0.0005/0.001</td>\n",
    "        <td><0.01</td>\n",
    "        <td><0.001</td>\n",
    "    </tr>\n",
    "    <tr>\n",
    "        <td>Ti</td>\n",
    "        <td>max. 0.01</td>\n",
    "        <td>0.008/0.005</td>\n",
    "        <td>0.004</td>\n",
    "        <td>0.001-0.005</td>\n",
    "    </tr>\n",
    "    <tr>\n",
    "        <td>Nb</td>\n",
    "        <td>max. 0.001*)</td>\n",
    "        <td><0.0010/0.0016</td>\n",
    "        <td>12 ppm</td>\n",
    "        <td><20 ppm</td>\n",
    "    </tr>\n",
    "    <tr>\n",
    "        <td>Mo</td>\n",
    "        <td>max. 0.005*)</td>\n",
    "        <td><0.0010/0.0010</td>\n",
    "        <td><8</td>\n",
    "        <td><20-100</td>\n",
    "    </tr>\n",
    "    <tr>\n",
    "        <td>Ni</td>\n",
    "        <td>max. 0.005*)</td>\n",
    "        <td><0.007/0.0200</td>\n",
    "        <td>214</td>\n",
    "        <td>400-600</td>\n",
    "    </tr>\n",
    "    <tr>\n",
    "        <td>Cu</td>\n",
    "        <td>max. 0.005*)</td>\n",
    "        <td>0.022/0.0016</td>\n",
    "        <td>35</td>\n",
    "        <td>30-400</td>\n",
    "    </tr>\n",
    "    <tr>\n",
    "        <td>Al</td>\n",
    "        <td>max. 0.01*)</td>\n",
    "        <td>0.008/0.009</td>\n",
    "        <td>51</td>\n",
    "        <td>30-40</td>\n",
    "    </tr>\n",
    "    <tr>\n",
    "        <td>Si</td>\n",
    "        <td>max. 0.05*)</td>\n",
    "        <td>0.07/0.04</td>\n",
    "        <td>430</td>\n",
    "        <td>300-600</td>\n",
    "    </tr>\n",
    "    <tr>\n",
    "        <td>Co</td>\n",
    "        <td>max. 0.005*)</td>\n",
    "        <td>0.004/0.006</td>\n",
    "        <td>67</td>\n",
    "        <td>80-200</td>\n",
    "    </tr>\n",
    "    <tr>\n",
    "        <td>As+Sn+Sb+Zr</td>\n",
    "        <td>max. 0.05</td>\n",
    "        <td><0.015/0.015</td>\n",
    "        <td> </td>\n",
    "        <td><65-145</td>\n",
    "    </tr>\n",
    "</table>\n"
   ]
  },
  {
   "cell_type": "markdown",
   "id": "8bb495d8-3e9c-4980-8e04-b0b4c6dac476",
   "metadata": {},
   "source": [
    "<a id=\"heat_treatment\"></a>\n",
    "<h3> 1.2. Heat Treatment</h3>\n",
    "For a heat treatment sequence involving initial austenitization followed by a lower temperature tempering, example stages and their effects on the microstructure of ferritic/martensitic steel are as follows:\n",
    "\n",
    "1. **Austenitizing: 979°C for 2 hours, followed by air cooling**\n",
    "   - **Purpose**: This stage is aimed at fully austenitizing the steel, converting the initial microstructure (whether ferrite, pearlite, or a mix) to austenite. This high temperature ensures the dissolution of carbides and homogenizes the alloy elements within the steel matrix.\n",
    "\n",
    "2. **Tempering: 739°C for 4 hours, followed by air cooling**\n",
    "   - **Purpose**: The second stage is significantly lower than the first and serves to temper the martensitic structure formed after the first air cooling. Tempering at this temperature typically leads to a substantial transformation within the microstructure, focusing more on enhancing toughness and ductility while reducing hardness to a controlled extent compared to higher tempering temperatures.\n",
    "\n",
    "\n",
    "#### Expected Microstructure\n",
    "\n",
    "- **Tempered Martensite**: The quick cooling after the initial austenitization forms martensite, which is hard and brittle. The subsequent tempering at 739°C is essential for modifying this martensite. At this temperature, the martensitic structure undergoes significant changes:\n",
    "  - **Carbide Precipitation**: Finer and more evenly distributed carbides form during this tempering stage. These carbides are crucial for increasing the toughness and wear resistance of the steel.\n",
    "  - **Relaxation of Martensite**: The brittle martensitic lattice relaxes slightly, reducing internal stresses and thus decreasing the brittleness.\n",
    "  \n",
    "- **Potential Bainitic Transformation**: Depending on the specific alloying elements and their concentrations, tempering at this lower temperature (739°C) might also facilitate the formation of lower bainite. Bainite is a plate-like microstructure that offers a beneficial combination of strength and ductility. Its formation would depend significantly on the alloy composition and the actual cooling rate post-tempering.\n",
    "\n",
    "- **Retained Austenite Stability**: At this lower tempering temperature, any retained austenite from the first cooling is more likely to remain stable or transform into bainite rather than converting into martensite, which can add to the ductility and toughness of the final product.\n",
    "\n",
    "The image below depicts the expected microstructure of tempered martensitic steel. It shows finely dispersed carbides within a martensitic matrix, typical for steel that has been tempered at lower temperatures."
   ]
  },
  {
   "cell_type": "markdown",
   "id": "5164003a-c260-4c79-bfeb-d91fe6d7b5d9",
   "metadata": {},
   "source": [
    "\n",
    "<figure>\n",
    "   <img src=\"Figures/Tempered_martensite.webp\" alt=\"Steel microstructure\", width=\"80%\">\n",
    "    <figcaption>Fig.1 - Microstructure of tempered martensitic steel. It shows finely dispersed carbides within a martensitic matrix, typical for steel that has been tempered at lower temperatures.</figcaption>\n",
    "</figure>"
   ]
  },
  {
   "cell_type": "markdown",
   "id": "aefeeae4-b457-45cc-91e3-1facd6bec37f",
   "metadata": {},
   "source": [
    "3. **Aging: 600°C for 5000 hours**\n",
    "**Long-term aging** at 600°C for 5000 hours is a specific type of annealing used primarily to understand and enhance the stability of ferritic/martensitic steels under prolonged thermal exposure. This process is particularly relevant in power generation and aerospace applications where components may experience elevated temperatures for extended periods.\n",
    "\n",
    "##### Goals of the Annealing Process\n",
    "1. **Stabilize the Microstructure**: Continuous exposure at 600°C aims to stabilize the microstructure against changes during future operational use.\n",
    "2. **Optimize Mechanical Properties**: The process intends to balance ductility, toughness, and strength, making the steel suitable for long-term applications at high temperatures.\n",
    "\n",
    "#### Expected Microstructural Changes\n",
    "1. **Precipitation and Growth of Carbides**: At 600°C, you can expect the precipitation of various carbides, such as M<sub>23</sub>C<sub>6</sub> (where M can be Cr, Fe), and their growth or coalescence over the extended period. This affects the steel's hardness and tensile strength.\n",
    "2. **Formation of Laves Phase**: In some ferritic/martensitic steels, especially those with high alloy content, a Fe<sub>2</sub>Mo-type Laves phase can form, which could influence creep resistance negatively by depleting the matrix of beneficial alloying elements like W and Mo.\n",
    "3. **Spheroidization of Existing Carbides**: If the material has undergone previous treatments that formed pearlite or other lamellar structures, spheroidization might occur, leading to a more ductile microstructure.\n",
    "\n",
    "#### Impact on Properties\n",
    "- **Decrease in Hardness and Strength**: Due to the growth and coalescence of carbides, the material might lose some hardness and tensile strength.\n",
    "- **Increase in Toughness and Ductility**: The spheroidization and stabilization processes tend to increase material ductility and fracture toughness, which are critical for components that undergo thermal cycling.\n",
    "- **Potential Decrease in Creep Resistance**: The formation of Laves phases and the growth of large carbides can reduce the creep resistance, an essential factor for high-temperature applications.\n"
   ]
  },
  {
   "cell_type": "markdown",
   "id": "1b85f89d-cd40-4877-b948-f0d12d33aa30",
   "metadata": {},
   "source": [
    "<a id=\"microstructure\"></a>\n",
    "<h3> 1.3. Microstructure</h3>\n",
    "\n",
    "<figure>\n",
    "    <img src=\"Figures/Eurofer_Grain_Structure.jpg\" alt=\"Orientation image maps from EBSD data\" style=\"width:80%;\">\n",
    "    <figcaption>Fig.2 - Orientation image maps from EBSD data of ODS-Eurofer steel austenitized at different temperatures (60×40 μm², step size 40 nm).</figcaption>\n",
    "</figure>\n",
    "\n",
    " <figure>\n",
    "    <img src=\"Figures/Eurofer_Grain_Size.jpg\" alt=\"Grain Size\" style=\"width:80%;\">\n",
    "    <figcaption>Fig.3 - Mean grain size dependence on austenitizing temperature.</figcaption>\n",
    "</figure>\n",
    "\n",
    "Source of Figures: "
   ]
  },
  {
   "cell_type": "markdown",
   "id": "fd5c26b8-0691-49a6-b4e5-0b355622ff08",
   "metadata": {},
   "source": [
    "<a id=\"product\"></a>\n",
    "<h3> 1.4. Product Forms</h3>"
   ]
  },
  {
   "cell_type": "markdown",
   "id": "d3e942cf-9aee-4a15-95bb-ee9c476d0d13",
   "metadata": {},
   "source": [
    "<a id=\"section-2\"></a>\n",
    "<h2>Section 2: Thermophysical Properties</h2>"
   ]
  },
  {
   "cell_type": "code",
   "execution_count": 1,
   "id": "9c04f5e07595ffe7",
   "metadata": {
    "ExecuteTime": {
     "end_time": "2024-08-22T05:58:02.798786800Z",
     "start_time": "2024-08-22T05:58:02.675436200Z"
    },
    "collapsed": false,
    "jupyter": {
     "outputs_hidden": false
    }
   },
   "outputs": [],
   "source": [
    "%load_ext autoreload\n",
    "%autoreload 2\n",
    "\n",
    "from Utilities_modeling_1_2 import *\n",
    "from Utilities_plots_1_2 import *\n",
    "\n",
    "excel_filename = 'Eurofer_data.xlsx'\n",
    "material_name = \"Eurofer\"\n",
    "\n",
    "# Temperature range and initializations\n",
    "T = np.arange(300, 1000, 10)\n",
    "n = len(T)\n",
    "RT = 273\n",
    "f_size = 10\n",
    "legend_size = 6\n",
    "m_size = 60\n"
   ]
  },
  {
   "cell_type": "markdown",
   "id": "01f87bd0-2372-4266-87e6-ab4b5561f959",
   "metadata": {},
   "source": [
    "<a id=\"density\"></a>\n",
    "<h3>2.1. Density</h3>"
   ]
  },
  {
   "cell_type": "code",
   "execution_count": 2,
   "id": "115bd08a92bc2089",
   "metadata": {
    "ExecuteTime": {
     "end_time": "2024-08-22T05:58:06.018985Z",
     "start_time": "2024-08-22T05:58:05.504663900Z"
    },
    "collapsed": false,
    "jupyter": {
     "outputs_hidden": false
    }
   },
   "outputs": [
    {
     "data": {
      "text/html": [
       "<div>\n",
       "<style scoped>\n",
       "    .dataframe tbody tr th:only-of-type {\n",
       "        vertical-align: middle;\n",
       "    }\n",
       "\n",
       "    .dataframe tbody tr th {\n",
       "        vertical-align: top;\n",
       "    }\n",
       "\n",
       "    .dataframe thead th {\n",
       "        text-align: right;\n",
       "    }\n",
       "</style>\n",
       "<table border=\"1\" class=\"dataframe\">\n",
       "  <thead>\n",
       "    <tr style=\"text-align: right;\">\n",
       "      <th></th>\n",
       "      <th>EUROFER97TempK</th>\n",
       "      <th>EUROFER97DensityKg_m_3</th>\n",
       "    </tr>\n",
       "  </thead>\n",
       "  <tbody>\n",
       "    <tr>\n",
       "      <th>0</th>\n",
       "      <td>293</td>\n",
       "      <td>7750</td>\n",
       "    </tr>\n",
       "    <tr>\n",
       "      <th>1</th>\n",
       "      <td>373</td>\n",
       "      <td>7728</td>\n",
       "    </tr>\n",
       "    <tr>\n",
       "      <th>2</th>\n",
       "      <td>473</td>\n",
       "      <td>7699</td>\n",
       "    </tr>\n",
       "    <tr>\n",
       "      <th>3</th>\n",
       "      <td>573</td>\n",
       "      <td>7666</td>\n",
       "    </tr>\n",
       "    <tr>\n",
       "      <th>4</th>\n",
       "      <td>673</td>\n",
       "      <td>7633</td>\n",
       "    </tr>\n",
       "    <tr>\n",
       "      <th>5</th>\n",
       "      <td>773</td>\n",
       "      <td>7596</td>\n",
       "    </tr>\n",
       "    <tr>\n",
       "      <th>6</th>\n",
       "      <td>873</td>\n",
       "      <td>7558</td>\n",
       "    </tr>\n",
       "  </tbody>\n",
       "</table>\n",
       "</div>"
      ],
      "text/plain": [
       "   EUROFER97TempK  EUROFER97DensityKg_m_3\n",
       "0             293                    7750\n",
       "1             373                    7728\n",
       "2             473                    7699\n",
       "3             573                    7666\n",
       "4             673                    7633\n",
       "5             773                    7596\n",
       "6             873                    7558"
      ]
     },
     "metadata": {},
     "output_type": "display_data"
    },
    {
     "ename": "NameError",
     "evalue": "name 'x_data_list' is not defined",
     "output_type": "error",
     "traceback": [
      "\u001b[1;31m---------------------------------------------------------------------------\u001b[0m",
      "\u001b[1;31mNameError\u001b[0m                                 Traceback (most recent call last)",
      "\u001b[1;32m~\\AppData\\Local\\Temp\\ipykernel_82016\\2594085018.py\u001b[0m in \u001b[0;36m<module>\u001b[1;34m\u001b[0m\n\u001b[0;32m      8\u001b[0m \u001b[0my_lim\u001b[0m \u001b[1;33m=\u001b[0m \u001b[1;33m[\u001b[0m\u001b[1;36m0\u001b[0m\u001b[1;33m,\u001b[0m \u001b[1;36m10000\u001b[0m\u001b[1;33m]\u001b[0m\u001b[1;33m\u001b[0m\u001b[1;33m\u001b[0m\u001b[0m\n\u001b[0;32m      9\u001b[0m \u001b[0mdata_labels\u001b[0m \u001b[1;33m=\u001b[0m \u001b[1;33m[\u001b[0m\u001b[1;34m'Tavassoli2004a'\u001b[0m\u001b[1;33m]\u001b[0m\u001b[1;33m\u001b[0m\u001b[1;33m\u001b[0m\u001b[0m\n\u001b[1;32m---> 10\u001b[1;33m \u001b[0mdata_marker_sizes\u001b[0m \u001b[1;33m=\u001b[0m \u001b[1;33m[\u001b[0m\u001b[0mm_size\u001b[0m\u001b[1;33m]\u001b[0m \u001b[1;33m*\u001b[0m \u001b[0mlen\u001b[0m\u001b[1;33m(\u001b[0m\u001b[0mx_data_list\u001b[0m\u001b[1;33m)\u001b[0m\u001b[1;33m\u001b[0m\u001b[1;33m\u001b[0m\u001b[0m\n\u001b[0m\u001b[0;32m     11\u001b[0m \u001b[1;33m\u001b[0m\u001b[0m\n\u001b[0;32m     12\u001b[0m \u001b[1;31m# Concatenate and sort data for fitting\u001b[0m\u001b[1;33m\u001b[0m\u001b[1;33m\u001b[0m\u001b[0m\n",
      "\u001b[1;31mNameError\u001b[0m: name 'x_data_list' is not defined"
     ]
    }
   ],
   "source": [
    "# Load excel data for desired property name\n",
    "material_property = \"Eurofer_density\"\n",
    "var_names, variables, dataframe = load_data(excel_filename, material_property, header_rows_list=[1, 3], num_data_rows=7)\n",
    "\n",
    "x_label = 'Temperature [K]'\n",
    "y_label = r'$\\rho$ [Kg/m$^3$]'\n",
    "x_lim = [290, 1000]\n",
    "y_lim = [0, 10000]\n",
    "data_labels = ['Tavassoli2004a']\n",
    "data_marker_sizes = [m_size] * len(x_data_list)\n",
    "\n",
    "# Concatenate and sort data for fitting\n",
    "vars_x = variables[::2] \n",
    "vars_y = variables[1::2]\n",
    "T_data, Y_data = concatenate_and_sort(vars_x, vars_y)\n",
    "x_data_list = [x for x in vars_x]\n",
    "y_data_list = vars_y\n",
    "data_marker_sizes = [m_size] * len(x_data_list)\n",
    "\n",
    "# Fit the data\n",
    "p = [1, 1, 1, 1]\n",
    "fit_result = get_model_fit_and_print_it(T_data, Y_data, fit_func='poly', param_initials=p, method='leastsq',\\\n",
    "    material_name=material_name, property_name=material_property, eq_digits=3, print_bool=True)\n",
    "\n",
    "plot_data(x_data_list, y_data_list, T, fit_result, f_size, data_marker_sizes,\\\n",
    "          x_label, y_label, x_lim, y_lim, data_labels,\\\n",
    "          title=material_property + \" of \" + material_name)\n"
   ]
  },
  {
   "cell_type": "markdown",
   "id": "0d90cfff-046e-4e9c-a651-5f091a9d685d",
   "metadata": {
    "ExecuteTime": {
     "end_time": "2024-08-21T06:17:49.494923200Z",
     "start_time": "2024-08-21T06:17:49.478923200Z"
    }
   },
   "source": [
    "Data Source:[Tavassoli 2004](https://github.com/ZapOrg/ZapRepo/blob/main/RAFM%20Steels/Eurofer/Tavassoli2004--Fusion%20Demo%20Interim%20Structural%20Design%20Criteria%20(DISDC).pdf.pdf)"
   ]
  },
  {
   "cell_type": "markdown",
   "id": "998a06a9-49d8-4a92-babb-691eac8f0416",
   "metadata": {},
   "source": [
    "<a id=diffusivity></a>\n",
    "<h3>2.2. Thermal Diffusivity</h3>"
   ]
  },
  {
   "cell_type": "code",
   "execution_count": null,
   "id": "2c7bcc29-0e9b-4af9-96b9-4f20577e2b64",
   "metadata": {
    "ExecuteTime": {
     "end_time": "2024-08-22T05:58:13.121345Z",
     "start_time": "2024-08-22T05:58:12.692428300Z"
    }
   },
   "outputs": [],
   "source": [
    "material_property = \"Eurofer_diffusivity\"\n",
    "var_names, variables = load_data(excel_filename, material_property, header_rows_list=[1, 3], num_data_rows=8)\n",
    "x_label = 'Temperature [K]'\n",
    "y_label = r'$Diffusivity$ cm$^2$/s]'\n",
    "x_lim = [290, 1000]\n",
    "y_lim = [0, 0.1]\n",
    "data_labels = ['Mergia']\n",
    "\n",
    "\n",
    "# Concatenate and sort data for fitting\n",
    "vars_x = variables[::2] \n",
    "vars_y = variables[1::2]\n",
    "T_data, Y_data = concatenate_and_sort(vars_x, vars_y)\n",
    "x_data_list = [x for x in vars_x]\n",
    "y_data_list = vars_y\n",
    "data_marker_sizes = [m_size] * len(x_data_list)\n",
    "\n",
    "# Fit the data\n",
    "fit_result = get_model_fit(T_data, Y_data, material_name, material_property, fit_func='poly', fit_initials={'a': 1, 'b': 1, 'c': 1})\n",
    "\n",
    "# Plot the data\n",
    "plot_data(x_data_list, y_data_list,T, fit_result, x_label, y_label, x_lim, y_lim, data_labels, material_property, f_size, legend_size, m_size)\n"
   ]
  },
  {
   "cell_type": "markdown",
   "id": "6ee65660-2004-43ef-b7cc-0c1a14b7351d",
   "metadata": {
    "tags": []
   },
   "source": [
    "<a id=cp></a>\n",
    "<h3>2.3. Specific Heat</h3>"
   ]
  },
  {
   "cell_type": "code",
   "execution_count": null,
   "id": "0a4687e1-d3c3-4eeb-8fbc-15a062e3d840",
   "metadata": {
    "ExecuteTime": {
     "end_time": "2024-08-22T05:58:14.602896900Z",
     "start_time": "2024-08-22T05:58:14.176625800Z"
    }
   },
   "outputs": [],
   "source": [
    "material_property = \"Eurofer_specific_heat\"\n",
    "var_names, variables = load_data(excel_filename, material_property, header_rows_list=[1, 3], num_data_rows=24)\n",
    "x_label = 'Temperature [K]'\n",
    "y_label = r'Specific Heat [J/Kg.K]'\n",
    "x_lim = [290, 1000]\n",
    "y_lim = [0, 1200]\n",
    "data_labels = ['Mergia','Chun']\n",
    "\n",
    "\n",
    "# Concatenate and sort data for fitting\n",
    "vars_x = variables[::2] \n",
    "vars_y = variables[1::2]\n",
    "T_data, Y_data = concatenate_and_sort(vars_x, vars_y)\n",
    "x_data_list = [x for x in vars_x]\n",
    "y_data_list = vars_y\n",
    "\n",
    "# Fit the data\n",
    "p = [1, 1, 1, 1]\n",
    "fit_result = get_model_fit_and_print_it(T_data, Y_data, fit_func='poly', param_initials=p, method='leastsq',\\\n",
    "    material_name=material_name, property_name=material_property, eq_digits=3, print_bool=True)\n",
    "\n",
    "plot_data(x_data_list, y_data_list, T, fit_result, f_size, data_marker_sizes,\\\n",
    "          x_label, y_label, x_lim, y_lim, data_labels,\\\n",
    "          title=material_property + \" of \" + material_name)\n"
   ]
  },
  {
   "cell_type": "markdown",
   "id": "d8317558f89096f8",
   "metadata": {},
   "source": [
    "<a id=cp></a>\n",
    "<h3>2.4. Conductivity</h3>"
   ]
  },
  {
   "cell_type": "code",
   "execution_count": null,
   "id": "af318bdd-5677-4c98-8694-a254bc9f27d0",
   "metadata": {
    "ExecuteTime": {
     "end_time": "2024-08-22T05:58:16.875588Z",
     "start_time": "2024-08-22T05:58:16.313748900Z"
    }
   },
   "outputs": [],
   "source": [
    "material_property = \"Eurofer_conductivity\"\n",
    "var_names, variables = load_data(excel_filename, material_property, header_rows_list=[1, 3], num_data_rows=13)\n",
    "x_label ='Temperature [K]'\n",
    "y_label =r'Conductivity [W/m.K]'\n",
    "x_lim = [290, 1000]\n",
    "y_lim = [0, 40]\n",
    "data_labels = ['Mergia','Chun']\n",
    "\n",
    "\n",
    "\n",
    "# Concatenate and sort data for fitting\n",
    "vars_x = variables[::2] \n",
    "vars_y = variables[1::2]\n",
    "T_data, Y_data = concatenate_and_sort(vars_x, vars_y)\n",
    "x_data_list = [x for x in vars_x]\n",
    "y_data_list = vars_y\n",
    "\n",
    "# Fit the data\n",
    "fit_result = get_model_fit(T_data, Y_data, material_name, material_property, fit_func='poly', fit_initials={'a': 1, 'b': 1, 'c': 1, 'd':1})\n",
    "\n",
    "# Plot the data\n",
    "plot_data(x_data_list, y_data_list,T, fit_result, x_label, y_label, x_lim, y_lim, data_labels, material_property, \n",
    "          f_size, legend_size, m_size)"
   ]
  },
  {
   "cell_type": "markdown",
   "id": "a7959f3b017190d4",
   "metadata": {},
   "source": [
    "<a id=cp></a>\n",
    "<h3>2.5. Resistivity</h3>"
   ]
  },
  {
   "cell_type": "code",
   "execution_count": null,
   "id": "8ddba4c6ea191911",
   "metadata": {
    "ExecuteTime": {
     "end_time": "2024-08-22T05:58:18.641030500Z",
     "start_time": "2024-08-22T05:58:18.187196Z"
    },
    "collapsed": false,
    "jupyter": {
     "outputs_hidden": false
    }
   },
   "outputs": [],
   "source": [
    "material_property = \"Eurofer_resistivity\"\n",
    "var_names, variables = load_data(excel_filename, material_property, header_rows_list=[1, 3], num_data_rows=23)\n",
    "x_label='Temperature [K]'\n",
    "y_label=r'Resistivity [$\\times 10^{-8} \\Omega$.m]'\n",
    "x_lim=[300, 1000]\n",
    "y_lim=[0, 140]\n",
    "data_labels = ['Mergia']\n",
    "\n",
    "# Concatenate and sort data for fitting\n",
    "vars_x = variables[::2] \n",
    "vars_y = variables[1::2]\n",
    "T_data, Y_data = concatenate_and_sort(vars_x, vars_y)\n",
    "x_data_list = [x for x in vars_x]\n",
    "y_data_list = vars_y\n",
    "\n",
    "# Fit the data\n",
    "fit_result = get_model_fit(T_data, Y_data, material_name, material_property, fit_func='poly', fit_initials={'a': 1, 'b': 1, 'c': 1, 'd':1})\n",
    "\n",
    "# Plot the data\n",
    "plot_data(x_data_list, y_data_list,T, fit_result, x_label, y_label, x_lim, y_lim, data_labels, material_property, \n",
    "          f_size, legend_size, m_size)"
   ]
  },
  {
   "cell_type": "markdown",
   "id": "60fd193e27365593",
   "metadata": {},
   "source": [
    "<a id=cp></a>\n",
    "<h3>2.6. CTE</h3>"
   ]
  },
  {
   "cell_type": "code",
   "execution_count": null,
   "id": "8a5d78ddc0ad7c27",
   "metadata": {
    "ExecuteTime": {
     "end_time": "2024-08-22T05:58:22.549489900Z",
     "start_time": "2024-08-22T05:58:21.997568400Z"
    },
    "collapsed": false,
    "jupyter": {
     "outputs_hidden": false
    }
   },
   "outputs": [],
   "source": [
    "material_property = \"Eurofer_CTE\"\n",
    "var_names, variables = load_data(excel_filename, material_property, header_rows_list=[1, 3], num_data_rows=7)\n",
    "\n",
    "x_label='Temperature [K]'\n",
    "y_label=r'CTE [$10^{-6}$/K]'\n",
    "x_lim=[300, 1000]\n",
    "y_lim=[0, 14]\n",
    "data_labels = ['Chun']\n",
    "\n",
    "\n",
    "# Concatenate and sort data for fitting\n",
    "vars_x = variables[::2] \n",
    "vars_y = variables[1::2]\n",
    "T_data, Y_data = concatenate_and_sort(vars_x, vars_y)\n",
    "x_data_list = [x for x in vars_x]\n",
    "y_data_list = vars_y\n",
    "\n",
    "# Fit the data\n",
    "fit_result = get_model_fit(T_data, Y_data, material_name, material_property, fit_func='poly', fit_initials={'a': 1, 'b': 1, 'c': 1, 'd':1})\n",
    "\n",
    "# Plot the data\n",
    "plot_data(x_data_list, y_data_list,T, fit_result, x_label, y_label, x_lim, y_lim, data_labels, material_property, \n",
    "          f_size, legend_size, m_size)"
   ]
  },
  {
   "cell_type": "markdown",
   "id": "db80eecb3048562f",
   "metadata": {},
   "source": [
    "<a id=cp></a>\n",
    "<h3>2.7. Emissivity</h3>"
   ]
  },
  {
   "cell_type": "code",
   "execution_count": null,
   "id": "e8bf038a83f1a9f8",
   "metadata": {
    "ExecuteTime": {
     "end_time": "2024-08-22T05:58:24.447012100Z",
     "start_time": "2024-08-22T05:58:23.936692800Z"
    },
    "collapsed": false,
    "jupyter": {
     "outputs_hidden": false
    }
   },
   "outputs": [],
   "source": [
    "material_property = \"Eurofer_emissivity\"\n",
    "var_names, variables = load_data(excel_filename, material_property, header_rows_list=[1, 3], num_data_rows=5)\n",
    "x_label = 'Temperature [K]'\n",
    "y_label = r'Hemispherical Emissivity'\n",
    "x_lim=[400, 1000]\n",
    "y_lim=[0, 0.5]\n",
    "data_labels = ['Echániz rolled Hemispherical','Echániz polished Hemispherical']\n",
    "\n",
    "# Concatenate and sort data for fitting\n",
    "vars_x = variables[:4:2] \n",
    "vars_y = variables[1:4:2]\n",
    "T_data, Y_data = concatenate_and_sort(vars_x, vars_y)\n",
    "x_data_list = [x for x in vars_x]\n",
    "y_data_list = vars_y\n",
    "\n",
    "# Fit the data\n",
    "fit_result = get_model_fit(T_data, Y_data, material_name, material_property, fit_func='poly', fit_initials={'a': 1, 'b': 1, 'c': 1})\n",
    "\n",
    "# Plot the data\n",
    "plot_data(x_data_list, y_data_list,T, fit_result, x_label, y_label, x_lim, y_lim, data_labels, material_property, \n",
    "          f_size, legend_size, m_size)\n"
   ]
  },
  {
   "cell_type": "code",
   "execution_count": null,
   "id": "264e3148-bceb-4650-8d13-cf8b981d0b2c",
   "metadata": {},
   "outputs": [],
   "source": [
    "material_property = \"Eurofer_emissivity\"\n",
    "var_names, variables = load_data(excel_filename, material_property, header_rows_list=[1, 3], num_data_rows=5)\n",
    "x_label = 'Temperature [K]'\n",
    "y_label = r'Normal Emissivity'\n",
    "x_lim=[340, 1000]\n",
    "y_lim=[0, 0.5]\n",
    "data_labels = ['Echániz polished Normal']\n",
    "\n",
    "vars_x = variables[::2]\n",
    "vars_y = variables[1::2]\n",
    "\n",
    "# Extract only the third element from vars_x and vars_y\n",
    "\n",
    "# Creating lists with only the first column\n",
    "x_data_list = [vars_x[2]]\n",
    "y_data_list = [vars_y[2]]\n",
    "\n",
    "# Fit the data\n",
    "fit_result1 = get_model_fit(x_data_list, y_data_list, material_name, material_property, fit_func='poly', fit_initials={'a': 1, 'b': 1, 'c': 1})\n",
    "\n",
    "# Plot the data\n",
    "plot_data(x_data_list, y_data_list,T, fit_result1, x_label, y_label, x_lim, y_lim, data_labels, material_property, \n",
    "          f_size, legend_size, m_size)"
   ]
  },
  {
   "cell_type": "markdown",
   "id": "82e009500802eb06",
   "metadata": {},
   "source": [
    "<a id=cp></a>\n",
    "<h3>2.8. Elastic</h3> "
   ]
  },
  {
   "cell_type": "code",
   "execution_count": null,
   "id": "6514d2de42238a9f",
   "metadata": {
    "ExecuteTime": {
     "end_time": "2024-08-22T05:58:26.355183200Z",
     "start_time": "2024-08-22T05:58:25.907233400Z"
    },
    "collapsed": false,
    "jupyter": {
     "outputs_hidden": false
    }
   },
   "outputs": [],
   "source": [
    "material_property = \"Eurofer_elastic\"\n",
    "var_names, variables = load_data(excel_filename, material_property, header_rows_list=[1, 3], num_data_rows=9)\n",
    "x_label = 'Temperature [K]'\n",
    "y_label = 'Elastic Modulus [GPa]'\n",
    "x_lim=[300, 1000]\n",
    "y_lim=[0, 50]\n",
    "data_labels = ['Tavassoli2002']\n",
    "\n",
    "# Concatenate and sort data for fitting\n",
    "vars_x = variables[::2] \n",
    "vars_y = variables[1::2]\n",
    "T_data, Y_data = concatenate_and_sort(vars_x, vars_y)\n",
    "x_data_list = [x for x in vars_x]\n",
    "y_data_list = vars_y\n",
    "\n",
    "# Fit the data\n",
    "fit_result = get_model_fit(T_data, Y_data, material_name, material_property, fit_func='poly', fit_initials={'a': 1, 'b': 1, 'c': 1, 'd':1})\n",
    "\n",
    "# Plot the data\n",
    "plot_data(x_data_list, y_data_list,T, fit_result, x_label, y_label, x_lim, y_lim, data_labels, material_property, \n",
    "          f_size, legend_size, m_size)\n"
   ]
  },
  {
   "cell_type": "markdown",
   "id": "316629670547307c",
   "metadata": {},
   "source": [
    "<a id=cp></a>\n",
    "<h3>2.9. Hardness</h3m> "
   ]
  },
  {
   "cell_type": "code",
   "execution_count": null,
   "id": "a013cab31098fce6",
   "metadata": {
    "ExecuteTime": {
     "end_time": "2024-08-22T05:58:29.432516300Z",
     "start_time": "2024-08-22T05:58:28.916979900Z"
    },
    "collapsed": false,
    "jupyter": {
     "outputs_hidden": false
    }
   },
   "outputs": [],
   "source": [
    "material_property = \"Eurofer_hardness\"\n",
    "var_names, variables = load_data(excel_filename, material_property, header_rows_list=[1, 3], num_data_rows=12)\n",
    "x_label = 'Temperature [C]'\n",
    "y_label = 'Hardness [HV30]'\n",
    "x_lim=[0, 1200]\n",
    "y_lim=[0, 500]\n",
    "data_labels = ['1040C','1040C','980C','980']\n",
    "\n",
    "# Concatenate and sort data for fitting\n",
    "vars_x = variables[::2] \n",
    "vars_y = variables[1::2]\n",
    "T_data, Y_data = concatenate_and_sort(vars_x, vars_y)\n",
    "x_data_list = [x for x in vars_x]\n",
    "y_data_list = vars_y\n",
    "\n",
    "# Fit the data\n",
    "fit_result = get_model_fit(T_data, Y_data, material_name, material_property, fit_func='poly', fit_initials={'a':1, 'b':1, 'c':1, 'd':1})\n",
    "\n",
    "# Plot the data\n",
    "plot_data(x_data_list, y_data_list,T, fit_result, x_label, y_label, x_lim, y_lim, data_labels, material_property, \n",
    "          f_size, legend_size, m_size)\n",
    "\n"
   ]
  },
  {
   "cell_type": "markdown",
   "id": "58953e94c3e3f5b6",
   "metadata": {},
   "source": [
    "<a id=cp></a>\n",
    "<h3>2.10. Strength</h3m> "
   ]
  },
  {
   "cell_type": "code",
   "execution_count": null,
   "id": "383a7ca4548ef8f1",
   "metadata": {
    "ExecuteTime": {
     "end_time": "2024-08-22T05:58:31.799304300Z",
     "start_time": "2024-08-22T05:58:30.761769100Z"
    },
    "collapsed": false,
    "jupyter": {
     "outputs_hidden": false
    }
   },
   "outputs": [],
   "source": [
    "material_property = \"Eurofer_strength\"\n",
    "var_names, variables = load_data(excel_filename, material_property, header_rows_list=[1, 3], num_data_rows=15)\n",
    "x_label = 'Temperature [K]'\n",
    "y_label = 'Yield Strength [MPa]'\n",
    "x_lim=[RT, 1200]\n",
    "y_lim=[0, 1000]\n",
    "data_labels = ['Chun']\n",
    "m_size=20\n",
    "\n",
    "T_data = variables[10]+RT\n",
    "Y_data = variables[11]\n",
    "x_data_list = T_data\n",
    "y_data_list = Y_data\n",
    "\n",
    "fit_result = get_model_fit(T_data, Y_data, material_name, material_property, fit_func='poly', fit_initials={'a':1, 'b':1, 'c':1, 'd':1})\n",
    "\n",
    "# Plot the data\n",
    "plot_data(x_data_list, y_data_list,T, fit_result, x_label, y_label, x_lim, y_lim, data_labels, material_property, \n",
    "          f_size, legend_size, m_size)\n"
   ]
  },
  {
   "cell_type": "markdown",
   "id": "cb9df528378705a5",
   "metadata": {},
   "source": [
    "<a id=cp></a>\n",
    "<h3>2.11. Ductility</h3m> "
   ]
  },
  {
   "cell_type": "code",
   "execution_count": null,
   "id": "b62ae618a75da9fa",
   "metadata": {
    "ExecuteTime": {
     "end_time": "2024-08-22T05:58:37.565964700Z",
     "start_time": "2024-08-22T05:58:37.347182600Z"
    },
    "collapsed": false,
    "jupyter": {
     "outputs_hidden": false
    }
   },
   "outputs": [],
   "source": [
    "material_property = \"Eurofer_ductility\"\n",
    "var_names, variables = load_data(excel_filename, material_property, header_rows_list=[1, 3], num_data_rows=15)"
   ]
  },
  {
   "cell_type": "code",
   "execution_count": null,
   "id": "62a7771ad36b1153",
   "metadata": {
    "ExecuteTime": {
     "end_time": "2024-08-22T05:58:38.350166Z",
     "start_time": "2024-08-22T05:58:37.787423400Z"
    },
    "collapsed": false,
    "jupyter": {
     "outputs_hidden": false
    }
   },
   "outputs": [],
   "source": [
    "# Temperature range and initializations\n",
    "T = np.arange(0, 800, 10)\n",
    "n = len(T)\n",
    "\n",
    "# Concatenate and sort data for fitting\n",
    "vars_x = variables[::2] \n",
    "vars_y = variables[1::2]\n",
    "\n",
    "T, k = concatenate_and_sort(vars_x, vars_y)\n",
    "\n",
    "x_data_list = [x for x in vars_x]\n",
    "y_data_list = vars_y\n",
    "data_labels = ['Chun', 'Van der Schaaf', 'Van der Schaaf', 'Van der Schaaf', 'Van der Schaaf', 'Van der Schaaf', 'Van der Schaaf']\n",
    "\n",
    "fit_result = get_model_fit_and_print_it(T, k, fit_func='poly', fit_fun_args_and_initials={'a':1, 'b':1, 'c':1, 'd':1}, material_name=material_name, property_name=material_property, eq_digits=6, print_bool=True)\n",
    "\n",
    "custom_multi_plot(x_data_list, y_data_list,\n",
    "                  x_label='Temperature [K]', y_label=r'Specific Heat [J/Kg.K]', title=material_property + \" of \" + material_name,\n",
    "                  scale='linear', font_size=fsize, xlim=[0, 800], ylim=[0, 35], \n",
    "                  grid=True, legend=True, data_labels=data_labels, fit_labels=None,\n",
    "                  data_colors=data_colors, fit_colors=None, data_marker_sizes=data_marker_sizes, \n",
    "                  fit_line_widths=[2], x_label_font_size=fsize, y_label_font_size=fsize, title_font_size=fsize, \n",
    "                  legend_font_size=fsize, legend_loc='lower left', legend_num_cols=2)\n",
    "# \n",
    "plot_fit_and_conf(T, fit_result, sigma=2, legend=True, legend_font_size=fsize, legend_loc='lower left', legend_num_cols=2,\n",
    "                  fit_line_color='red', pred_int_fill_color='grey', conf_int_fill_color='blue')"
   ]
  },
  {
   "cell_type": "markdown",
   "id": "b5bc272fa0a52dc9",
   "metadata": {},
   "source": [
    "<a id=cp></a>\n",
    "<h3>2.12. Toughness</h3m> "
   ]
  },
  {
   "cell_type": "code",
   "execution_count": null,
   "id": "2b26f9ce55844324",
   "metadata": {
    "ExecuteTime": {
     "end_time": "2024-08-22T05:58:39.486479300Z",
     "start_time": "2024-08-22T05:58:39.150422Z"
    },
    "collapsed": false,
    "jupyter": {
     "outputs_hidden": false
    }
   },
   "outputs": [],
   "source": [
    "material_property = \"Eurofer_toughness\"\n",
    "var_names, variables = load_data(excel_filename, material_property, header_rows_list=[1, 3], num_data_rows=23, room_temp=293)"
   ]
  },
  {
   "cell_type": "code",
   "execution_count": null,
   "id": "a3fa1dbc7ae155c6",
   "metadata": {
    "ExecuteTime": {
     "end_time": "2024-08-22T05:58:39.997484200Z",
     "start_time": "2024-08-22T05:58:39.481477900Z"
    },
    "collapsed": false,
    "jupyter": {
     "outputs_hidden": false
    }
   },
   "outputs": [],
   "source": [
    "# Temperature range and initializations\n",
    "T = np.arange(-200, 500, 10)\n",
    "n = len(T)\n",
    "\n",
    "# Concatenate and sort data for fitting\n",
    "vars_x = variables[::2] \n",
    "vars_y = variables[1::2]\n",
    "\n",
    "T, k = concatenate_and_sort(vars_x, vars_y)\n",
    "\n",
    "x_data_list = [x for x in vars_x]\n",
    "y_data_list = vars_y\n",
    "data_colors = ['green', 'red', 'magenta', 'blue', 'cyan', 'black', 'orange', 'purple', ]\n",
    "data_marker_sizes = [msize] * len(x_data_list)\n",
    "data_labels = ['Tavassoli', 'Tavassoli', '3Lindau', '3Lindau', '3Lindau']\n",
    "\n",
    "fit_result = get_model_fit_and_print_it(T, k, fit_func='poly', fit_fun_args_and_initials={'a':1, 'b':1, 'c':1, 'd':1}, material_name=material_name, property_name=material_property, eq_digits=6, print_bool=True)\n",
    "\n",
    "custom_multi_plot(x_data_list, y_data_list,\n",
    "                  x_label='Temperature [K]', y_label=r'Specific Heat [J/Kg.K]', title=material_property + \" of \" + material_name,\n",
    "                  scale='linear', font_size=fsize, xlim=[-200, 500], ylim=[0, 350], \n",
    "                  grid=True, legend=True, data_labels=data_labels, fit_labels=None,\n",
    "                  data_colors=data_colors, fit_colors=None, data_marker_sizes=data_marker_sizes, \n",
    "                  fit_line_widths=[2], x_label_font_size=fsize, y_label_font_size=fsize, title_font_size=fsize, \n",
    "                  legend_font_size=fsize, legend_loc='lower left', legend_num_cols=2)\n",
    "# \n",
    "plot_fit_and_conf(T, fit_result, sigma=2, legend=True, legend_font_size=fsize, legend_loc='lower left', legend_num_cols=2,\n",
    "                  fit_line_color='red', pred_int_fill_color='grey', conf_int_fill_color='blue')"
   ]
  },
  {
   "cell_type": "markdown",
   "id": "cf4ce95de2e54deb",
   "metadata": {},
   "source": [
    "<a id=cp></a>\n",
    "<h3>2.13. Creep</h3m> "
   ]
  },
  {
   "cell_type": "code",
   "execution_count": null,
   "id": "434de5cb62544ff7",
   "metadata": {
    "ExecuteTime": {
     "end_time": "2024-08-22T05:58:51.676516100Z",
     "start_time": "2024-08-22T05:58:51.456737800Z"
    },
    "collapsed": false,
    "jupyter": {
     "outputs_hidden": false
    }
   },
   "outputs": [],
   "source": [
    "material_property = \"Eurofer_creep\"\n",
    "var_names, variables = load_data(excel_filename, material_property, header_rows_list=[1, 3], num_data_rows=10, room_temp=293)"
   ]
  },
  {
   "cell_type": "code",
   "execution_count": null,
   "id": "7dfd656f4fdeacbd",
   "metadata": {
    "ExecuteTime": {
     "end_time": "2024-08-22T05:58:52.920931800Z",
     "start_time": "2024-08-22T05:58:52.409642600Z"
    },
    "collapsed": false,
    "jupyter": {
     "outputs_hidden": false
    }
   },
   "outputs": [],
   "source": [
    "# Temperature range and initializations\n",
    "T = np.arange(10, 300000, 10)\n",
    "n = len(T)\n",
    "\n",
    "# Concatenate and sort data for fitting\n",
    "vars_x = variables[::2] \n",
    "vars_y = variables[1::2]\n",
    "\n",
    "T, k = concatenate_and_sort(vars_x, vars_y)\n",
    "\n",
    "x_data_list = [x for x in vars_x]\n",
    "y_data_list = vars_y\n",
    "data_colors = ['green', 'red', 'magenta', 'blue', 'cyan', 'black', 'orange', 'purple', ]\n",
    "data_marker_sizes = [msize] * len(x_data_list)\n",
    "data_labels = ['Aiello', 'Aiello', 'Aiello', 'Aiello', 'Gaganidze']\n",
    "\n",
    "fit_result = get_model_fit_and_print_it(T, k, fit_func='poly', fit_fun_args_and_initials={'a':1, 'b':1, 'c':1, 'd':1}, material_name=material_name, property_name=material_property, eq_digits=6, print_bool=True)\n",
    "\n",
    "custom_multi_plot(x_data_list, y_data_list,\n",
    "                  x_label='Temperature [K]', y_label=r'Specific Heat [J/Kg.K]', title=material_property + \" of \" + material_name,\n",
    "                  scale='linear', font_size=fsize, xlim=[10, 300000], ylim=[0, 300], \n",
    "                  grid=True, legend=True, data_labels=data_labels, fit_labels=None,\n",
    "                  data_colors=data_colors, fit_colors=None, data_marker_sizes=data_marker_sizes, \n",
    "                  fit_line_widths=[2], x_label_font_size=fsize, y_label_font_size=fsize, title_font_size=fsize, \n",
    "                  legend_font_size=fsize, legend_loc='lower left', legend_num_cols=2)\n",
    "# \n",
    "plot_fit_and_conf(T, fit_result, sigma=2, legend=True, legend_font_size=fsize, legend_loc='lower left', legend_num_cols=2,\n",
    "                  fit_line_color='red', pred_int_fill_color='grey', conf_int_fill_color='blue')"
   ]
  },
  {
   "cell_type": "markdown",
   "id": "bf11ee4ca7debb68",
   "metadata": {},
   "source": [
    "<a id=cp></a>\n",
    "<h3>2.14. Fatigue</h3m> "
   ]
  },
  {
   "cell_type": "code",
   "execution_count": null,
   "id": "14024c242c7acf1d",
   "metadata": {
    "ExecuteTime": {
     "end_time": "2024-08-22T05:59:04.736981Z",
     "start_time": "2024-08-22T05:59:04.509262900Z"
    },
    "collapsed": false,
    "jupyter": {
     "outputs_hidden": false
    }
   },
   "outputs": [],
   "source": [
    "material_property = \"Eurofer_fatigue\"\n",
    "var_names, variables = load_data(excel_filename, material_property, header_rows_list=[1, 3], num_data_rows=31, room_temp=293)"
   ]
  },
  {
   "cell_type": "code",
   "execution_count": null,
   "id": "90690de523e5655",
   "metadata": {
    "ExecuteTime": {
     "end_time": "2024-08-22T05:59:05.824270300Z",
     "start_time": "2024-08-22T05:59:05.181468300Z"
    },
    "collapsed": false,
    "jupyter": {
     "outputs_hidden": false
    }
   },
   "outputs": [],
   "source": [
    "# Temperature range and initializations\n",
    "T = np.arange(10, 1000000, 10)\n",
    "n = len(T)\n",
    "\n",
    "# Concatenate and sort data for fitting\n",
    "vars_x = variables[::2] \n",
    "vars_y = variables[1::2]\n",
    "\n",
    "T, k = concatenate_and_sort(vars_x, vars_y)\n",
    "\n",
    "x_data_list = [x for x in vars_x]\n",
    "y_data_list = vars_y\n",
    "data_colors = ['green', 'red', 'magenta', 'blue', 'cyan', 'black', 'orange', 'purple', ]\n",
    "data_marker_sizes = [msize] * len(x_data_list)\n",
    "data_labels = ['Aiello', 'Aiello', 'Roldán', 'Roldán', 'Roldán', 'Gaganidze', 'Gaganidze']\n",
    "\n",
    "fit_result = get_model_fit_and_print_it(T, k, fit_func='poly', fit_fun_args_and_initials={'a':1, 'b':1, 'c':1, 'd':1}, material_name=material_name, property_name=material_property, eq_digits=6, print_bool=True)\n",
    "\n",
    "custom_multi_plot(x_data_list, y_data_list,\n",
    "                  x_label='Temperature [K]', y_label=r'Specific Heat [J/Kg.K]', title=material_property + \" of \" + material_name,\n",
    "                  scale='linear', font_size=fsize, xlim=[10, 1000000], ylim=[0, 2], \n",
    "                  grid=True, legend=True, data_labels=data_labels, fit_labels=None,\n",
    "                  data_colors=data_colors, fit_colors=None, data_marker_sizes=data_marker_sizes, \n",
    "                  fit_line_widths=[2], x_label_font_size=fsize, y_label_font_size=fsize, title_font_size=fsize, \n",
    "                  legend_font_size=fsize, legend_loc='lower left', legend_num_cols=2)\n",
    "# \n",
    "plot_fit_and_conf(T, fit_result, sigma=2, legend=True, legend_font_size=fsize, legend_loc='lower left', legend_num_cols=2,\n",
    "                  fit_line_color='red', pred_int_fill_color='grey', conf_int_fill_color='blue')"
   ]
  },
  {
   "cell_type": "code",
   "execution_count": null,
   "id": "5936a184cdf7963",
   "metadata": {
    "collapsed": false,
    "jupyter": {
     "outputs_hidden": false
    }
   },
   "outputs": [],
   "source": []
  }
 ],
 "metadata": {
  "kernelspec": {
   "display_name": "Python 3 (ipykernel)",
   "language": "python",
   "name": "python3"
  },
  "language_info": {
   "codemirror_mode": {
    "name": "ipython",
    "version": 3
   },
   "file_extension": ".py",
   "mimetype": "text/x-python",
   "name": "python",
   "nbconvert_exporter": "python",
   "pygments_lexer": "ipython3",
   "version": "3.9.12"
  }
 },
 "nbformat": 4,
 "nbformat_minor": 5
}
