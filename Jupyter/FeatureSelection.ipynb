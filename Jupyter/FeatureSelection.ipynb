{
 "cells": [
  {
   "cell_type": "code",
   "execution_count": 90,
   "id": "initial_id",
   "metadata": {
    "collapsed": true,
    "ExecuteTime": {
     "end_time": "2024-12-29T23:01:35.439141500Z",
     "start_time": "2024-12-29T23:01:35.290963500Z"
    }
   },
   "outputs": [
    {
     "name": "stdout",
     "output_type": "stream",
     "text": [
      "The autoreload extension is already loaded. To reload it, use:\n",
      "  %reload_ext autoreload\n"
     ]
    }
   ],
   "source": [
    "%load_ext autoreload\n",
    "%autoreload 2\n",
    "\n",
    "import sys\n",
    "sys.path.append(\"../Utilities\")\n",
    "from Utilities.CleanModels import *\n",
    "import operator\n",
    "import matplotlib.pyplot as plt"
   ]
  },
  {
   "cell_type": "code",
   "execution_count": 95,
   "outputs": [],
   "source": [
    "excel_filename = 'Eurofer/Eurofer_data_1_2.xlsx'\n",
    "material_property = \"Ultimate Strength_SH\"\n",
    "temp_data = pd.read_excel(excel_filename, sheet_name=material_property)\n",
    "temp_data = temp_data.dropna(how='all', axis=1)\n",
    "temp_data = temp_data.dropna(how='all', axis=0)"
   ],
   "metadata": {
    "collapsed": false,
    "ExecuteTime": {
     "end_time": "2024-12-29T23:02:13.615747900Z",
     "start_time": "2024-12-29T23:02:13.410291100Z"
    }
   },
   "id": "1c8b60c7656ea2d0"
  },
  {
   "cell_type": "code",
   "execution_count": 100,
   "outputs": [],
   "source": [
    "df = {}\n",
    "for i, col in enumerate(temp_data.columns):\n",
    "    previous_col = temp_data.columns[i-1]\n",
    "    if 'Unnamed' in col:\n",
    "        col_name = f\"{previous_col} {temp_data.iloc[0, i]}\"\n",
    "    else:\n",
    "        col_name = f\"{col} {temp_data.iloc[0, i]}\"\n",
    "    df[col_name] = pd.to_numeric(temp_data.iloc[1:, i], errors='coerce').dropna()"
   ],
   "metadata": {
    "collapsed": false,
    "ExecuteTime": {
     "end_time": "2024-12-29T23:03:14.053426600Z",
     "start_time": "2024-12-29T23:03:13.913273600Z"
    }
   },
   "id": "acfae5778eed2db2"
  },
  {
   "cell_type": "code",
   "execution_count": null,
   "outputs": [],
   "source": [],
   "metadata": {
    "collapsed": false
   },
   "id": "58e06365ef6114ad"
  }
 ],
 "metadata": {
  "kernelspec": {
   "display_name": "Python 3",
   "language": "python",
   "name": "python3"
  },
  "language_info": {
   "codemirror_mode": {
    "name": "ipython",
    "version": 2
   },
   "file_extension": ".py",
   "mimetype": "text/x-python",
   "name": "python",
   "nbconvert_exporter": "python",
   "pygments_lexer": "ipython2",
   "version": "2.7.6"
  }
 },
 "nbformat": 4,
 "nbformat_minor": 5
}
