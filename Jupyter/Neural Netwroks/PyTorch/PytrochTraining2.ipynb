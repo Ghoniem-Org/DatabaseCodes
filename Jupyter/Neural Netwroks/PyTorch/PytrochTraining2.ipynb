{
 "cells": [
  {
   "cell_type": "code",
   "execution_count": 2,
   "id": "initial_id",
   "metadata": {
    "ExecuteTime": {
     "end_time": "2025-01-20T20:53:13.768769100Z",
     "start_time": "2025-01-20T20:53:13.738413900Z"
    }
   },
   "outputs": [],
   "source": [
    "import numpy as np\n",
    "import pandas as pd\n",
    "import matplotlib.pyplot as plt\n",
    "\n",
    "import torch\n",
    "import torch.nn as nn\n",
    "import torch.optim as optim\n",
    "from torch.utils.data import DataLoader, TensorDataset, random_split, Subset\n",
    "\n",
    "from sklearn.preprocessing import StandardScaler"
   ]
  },
  {
   "cell_type": "code",
   "execution_count": 3,
   "id": "1c8b60c7656ea2d0",
   "metadata": {
    "ExecuteTime": {
     "end_time": "2025-01-20T20:53:14.034460700Z",
     "start_time": "2025-01-20T20:53:14.018258700Z"
    },
    "collapsed": false,
    "jupyter": {
     "outputs_hidden": false
    }
   },
   "outputs": [],
   "source": [
    "df = pd.read_csv('OutputFeatures.csv')\n",
    "features_to_disregard = ['Feature1', 'Feature6', 'Feature7', 'Feature8', 'Feature15']\n",
    "df = df.drop(columns=features_to_disregard)"
   ]
  },
  {
   "cell_type": "code",
   "execution_count": 4,
   "id": "fe47d1c658827b34",
   "metadata": {
    "ExecuteTime": {
     "end_time": "2025-01-20T20:53:14.349415600Z",
     "start_time": "2025-01-20T20:53:14.316594700Z"
    },
    "collapsed": false,
    "jupyter": {
     "outputs_hidden": false
    }
   },
   "outputs": [
    {
     "data": {
      "text/html": [
       "<div>\n",
       "<style scoped>\n",
       "    .dataframe tbody tr th:only-of-type {\n",
       "        vertical-align: middle;\n",
       "    }\n",
       "\n",
       "    .dataframe tbody tr th {\n",
       "        vertical-align: top;\n",
       "    }\n",
       "\n",
       "    .dataframe thead th {\n",
       "        text-align: right;\n",
       "    }\n",
       "</style>\n",
       "<table border=\"1\" class=\"dataframe\">\n",
       "  <thead>\n",
       "    <tr style=\"text-align: right;\">\n",
       "      <th></th>\n",
       "      <th>Target1</th>\n",
       "      <th>Feature0</th>\n",
       "      <th>Feature2</th>\n",
       "      <th>Feature3</th>\n",
       "      <th>Feature4</th>\n",
       "      <th>Feature5</th>\n",
       "      <th>Feature9</th>\n",
       "      <th>Feature10</th>\n",
       "      <th>Feature11</th>\n",
       "      <th>Feature12</th>\n",
       "      <th>Feature13</th>\n",
       "      <th>Feature14</th>\n",
       "    </tr>\n",
       "  </thead>\n",
       "  <tbody>\n",
       "    <tr>\n",
       "      <th>0</th>\n",
       "      <td>568.0</td>\n",
       "      <td>YS</td>\n",
       "      <td>18.9</td>\n",
       "      <td>bar</td>\n",
       "      <td>100</td>\n",
       "      <td>longitudinal</td>\n",
       "      <td>979</td>\n",
       "      <td>111</td>\n",
       "      <td>739</td>\n",
       "      <td>222</td>\n",
       "      <td>600</td>\n",
       "      <td>1000</td>\n",
       "    </tr>\n",
       "    <tr>\n",
       "      <th>1</th>\n",
       "      <td>479.0</td>\n",
       "      <td>YS</td>\n",
       "      <td>300.0</td>\n",
       "      <td>bar</td>\n",
       "      <td>100</td>\n",
       "      <td>longitudinal</td>\n",
       "      <td>979</td>\n",
       "      <td>111</td>\n",
       "      <td>739</td>\n",
       "      <td>222</td>\n",
       "      <td>600</td>\n",
       "      <td>1000</td>\n",
       "    </tr>\n",
       "    <tr>\n",
       "      <th>2</th>\n",
       "      <td>453.0</td>\n",
       "      <td>YS</td>\n",
       "      <td>400.0</td>\n",
       "      <td>bar</td>\n",
       "      <td>100</td>\n",
       "      <td>longitudinal</td>\n",
       "      <td>979</td>\n",
       "      <td>111</td>\n",
       "      <td>739</td>\n",
       "      <td>222</td>\n",
       "      <td>600</td>\n",
       "      <td>1000</td>\n",
       "    </tr>\n",
       "    <tr>\n",
       "      <th>3</th>\n",
       "      <td>404.0</td>\n",
       "      <td>YS</td>\n",
       "      <td>500.0</td>\n",
       "      <td>bar</td>\n",
       "      <td>100</td>\n",
       "      <td>longitudinal</td>\n",
       "      <td>979</td>\n",
       "      <td>111</td>\n",
       "      <td>739</td>\n",
       "      <td>222</td>\n",
       "      <td>600</td>\n",
       "      <td>1000</td>\n",
       "    </tr>\n",
       "    <tr>\n",
       "      <th>4</th>\n",
       "      <td>284.0</td>\n",
       "      <td>YS</td>\n",
       "      <td>600.0</td>\n",
       "      <td>bar</td>\n",
       "      <td>100</td>\n",
       "      <td>longitudinal</td>\n",
       "      <td>979</td>\n",
       "      <td>111</td>\n",
       "      <td>739</td>\n",
       "      <td>222</td>\n",
       "      <td>600</td>\n",
       "      <td>1000</td>\n",
       "    </tr>\n",
       "  </tbody>\n",
       "</table>\n",
       "</div>"
      ],
      "text/plain": [
       "   Target1 Feature0  Feature2 Feature3  Feature4      Feature5  Feature9  \\\n",
       "0    568.0       YS      18.9      bar       100  longitudinal       979   \n",
       "1    479.0       YS     300.0      bar       100  longitudinal       979   \n",
       "2    453.0       YS     400.0      bar       100  longitudinal       979   \n",
       "3    404.0       YS     500.0      bar       100  longitudinal       979   \n",
       "4    284.0       YS     600.0      bar       100  longitudinal       979   \n",
       "\n",
       "   Feature10  Feature11 Feature12  Feature13  Feature14  \n",
       "0        111        739      222         600       1000  \n",
       "1        111        739      222         600       1000  \n",
       "2        111        739      222         600       1000  \n",
       "3        111        739      222         600       1000  \n",
       "4        111        739      222         600       1000  "
      ]
     },
     "execution_count": 4,
     "metadata": {},
     "output_type": "execute_result"
    }
   ],
   "source": [
    "df.head()"
   ]
  },
  {
   "cell_type": "code",
   "execution_count": 5,
   "id": "b754498b8d100e3b",
   "metadata": {
    "ExecuteTime": {
     "end_time": "2025-01-20T20:53:14.620650500Z",
     "start_time": "2025-01-20T20:53:14.588269700Z"
    },
    "collapsed": false,
    "jupyter": {
     "outputs_hidden": false
    }
   },
   "outputs": [
    {
     "data": {
      "text/html": [
       "<div>\n",
       "<style scoped>\n",
       "    .dataframe tbody tr th:only-of-type {\n",
       "        vertical-align: middle;\n",
       "    }\n",
       "\n",
       "    .dataframe tbody tr th {\n",
       "        vertical-align: top;\n",
       "    }\n",
       "\n",
       "    .dataframe thead th {\n",
       "        text-align: right;\n",
       "    }\n",
       "</style>\n",
       "<table border=\"1\" class=\"dataframe\">\n",
       "  <thead>\n",
       "    <tr style=\"text-align: right;\">\n",
       "      <th></th>\n",
       "      <th>Target1</th>\n",
       "      <th>Feature2</th>\n",
       "      <th>Feature4</th>\n",
       "      <th>Feature9</th>\n",
       "      <th>Feature10</th>\n",
       "      <th>Feature11</th>\n",
       "      <th>Feature12</th>\n",
       "      <th>Feature13</th>\n",
       "      <th>Feature14</th>\n",
       "      <th>Feature0_UE</th>\n",
       "      <th>Feature0_US</th>\n",
       "      <th>Feature0_YS</th>\n",
       "      <th>Feature3_plate</th>\n",
       "      <th>Feature5_radial</th>\n",
       "      <th>Feature5_transverse</th>\n",
       "    </tr>\n",
       "  </thead>\n",
       "  <tbody>\n",
       "    <tr>\n",
       "      <th>0</th>\n",
       "      <td>568.0</td>\n",
       "      <td>18.9</td>\n",
       "      <td>100</td>\n",
       "      <td>979</td>\n",
       "      <td>111</td>\n",
       "      <td>739</td>\n",
       "      <td>222</td>\n",
       "      <td>600</td>\n",
       "      <td>1000</td>\n",
       "      <td>0</td>\n",
       "      <td>0</td>\n",
       "      <td>1</td>\n",
       "      <td>0</td>\n",
       "      <td>0</td>\n",
       "      <td>0</td>\n",
       "    </tr>\n",
       "    <tr>\n",
       "      <th>1</th>\n",
       "      <td>479.0</td>\n",
       "      <td>300.0</td>\n",
       "      <td>100</td>\n",
       "      <td>979</td>\n",
       "      <td>111</td>\n",
       "      <td>739</td>\n",
       "      <td>222</td>\n",
       "      <td>600</td>\n",
       "      <td>1000</td>\n",
       "      <td>0</td>\n",
       "      <td>0</td>\n",
       "      <td>1</td>\n",
       "      <td>0</td>\n",
       "      <td>0</td>\n",
       "      <td>0</td>\n",
       "    </tr>\n",
       "    <tr>\n",
       "      <th>2</th>\n",
       "      <td>453.0</td>\n",
       "      <td>400.0</td>\n",
       "      <td>100</td>\n",
       "      <td>979</td>\n",
       "      <td>111</td>\n",
       "      <td>739</td>\n",
       "      <td>222</td>\n",
       "      <td>600</td>\n",
       "      <td>1000</td>\n",
       "      <td>0</td>\n",
       "      <td>0</td>\n",
       "      <td>1</td>\n",
       "      <td>0</td>\n",
       "      <td>0</td>\n",
       "      <td>0</td>\n",
       "    </tr>\n",
       "    <tr>\n",
       "      <th>3</th>\n",
       "      <td>404.0</td>\n",
       "      <td>500.0</td>\n",
       "      <td>100</td>\n",
       "      <td>979</td>\n",
       "      <td>111</td>\n",
       "      <td>739</td>\n",
       "      <td>222</td>\n",
       "      <td>600</td>\n",
       "      <td>1000</td>\n",
       "      <td>0</td>\n",
       "      <td>0</td>\n",
       "      <td>1</td>\n",
       "      <td>0</td>\n",
       "      <td>0</td>\n",
       "      <td>0</td>\n",
       "    </tr>\n",
       "    <tr>\n",
       "      <th>4</th>\n",
       "      <td>284.0</td>\n",
       "      <td>600.0</td>\n",
       "      <td>100</td>\n",
       "      <td>979</td>\n",
       "      <td>111</td>\n",
       "      <td>739</td>\n",
       "      <td>222</td>\n",
       "      <td>600</td>\n",
       "      <td>1000</td>\n",
       "      <td>0</td>\n",
       "      <td>0</td>\n",
       "      <td>1</td>\n",
       "      <td>0</td>\n",
       "      <td>0</td>\n",
       "      <td>0</td>\n",
       "    </tr>\n",
       "  </tbody>\n",
       "</table>\n",
       "</div>"
      ],
      "text/plain": [
       "   Target1  Feature2  Feature4  Feature9  Feature10  Feature11 Feature12  \\\n",
       "0    568.0      18.9       100       979        111        739      222    \n",
       "1    479.0     300.0       100       979        111        739      222    \n",
       "2    453.0     400.0       100       979        111        739      222    \n",
       "3    404.0     500.0       100       979        111        739      222    \n",
       "4    284.0     600.0       100       979        111        739      222    \n",
       "\n",
       "   Feature13  Feature14  Feature0_UE  Feature0_US  Feature0_YS  \\\n",
       "0        600       1000            0            0            1   \n",
       "1        600       1000            0            0            1   \n",
       "2        600       1000            0            0            1   \n",
       "3        600       1000            0            0            1   \n",
       "4        600       1000            0            0            1   \n",
       "\n",
       "   Feature3_plate  Feature5_radial  Feature5_transverse  \n",
       "0               0                0                    0  \n",
       "1               0                0                    0  \n",
       "2               0                0                    0  \n",
       "3               0                0                    0  \n",
       "4               0                0                    0  "
      ]
     },
     "execution_count": 5,
     "metadata": {},
     "output_type": "execute_result"
    }
   ],
   "source": [
    "categorical_features = ['Feature0', 'Feature3', 'Feature5']\n",
    "df_encoded = pd.get_dummies(df, columns=categorical_features, drop_first=True)\n",
    "df_encoded.head()"
   ]
  },
  {
   "cell_type": "code",
   "execution_count": 6,
   "id": "ff147bd94c0efcc9",
   "metadata": {
    "ExecuteTime": {
     "end_time": "2025-01-20T20:53:15.252434Z",
     "start_time": "2025-01-20T20:53:15.225566100Z"
    },
    "collapsed": false,
    "jupyter": {
     "outputs_hidden": false
    }
   },
   "outputs": [
    {
     "name": "stdout",
     "output_type": "stream",
     "text": [
      "X tensor shape: torch.Size([530, 14])\n",
      "y tensor shape: torch.Size([530, 1])\n"
     ]
    }
   ],
   "source": [
    "y_unscaled = df_encoded['Target1']\n",
    "X_unscaled= df_encoded.drop(columns=['Target1'])\n",
    "\n",
    "scaler_X = StandardScaler()\n",
    "scaler_y = StandardScaler()\n",
    "\n",
    "X = scaler_X.fit_transform(X_unscaled)\n",
    "y = scaler_y.fit_transform(y_unscaled.values.reshape(-1, 1)).flatten()\n",
    "\n",
    "X = torch.tensor(X, dtype=torch.float32)\n",
    "y = torch.tensor(y, dtype=torch.float32).unsqueeze(1)\n",
    "\n",
    "print(f\"X tensor shape: {X.shape}\")\n",
    "print(f\"y tensor shape: {y.shape}\")\n",
    "\n",
    "NumberFeatures = X.shape[1]"
   ]
  },
  {
   "cell_type": "code",
   "execution_count": 7,
   "id": "33bfaaf7a4e154d3",
   "metadata": {
    "ExecuteTime": {
     "end_time": "2025-01-20T20:53:15.993311900Z",
     "start_time": "2025-01-20T20:53:15.977263800Z"
    },
    "collapsed": false,
    "jupyter": {
     "outputs_hidden": false
    }
   },
   "outputs": [],
   "source": [
    "class Model(nn.Module):\n",
    "    def __init__(self, input_size, hidden_size1, hidden_size2, output_size):\n",
    "        super(Model, self).__init__()\n",
    "        self.fc1 = nn.Linear(input_size, hidden_size1)\n",
    "        self.relu = nn.ReLU()\n",
    "        self.fc2 = nn.Linear(hidden_size1, hidden_size2)\n",
    "        self.fc3 = nn.Linear(hidden_size2, hidden_size1)\n",
    "        self.fc4 = nn.Linear(hidden_size1, output_size)\n",
    "    def forward(self, x):\n",
    "        x = self.relu(self.fc1(x))\n",
    "        x = self.relu(self.fc2(x))\n",
    "        x = self.relu(self.fc3(x))\n",
    "        x = self.fc4(x)\n",
    "        return x"
   ]
  },
  {
   "cell_type": "code",
   "execution_count": 8,
   "id": "196e782c04a2e73b",
   "metadata": {
    "ExecuteTime": {
     "end_time": "2025-01-20T19:53:07.518471300Z",
     "start_time": "2025-01-20T19:53:07.244411500Z"
    },
    "collapsed": false,
    "jupyter": {
     "outputs_hidden": false
    }
   },
   "outputs": [],
   "source": [
    "dataset = TensorDataset(X,y)\n",
    "train_size = int(0.8 * len(dataset))\n",
    "test_size = len(dataset) - train_size\n",
    "train_dataset, test_dataset = random_split(dataset, [train_size, test_size])"
   ]
  },
  {
   "cell_type": "code",
   "execution_count": 9,
   "id": "55afffb1b2224d1d",
   "metadata": {
    "ExecuteTime": {
     "end_time": "2025-01-20T19:53:07.518471300Z",
     "start_time": "2025-01-20T19:53:07.256381800Z"
    },
    "collapsed": false,
    "jupyter": {
     "outputs_hidden": false
    }
   },
   "outputs": [],
   "source": [
    "batch_size = 64\n",
    "train_loader = DataLoader(train_dataset, batch_size=batch_size, shuffle=True)"
   ]
  },
  {
   "cell_type": "code",
   "execution_count": 10,
   "id": "be5cf4ccb90c1abd",
   "metadata": {
    "ExecuteTime": {
     "end_time": "2025-01-20T19:53:09.035042100Z",
     "start_time": "2025-01-20T19:53:07.271939900Z"
    },
    "collapsed": false,
    "jupyter": {
     "outputs_hidden": false
    }
   },
   "outputs": [],
   "source": [
    "learning_rate = 4e-3\n",
    "weight_decay = 1e-5\n",
    "model = Model(input_size=NumberFeatures, hidden_size1=32, hidden_size2=32, output_size=1)\n",
    "criterion = nn.MSELoss()\n",
    "optimizer = optim.Adam(model.parameters(), lr=learning_rate, weight_decay=weight_decay)"
   ]
  },
  {
   "cell_type": "code",
   "execution_count": 11,
   "id": "4fb8101f9014dc52",
   "metadata": {
    "ExecuteTime": {
     "end_time": "2025-01-20T19:53:10.031188100Z",
     "start_time": "2025-01-20T19:53:09.037588200Z"
    },
    "collapsed": false,
    "jupyter": {
     "outputs_hidden": false
    }
   },
   "outputs": [
    {
     "name": "stdout",
     "output_type": "stream",
     "text": [
      "Epoch [5/50], Loss: 0.0649\n",
      "Epoch [10/50], Loss: 0.0202\n",
      "Epoch [15/50], Loss: 0.0132\n",
      "Epoch [20/50], Loss: 0.0129\n",
      "Epoch [25/50], Loss: 0.0097\n",
      "Epoch [30/50], Loss: 0.0105\n",
      "Epoch [35/50], Loss: 0.0094\n",
      "Epoch [40/50], Loss: 0.0096\n",
      "Epoch [45/50], Loss: 0.0078\n",
      "Epoch [50/50], Loss: 0.0077\n"
     ]
    }
   ],
   "source": [
    "epochs = 50\n",
    "Losses = []\n",
    "for epoch in range(epochs):\n",
    "    model.train()\n",
    "    total_loss = 0\n",
    "\n",
    "    for batch_X, batch_y in train_loader:\n",
    "        optimizer.zero_grad()\n",
    "        \n",
    "        predictions = model(batch_X)\n",
    "        loss = criterion(predictions, batch_y)\n",
    "        \n",
    "        loss.backward()\n",
    "        optimizer.step()\n",
    "\n",
    "        total_loss += loss.item()\n",
    "        \n",
    "    Losses.append(total_loss)  \n",
    "    if (epoch + 1) % 5 == 0:\n",
    "        print(f'Epoch [{epoch+1}/{epochs}], Loss: {total_loss / len(train_loader):.4f}')"
   ]
  },
  {
   "cell_type": "code",
   "execution_count": 12,
   "id": "d75affa5666ec6ab",
   "metadata": {
    "ExecuteTime": {
     "end_time": "2025-01-20T19:53:10.272121700Z",
     "start_time": "2025-01-20T19:53:10.023654500Z"
    },
    "collapsed": false,
    "jupyter": {
     "outputs_hidden": false
    }
   },
   "outputs": [
    {
     "data": {
      "image/png": "[encoded data removed]",
      "text/plain": [
       "<Figure size 432x288 with 1 Axes>"
      ]
     },
     "metadata": {
      "needs_background": "light"
     },
     "output_type": "display_data"
    }
   ],
   "source": [
    "plt.plot(Losses)\n",
    "plt.title(\"Loss vs epoch\")\n",
    "plt.xlabel(\"Epoch\")\n",
    "plt.ylabel(\"Loss\")\n",
    "plt.show()"
   ]
  },
  {
   "cell_type": "code",
   "execution_count": 13,
   "id": "7745502e53190c07",
   "metadata": {
    "ExecuteTime": {
     "end_time": "2025-01-20T22:41:37.554173500Z",
     "start_time": "2025-01-20T22:41:37.504593300Z"
    },
    "collapsed": false,
    "jupyter": {
     "outputs_hidden": false
    }
   },
   "outputs": [
    {
     "name": "stdout",
     "output_type": "stream",
     "text": [
      "Test Loss: 0.0304\n"
     ]
    }
   ],
   "source": [
    "model.eval()\n",
    "test_loss = 0\n",
    "Pred=[]\n",
    "with torch.no_grad():\n",
    "    for test_X, test_y in test_dataset:\n",
    "        predictions = model(test_X)\n",
    "        loss = criterion(predictions, test_y)\n",
    "        test_loss += loss.item()\n",
    "        Pred.append(scaler_y.inverse_transform([predictions.detach().numpy()])[0][0])\n",
    "\n",
    "print(f'Test Loss: {test_loss / len(test_dataset):.4f}')"
   ]
  },
  {
   "cell_type": "code",
   "execution_count": 14,
   "id": "15d915021d8fe501",
   "metadata": {
    "ExecuteTime": {
     "end_time": "2025-01-20T22:41:37.835631100Z",
     "start_time": "2025-01-20T22:41:37.820248Z"
    },
    "collapsed": false,
    "jupyter": {
     "outputs_hidden": false
    }
   },
   "outputs": [],
   "source": [
    "x_test, y_test = zip(*test_dataset)\n",
    "y_test = torch.tensor(y_test)\n",
    "x_test = torch.stack(x_test)\n",
    "\n",
    "y_test_original = scaler_y.inverse_transform(y_test.numpy().reshape(-1, 1)).flatten()\n",
    "x_test_original = scaler_X.inverse_transform(x_test.numpy())\n",
    "\n",
    "colors = []\n",
    "for row in x_test_original.T[9:12].T:\n",
    "    if row[0] == 1:\n",
    "        colors.append(1)\n",
    "    elif row[1] == 1:\n",
    "        colors.append(2)\n",
    "    elif row[2] == 1:\n",
    "        colors.append(3)\n",
    "    else:\n",
    "        colors.append(4)"
   ]
  },
  {
   "cell_type": "code",
   "execution_count": 15,
   "id": "11de02883d357f2f",
   "metadata": {
    "ExecuteTime": {
     "end_time": "2025-01-20T22:50:55.055821200Z",
     "start_time": "2025-01-20T22:50:54.248673600Z"
    },
    "collapsed": false,
    "jupyter": {
     "outputs_hidden": false
    }
   },
   "outputs": [
    {
     "data": {
      "image/png": "[encoded data removed]",
      "text/plain": [
       "<Figure size 864x864 with 4 Axes>"
      ]
     },
     "metadata": {
      "needs_background": "light"
     },
     "output_type": "display_data"
    }
   ],
   "source": [
    "unique_colors = np.unique(colors)\n",
    "\n",
    "# Create subplots (2 rows x 2 columns for 4 subplots)\n",
    "fig, axs = plt.subplots(2, 2, figsize=(12, 12))\n",
    "fig.suptitle(\"True vs Predicted Values for Each Color Category\", fontsize=16)\n",
    "\n",
    "TargetLabels = [\"Yield Strength\", \"Ultimate Strength\", \"Total Elongation\", \"Uniform Elongation\"]\n",
    "for i, color in enumerate(unique_colors):\n",
    "    ax = axs[i // 2, i % 2]  # Position in 2x2 grid\n",
    "    mask = colors == color \n",
    "    ax.scatter(\n",
    "        y_test_original[mask],\n",
    "        np.array(Pred)[mask],\n",
    "        label=f\"Category: {TargetLabels[i]}\",\n",
    "        marker=\"o\",\n",
    "    )\n",
    "    ax.plot([0, max(y_test_original[mask])], [0, max(y_test_original[mask])], color=\"red\", linestyle=\"--\", label=\"Perfect Line\")\n",
    "    ax.set_title(f\"{TargetLabels[i]}\", fontsize=14)\n",
    "    ax.set_xlabel(\"True Values\", fontsize=12)\n",
    "    ax.set_ylabel(\"Predicted Values\", fontsize=12)\n",
    "    ax.grid(alpha=0.4)\n",
    "    ax.legend(fontsize=10)\n",
    "\n",
    "plt.tight_layout(rect=[0, 0, 1, 0.96])  # Adjust layout to fit the suptitle\n",
    "plt.show()"
   ]
  },
  {
   "cell_type": "code",
   "execution_count": 16,
   "id": "f2ffb2f037e610a5",
   "metadata": {
    "ExecuteTime": {
     "end_time": "2025-01-20T22:38:40.167217700Z",
     "start_time": "2025-01-20T22:38:40.154205900Z"
    },
    "collapsed": false,
    "jupyter": {
     "outputs_hidden": false
    }
   },
   "outputs": [],
   "source": [
    "def input_parameters(\n",
    "        target_type,\n",
    "        shape,\n",
    "        size,\n",
    "        orientation,\n",
    "        austenitizing_temp,\n",
    "        austenitizing_time,\n",
    "        tempering_temp,\n",
    "        tempering_time,\n",
    "        aging_temp,\n",
    "        aging_time\n",
    "):\n",
    "    \n",
    "    if target_type == \"US\" or target_type == \"YS\":\n",
    "        temp = np.arange(0,700,5)\n",
    "    elif target_type == \"TE\" or target_type == \"UE\":\n",
    "        temp = np.arange(0,50,1)\n",
    "        \n",
    "    base_array = [0, target_type, 0, shape, size, orientation, austenitizing_temp , austenitizing_time, tempering_temp, tempering_time, aging_temp, aging_time]\n",
    "    input = np.array(base_array*len(temp)).reshape(-1, 12)\n",
    "    input[:, 2] = temp\n",
    "    \n",
    "    \n",
    "    NewInput = pd.DataFrame(input, columns=df.columns)\n",
    "    Newdf = pd.concat([df, NewInput], ignore_index=True)\n",
    "    \n",
    "    \n",
    "    Newdf_encoded = pd.get_dummies(Newdf, columns=['Feature0', 'Feature3', 'Feature5'], drop_first=True)\n",
    "    Newdf_encoded = Newdf_encoded.drop(columns=['Target1'])\n",
    "    Newdf_encoded = Newdf_encoded.tail(len(temp))\n",
    "    \n",
    "    inputx_scale = scaler_X.transform(Newdf_encoded)\n",
    "    return inputx_scale, temp"
   ]
  },
  {
   "cell_type": "code",
   "execution_count": 17,
   "id": "9ff4a87a2423b936",
   "metadata": {
    "ExecuteTime": {
     "end_time": "2025-01-20T22:40:25.856410200Z",
     "start_time": "2025-01-20T22:40:25.830976300Z"
    },
    "collapsed": false,
    "jupyter": {
     "outputs_hidden": false
    }
   },
   "outputs": [],
   "source": [
    "target_type = 'YS'\n",
    "inputx_scale, temp = input_parameters(\n",
    "    target_type = target_type, \n",
    "    shape = 'bar',\n",
    "    size = 100,\n",
    "    orientation = 'longitudinal',\n",
    "    austenitizing_temp = 979,\n",
    "    austenitizing_time = 111,\n",
    "    tempering_temp = 739,\n",
    "    tempering_time = 222,\n",
    "    aging_temp = 600,\n",
    "    aging_time = 1000\n",
    ")"
   ]
  },
  {
   "cell_type": "code",
   "execution_count": 18,
   "id": "5f73f6ec73ed5252",
   "metadata": {
    "ExecuteTime": {
     "end_time": "2025-01-20T22:40:26.204057200Z",
     "start_time": "2025-01-20T22:40:26.178518400Z"
    },
    "collapsed": false,
    "jupyter": {
     "outputs_hidden": false
    }
   },
   "outputs": [],
   "source": [
    "predictions = model(torch.tensor(inputx_scale,dtype=torch.float32))\n",
    "y_original = scaler_y.inverse_transform(predictions.detach().numpy().reshape(-1, 1)).flatten()"
   ]
  },
  {
   "cell_type": "code",
   "execution_count": 19,
   "id": "eee24238aa0a4824",
   "metadata": {
    "ExecuteTime": {
     "end_time": "2025-01-20T22:40:26.642038300Z",
     "start_time": "2025-01-20T22:40:26.527515100Z"
    },
    "collapsed": false,
    "jupyter": {
     "outputs_hidden": false
    }
   },
   "outputs": [
    {
     "data": {
      "image/png": "[encoded data removed]",
      "text/plain": [
       "<Figure size 576x432 with 1 Axes>"
      ]
     },
     "metadata": {
      "needs_background": "light"
     },
     "output_type": "display_data"
    }
   ],
   "source": [
    "plt.figure(figsize=(8, 6))\n",
    "plt.plot(temp,y_original, label = \"Pred\")\n",
    "plt.title(f\"{target_type} vs Temp\")\n",
    "plt.xlabel(\"temp\")\n",
    "plt.ylabel(target_type)\n",
    "plt.grid()\n",
    "plt.show()\n"
   ]
  },
  {
   "cell_type": "code",
   "execution_count": null,
   "id": "ea12cd016366f669",
   "metadata": {
    "collapsed": false,
    "jupyter": {
     "outputs_hidden": false
    }
   },
   "outputs": [],
   "source": []
  }
 ],
 "metadata": {
  "kernelspec": {
   "display_name": "Python 3 (ipykernel)",
   "language": "python",
   "name": "python3"
  },
  "language_info": {
   "codemirror_mode": {
    "name": "ipython",
    "version": 3
   },
   "file_extension": ".py",
   "mimetype": "text/x-python",
   "name": "python",
   "nbconvert_exporter": "python",
   "pygments_lexer": "ipython3",
   "version": "3.9.19"
  }
 },
 "nbformat": 4,
 "nbformat_minor": 5
}
