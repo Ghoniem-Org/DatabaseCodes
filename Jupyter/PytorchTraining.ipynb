{
 "cells": [
  {
   "cell_type": "code",
   "execution_count": 1,
   "id": "initial_id",
   "metadata": {
    "ExecuteTime": {
     "end_time": "2024-12-09T21:51:34.359718500Z",
     "start_time": "2024-12-09T21:51:32.135428400Z"
    }
   },
   "outputs": [],
   "source": [
    "import numpy as np\n",
    "%load_ext autoreload\n",
    "%autoreload 2\n",
    "\n",
    "import sys\n",
    "sys.path.append('/path/to/Utilities')\n",
    "\n",
    "from Utilities.models_2_0 import *\n",
    "import matplotlib.pyplot as plt"
   ]
  },
  {
   "cell_type": "code",
   "execution_count": 2,
   "id": "e38451fe8393b786",
   "metadata": {
    "ExecuteTime": {
     "end_time": "2024-12-09T21:51:35.032715500Z",
     "start_time": "2024-12-09T21:51:34.359718500Z"
    },
    "collapsed": false,
    "jupyter": {
     "outputs_hidden": false
    }
   },
   "outputs": [
    {
     "name": "stdout",
     "output_type": "stream",
     "text": [
      "(166,)\n",
      "(166,)\n"
     ]
    }
   ],
   "source": [
    "excel_filename = 'Eurofer/Eurofer_data_1_2.xlsx'\n",
    "material_property = \"Ultimate Strength_SH\"\n",
    "var_names, variables, dataframe = load_data(excel_filename, material_property, header_rows_list=[1, 3], num_data_rows=20, display_data_table_bool=False)\n",
    "\n",
    "X0 = np.concatenate(variables[::2])\n",
    "y0 = np.concatenate(variables[1::2])\n",
    "\n",
    "print(X0.shape)\n",
    "print(y0.shape)"
   ]
  },
  {
   "cell_type": "code",
   "execution_count": 3,
   "id": "44f96e3ca6701ad8",
   "metadata": {
    "ExecuteTime": {
     "end_time": "2024-12-09T21:51:35.356430100Z",
     "start_time": "2024-12-09T21:51:35.034756100Z"
    },
    "collapsed": false,
    "jupyter": {
     "outputs_hidden": false
    }
   },
   "outputs": [
    {
     "name": "stdout",
     "output_type": "stream",
     "text": [
      "(191,)\n",
      "(191,)\n"
     ]
    }
   ],
   "source": [
    "material_property1 = \"Yield Strength_SH\"\n",
    "var_names, variables, dataframe = load_data(excel_filename, material_property1, header_rows_list=[1, 3], num_data_rows=20, display_data_table_bool=False)\n",
    "\n",
    "X1 = np.concatenate(variables[::2])\n",
    "y1 = np.concatenate(variables[1::2])\n",
    "print(X1.shape)\n",
    "print(y1.shape)"
   ]
  },
  {
   "cell_type": "code",
   "execution_count": 4,
   "id": "d4ce2ce1df3ccf4",
   "metadata": {
    "ExecuteTime": {
     "end_time": "2024-12-09T22:58:06.606072600Z",
     "start_time": "2024-12-09T22:58:06.290888400Z"
    },
    "collapsed": false,
    "jupyter": {
     "outputs_hidden": false
    }
   },
   "outputs": [
    {
     "data": {
      "image/png": "[encoded data removed]",
      "text/plain": [
       "<Figure size 432x288 with 1 Axes>"
      ]
     },
     "metadata": {
      "needs_background": "light"
     },
     "output_type": "display_data"
    }
   ],
   "source": [
    "plt.scatter(X0, y0, label = material_property)\n",
    "plt.scatter(X1, y1, label = material_property1)\n",
    "plt.ylabel(\"Strength (MPa)\")\n",
    "plt.xlabel(\"Temp\")\n",
    "plt.legend()\n",
    "plt.show()"
   ]
  },
  {
   "cell_type": "markdown",
   "id": "de17c585660e8b55",
   "metadata": {
    "collapsed": false,
    "jupyter": {
     "outputs_hidden": false
    }
   },
   "source": [
    "### General NN"
   ]
  },
  {
   "cell_type": "code",
   "execution_count": 6,
   "id": "14814834599496e9",
   "metadata": {
    "ExecuteTime": {
     "end_time": "2024-12-09T21:51:38.156779400Z",
     "start_time": "2024-12-09T21:51:35.640596100Z"
    },
    "collapsed": false,
    "jupyter": {
     "outputs_hidden": false
    }
   },
   "outputs": [
    {
     "ename": "ModuleNotFoundError",
     "evalue": "No module named 'torch'",
     "output_type": "error",
     "traceback": [
      "\u001b[1;31m---------------------------------------------------------------------------\u001b[0m",
      "\u001b[1;31mModuleNotFoundError\u001b[0m                       Traceback (most recent call last)",
      "\u001b[1;32m~\\AppData\\Local\\Temp\\ipykernel_8548\\1520893080.py\u001b[0m in \u001b[0;36m<module>\u001b[1;34m\u001b[0m\n\u001b[1;32m----> 1\u001b[1;33m \u001b[1;32mimport\u001b[0m \u001b[0mtorch\u001b[0m\u001b[1;33m\u001b[0m\u001b[1;33m\u001b[0m\u001b[0m\n\u001b[0m\u001b[0;32m      2\u001b[0m \u001b[1;32mimport\u001b[0m \u001b[0mtorch\u001b[0m\u001b[1;33m.\u001b[0m\u001b[0mnn\u001b[0m \u001b[1;32mas\u001b[0m \u001b[0mnn\u001b[0m\u001b[1;33m\u001b[0m\u001b[1;33m\u001b[0m\u001b[0m\n\u001b[0;32m      3\u001b[0m \u001b[1;32mimport\u001b[0m \u001b[0mtorch\u001b[0m\u001b[1;33m.\u001b[0m\u001b[0moptim\u001b[0m \u001b[1;32mas\u001b[0m \u001b[0moptim\u001b[0m\u001b[1;33m\u001b[0m\u001b[1;33m\u001b[0m\u001b[0m\n\u001b[0;32m      4\u001b[0m \u001b[1;32mfrom\u001b[0m \u001b[0mtorch\u001b[0m\u001b[1;33m.\u001b[0m\u001b[0mutils\u001b[0m\u001b[1;33m.\u001b[0m\u001b[0mdata\u001b[0m \u001b[1;32mimport\u001b[0m \u001b[0mDataLoader\u001b[0m\u001b[1;33m,\u001b[0m \u001b[0mTensorDataset\u001b[0m\u001b[1;33m,\u001b[0m \u001b[0mrandom_split\u001b[0m\u001b[1;33m,\u001b[0m \u001b[0mSubset\u001b[0m\u001b[1;33m\u001b[0m\u001b[1;33m\u001b[0m\u001b[0m\n",
      "\u001b[1;31mModuleNotFoundError\u001b[0m: No module named 'torch'"
     ]
    }
   ],
   "source": [
    "import torch\n",
    "import torch.nn as nn\n",
    "import torch.optim as optim\n",
    "from torch.utils.data import DataLoader, TensorDataset, random_split, Subset"
   ]
  },
  {
   "cell_type": "code",
   "execution_count": null,
   "id": "79a4177d6eb98532",
   "metadata": {
    "ExecuteTime": {
     "end_time": "2024-12-09T21:51:38.331414800Z",
     "start_time": "2024-12-09T21:51:38.156779400Z"
    },
    "collapsed": false,
    "jupyter": {
     "outputs_hidden": false
    }
   },
   "outputs": [],
   "source": [
    "class Model(nn.Module):\n",
    "    def __init__(self, input_size, hidden_size, output_size):\n",
    "        super(Model, self).__init__()\n",
    "        self.fc1 = nn.Linear(input_size, hidden_size)\n",
    "        self.relu = nn.ReLU()\n",
    "        self.fc2 = nn.Linear(hidden_size, hidden_size)\n",
    "        self.fc3 = nn.Linear(hidden_size, output_size)\n",
    "    def forward(self, x):\n",
    "        x = self.fc1(x)\n",
    "        x = self.relu(x)\n",
    "        x = self.fc2(x)\n",
    "        x = self.relu(x)\n",
    "        x = self.fc3(x)\n",
    "        return x"
   ]
  },
  {
   "cell_type": "code",
   "execution_count": null,
   "id": "872aa39603955e9e",
   "metadata": {
    "ExecuteTime": {
     "end_time": "2024-12-09T21:52:39.622496100Z",
     "start_time": "2024-12-09T21:52:39.431845900Z"
    },
    "collapsed": false,
    "jupyter": {
     "outputs_hidden": false
    }
   },
   "outputs": [],
   "source": [
    "X = torch.tensor(X0, dtype=torch.float32).unsqueeze(1)\n",
    "y = torch.tensor(y0, dtype=torch.float32).unsqueeze(1)"
   ]
  },
  {
   "cell_type": "code",
   "execution_count": null,
   "id": "c3efdbfe736ab598",
   "metadata": {
    "ExecuteTime": {
     "end_time": "2024-12-09T21:52:40.948366800Z",
     "start_time": "2024-12-09T21:52:40.771300300Z"
    },
    "collapsed": false,
    "jupyter": {
     "outputs_hidden": false
    }
   },
   "outputs": [],
   "source": [
    "dataset = TensorDataset(X,y)\n",
    "train_size = int(0.8 * len(dataset))\n",
    "test_size = len(dataset) - train_size\n",
    "train_dataset, test_dataset = random_split(dataset, [train_size, test_size])"
   ]
  },
  {
   "cell_type": "code",
   "execution_count": null,
   "id": "9a3c49a7a499c95a",
   "metadata": {
    "ExecuteTime": {
     "end_time": "2024-12-09T21:52:41.489204400Z",
     "start_time": "2024-12-09T21:52:41.306575300Z"
    },
    "collapsed": false,
    "jupyter": {
     "outputs_hidden": false
    }
   },
   "outputs": [],
   "source": [
    "batch_size = 32\n",
    "train_loader = DataLoader(train_dataset, batch_size=batch_size, shuffle=True)\n",
    "test_loader = DataLoader(test_dataset, batch_size=batch_size, shuffle=False)"
   ]
  },
  {
   "cell_type": "code",
   "execution_count": null,
   "id": "8bf6690a93a01bd0",
   "metadata": {
    "collapsed": false,
    "jupyter": {
     "outputs_hidden": false
    }
   },
   "outputs": [],
   "source": [
    "learning_rate = 4e-3\n",
    "weight_decay = 1e-5\n",
    "model = Model(input_size = 1, hidden_size = 16, output_size = 1)\n",
    "criterion = nn.MSELoss()\n",
    "optimizer = optim.Adam(model.parameters(), lr=learning_rate, weight_decay=weight_decay)"
   ]
  },
  {
   "cell_type": "code",
   "execution_count": null,
   "id": "46215fa226e46ce2",
   "metadata": {
    "ExecuteTime": {
     "end_time": "2024-12-09T21:53:24.822011100Z",
     "start_time": "2024-12-09T21:53:08.423907Z"
    },
    "collapsed": false,
    "jupyter": {
     "outputs_hidden": false
    }
   },
   "outputs": [],
   "source": [
    "epochs = 3000\n",
    "Losses = []\n",
    "for epoch in range(epochs):\n",
    "    model.train()\n",
    "    total_loss = 0\n",
    "\n",
    "    for batch_X, batch_y in train_loader:\n",
    "        optimizer.zero_grad()\n",
    "        \n",
    "        predictions = model(batch_X)\n",
    "        loss = criterion(predictions, batch_y)\n",
    "        \n",
    "        loss.backward()\n",
    "        optimizer.step()\n",
    "\n",
    "        total_loss += loss.item()\n",
    "        \n",
    "    if (epoch + 1) % 100 == 0:\n",
    "        Losses.append(total_loss)\n",
    "        print(f'Epoch [{epoch+1}/{epochs}], Loss: {total_loss / len(train_loader):.4f}')"
   ]
  },
  {
   "cell_type": "code",
   "execution_count": null,
   "id": "e48a3f38515b1d36",
   "metadata": {
    "ExecuteTime": {
     "end_time": "2024-12-09T21:53:25.133275400Z",
     "start_time": "2024-12-09T21:53:24.822407Z"
    },
    "collapsed": false,
    "jupyter": {
     "outputs_hidden": false
    }
   },
   "outputs": [],
   "source": [
    "plt.plot(np.arange(len(Losses)) * 100, Losses)\n",
    "plt.title(\"Loss vs epoch\")\n",
    "plt.xlabel(\"Epoch\")\n",
    "plt.ylabel(\"Loss\")\n",
    "plt.show()"
   ]
  },
  {
   "cell_type": "code",
   "execution_count": null,
   "id": "d61e182a29c4676",
   "metadata": {
    "ExecuteTime": {
     "end_time": "2024-12-09T21:53:25.334455900Z",
     "start_time": "2024-12-09T21:53:25.134017900Z"
    },
    "collapsed": false,
    "jupyter": {
     "outputs_hidden": false
    }
   },
   "outputs": [],
   "source": [
    "model.eval()\n",
    "test_loss = 0\n",
    "with torch.no_grad():\n",
    "    for batch_X, batch_y in test_loader:\n",
    "        predictions = model(batch_X)\n",
    "        loss = criterion(predictions, batch_y)\n",
    "        test_loss += loss.item()\n",
    "\n",
    "print(f'Test Loss: {test_loss / len(test_loader):.4f}')"
   ]
  },
  {
   "cell_type": "code",
   "execution_count": null,
   "id": "226afac5889e1c9c",
   "metadata": {
    "ExecuteTime": {
     "end_time": "2024-12-09T21:53:25.588527300Z",
     "start_time": "2024-12-09T21:53:25.331174800Z"
    },
    "collapsed": false,
    "jupyter": {
     "outputs_hidden": false
    }
   },
   "outputs": [],
   "source": [
    "X_test = np.arange(1,701)\n",
    "y_test = []\n",
    "model.eval()\n",
    "for i in X_test:\n",
    "    with torch.no_grad():\n",
    "        predictions = model(torch.tensor([float(i)]))\n",
    "        y_test.append(predictions.detach().numpy()[0])"
   ]
  },
  {
   "cell_type": "code",
   "execution_count": null,
   "id": "d5a7d3a02588abe2",
   "metadata": {
    "ExecuteTime": {
     "end_time": "2024-12-09T21:53:25.896331900Z",
     "start_time": "2024-12-09T21:53:25.591034200Z"
    },
    "collapsed": false,
    "jupyter": {
     "outputs_hidden": false
    }
   },
   "outputs": [],
   "source": [
    "plt.scatter(X0, y0, label = material_property)\n",
    "plt.plot(X_test, y_test, label = f\"Preditions {material_property}\" )\n",
    "plt.scatter(X1, y1, label = material_property1)\n",
    "\n",
    "plt.ylabel(\"Strength (MPa)\")\n",
    "plt.xlabel(\"Temp\")\n",
    "plt.legend()\n",
    "plt.show()"
   ]
  },
  {
   "cell_type": "markdown",
   "id": "f2acbe4d083fdc95",
   "metadata": {
    "collapsed": false,
    "jupyter": {
     "outputs_hidden": false
    }
   },
   "source": [
    "### K-Fold Cross Validation"
   ]
  },
  {
   "cell_type": "code",
   "execution_count": null,
   "id": "6762486ea16e72c",
   "metadata": {
    "ExecuteTime": {
     "end_time": "2024-12-09T21:55:02.253621800Z",
     "start_time": "2024-12-09T21:55:02.018617500Z"
    },
    "collapsed": false,
    "jupyter": {
     "outputs_hidden": false
    }
   },
   "outputs": [],
   "source": [
    "from sklearn.model_selection import KFold\n",
    "\n",
    "\n",
    "dataset = TensorDataset(X, y)\n",
    "num_folds = 5\n",
    "kf = KFold(n_splits=num_folds, shuffle=True, random_state=42)"
   ]
  },
  {
   "cell_type": "code",
   "execution_count": null,
   "id": "75c46fc07ed0f9d6",
   "metadata": {
    "ExecuteTime": {
     "end_time": "2024-12-09T22:42:30.466795100Z",
     "start_time": "2024-12-09T22:40:49.783083700Z"
    },
    "collapsed": false,
    "jupyter": {
     "outputs_hidden": false
    }
   },
   "outputs": [],
   "source": [
    "model = Model(input_size=1, hidden_size=16, output_size=1)\n",
    "criterion = nn.MSELoss()\n",
    "optimizer = optim.Adam(model.parameters(), lr=learning_rate, weight_decay=weight_decay)\n",
    "TrainLoss = []\n",
    "ValLoss = []\n",
    "\n",
    "for epoch in range(epochs):\n",
    "    model.train()\n",
    "    total_train_loss = 0\n",
    "    total_val_loss = 0\n",
    "\n",
    "    for fold, (train_idx, val_idx) in enumerate(kf.split(dataset)):\n",
    "        # Prepare data for this fold\n",
    "        train_subset = Subset(dataset, train_idx)\n",
    "        val_subset = Subset(dataset, val_idx)\n",
    "\n",
    "        train_loader = DataLoader(train_subset, batch_size=32, shuffle=True)\n",
    "        val_loader = DataLoader(val_subset, batch_size=32, shuffle=False)\n",
    "\n",
    "        # Training phase\n",
    "        fold_train_loss = 0\n",
    "        for batch_X, batch_y in train_loader:\n",
    "            optimizer.zero_grad()\n",
    "            predictions = model(batch_X)\n",
    "            loss = criterion(predictions, batch_y)\n",
    "            loss.backward()\n",
    "            optimizer.step()\n",
    "            fold_train_loss += loss.item()\n",
    "        total_train_loss += fold_train_loss / len(train_loader)\n",
    "\n",
    "        # Validation phase\n",
    "        model.eval()\n",
    "        fold_val_loss = 0\n",
    "        with torch.no_grad():\n",
    "            for batch_X, batch_y in val_loader:\n",
    "                predictions = model(batch_X)\n",
    "                loss = criterion(predictions, batch_y)\n",
    "                fold_val_loss += loss.item()\n",
    "        total_val_loss += fold_val_loss / len(val_loader)\n",
    "\n",
    "    # Print average training and validation loss across all folds every 100 epochs\n",
    "    if (epoch + 1) % 100 == 0:\n",
    "        avg_train_loss = total_train_loss / num_folds\n",
    "        avg_val_loss = total_val_loss / num_folds\n",
    "        print(f'Epoch [{epoch+1}/{epochs}] - Train Loss: {avg_train_loss:.4f}, Val Loss: {avg_val_loss:.4f}')\n",
    "        \n",
    "    if (epoch + 1) % 10 == 0:\n",
    "        TrainLoss.append(total_train_loss / num_folds)\n",
    "        ValLoss.append(total_val_loss / num_folds)"
   ]
  },
  {
   "cell_type": "code",
   "execution_count": null,
   "id": "71f352e16acc0246",
   "metadata": {
    "ExecuteTime": {
     "end_time": "2024-12-09T22:51:11.286505500Z",
     "start_time": "2024-12-09T22:51:10.985931700Z"
    },
    "collapsed": false,
    "jupyter": {
     "outputs_hidden": false
    }
   },
   "outputs": [],
   "source": [
    "plt.plot(np.arange(len(TrainLoss)) * 100, TrainLoss, label = \"TrainLoss\")\n",
    "plt.plot(np.arange(len(ValLoss)) * 100, ValLoss, label = \"ValLoss\")\n",
    "plt.title(\"Loss vs epoch\")\n",
    "plt.xlabel(\"Epoch\")\n",
    "plt.ylabel(\"Loss\")\n",
    "# plt.xlim(500,3000)\n",
    "plt.legend()\n",
    "plt.show()"
   ]
  },
  {
   "cell_type": "code",
   "execution_count": null,
   "id": "f5bab04cff34314a",
   "metadata": {
    "ExecuteTime": {
     "end_time": "2024-12-09T22:42:31.269355600Z",
     "start_time": "2024-12-09T22:42:30.850611900Z"
    },
    "collapsed": false,
    "jupyter": {
     "outputs_hidden": false
    }
   },
   "outputs": [],
   "source": [
    "model.eval()\n",
    "test_loss = 0\n",
    "with torch.no_grad():\n",
    "    for batch_X, batch_y in test_loader:\n",
    "        predictions = model(batch_X)\n",
    "        loss = criterion(predictions, batch_y)\n",
    "        test_loss += loss.item()\n",
    "\n",
    "print(f'Test Loss: {test_loss / len(test_loader):.4f}')"
   ]
  },
  {
   "cell_type": "code",
   "execution_count": null,
   "id": "4ab5999d07ee3110",
   "metadata": {
    "ExecuteTime": {
     "end_time": "2024-12-09T22:42:31.375396200Z",
     "start_time": "2024-12-09T22:42:31.263356300Z"
    },
    "collapsed": false,
    "jupyter": {
     "outputs_hidden": false
    }
   },
   "outputs": [],
   "source": [
    "model.eval()\n",
    "train_loss = 0\n",
    "with torch.no_grad():\n",
    "    for batch_X, batch_y in train_loader:\n",
    "        predictions = model(batch_X)\n",
    "        loss = criterion(predictions, batch_y)\n",
    "        train_loss += loss.item()\n",
    "\n",
    "print(f'Train Loss: {train_loss / len(train_loader):.4f}')"
   ]
  },
  {
   "cell_type": "code",
   "execution_count": null,
   "id": "d9a892af1850bfa",
   "metadata": {
    "ExecuteTime": {
     "end_time": "2024-12-09T22:48:22.916526100Z",
     "start_time": "2024-12-09T22:48:22.699483600Z"
    },
    "collapsed": false,
    "jupyter": {
     "outputs_hidden": false
    }
   },
   "outputs": [],
   "source": [
    "X_test = np.arange(1,701)\n",
    "y_test = []\n",
    "model.eval()\n",
    "for i in X_test:\n",
    "    with torch.no_grad():\n",
    "        predictions = model(torch.tensor([float(i)]))\n",
    "        y_test.append(predictions.detach().numpy()[0])"
   ]
  },
  {
   "cell_type": "code",
   "execution_count": null,
   "id": "b2333a71a554efb6",
   "metadata": {
    "ExecuteTime": {
     "end_time": "2024-12-09T22:48:24.380744100Z",
     "start_time": "2024-12-09T22:48:24.063975800Z"
    },
    "collapsed": false,
    "jupyter": {
     "outputs_hidden": false
    }
   },
   "outputs": [],
   "source": [
    "plt.scatter(X0, y0, label = material_property)\n",
    "plt.plot(X_test, y_test, label = f\"Preditions {material_property}\" )\n",
    "plt.scatter(X1, y1, label = material_property1)\n",
    "plt.ylabel(\"Strength (MPa)\")\n",
    "plt.xlabel(\"Temp\")\n",
    "plt.legend()\n",
    "plt.show()"
   ]
  },
  {
   "cell_type": "markdown",
   "id": "2b221d4f4de9e2a8",
   "metadata": {
    "collapsed": false,
    "jupyter": {
     "outputs_hidden": false
    }
   },
   "source": [
    "# Neural Network Improvement Strategies\n",
    "\n",
    "## 1. **Data Augmentation**\n",
    "- Helps prevent overfitting and improves model generalization.\n",
    "\n",
    "## 2. **Feature Engineering / More Descriptors**\n",
    "- Extract meaningful features from raw data to improve the model’s ability to learn.\n",
    "- Example: Add domain-specific descriptors or combine existing features in new ways.\n",
    "\n",
    "## 3. **Data Normalization**\n",
    "- Improves convergence speed and prevents numerical instability.\n",
    "\n",
    "## 4. **Hyperparameter Tuning**\n",
    "- Optimize key parameters such as:\n",
    "  - Learning rate\n",
    "  - Number of hidden layers and neurons\n",
    "  - Batch size\n",
    "- Grid Search, Random Search, or Bayesian Optimization\n",
    "\n",
    "## 5. **Evaluation Metrics**\n",
    "  - RMSE\n",
    "  - Accuracy\n",
    "  - Precision/Recall\n",
    "  - F1 Score\n",
    "  - Mean Absolute Error (MAE)\n",
    "\n",
    "## 6. **Experiment with Optimizers**\n",
    "  - Adam\n",
    "  - SGD with momentum\n",
    "  - RMSProp\n",
    "  - AdamW\n",
    "\n",
    "## 7. **Regularization**\n",
    "- Reduce overfitting using:\n",
    "  - Dropout\n",
    "  - L2 regularization\n",
    "  - Early stopping based on validation loss\n",
    "\n",
    "## 8. **More Complex Neural Network Architectures**\n",
    "- Experiment with advanced architectures such as:\n",
    "  - Adding more layers and neurons (Deep Neural Networks)\n",
    "  - Attention mechanisms for focusing on relevant parts of data\n",
    "  - Transformers\n",
    "\n",
    "## 9. **Ensemble Learning**\n",
    "- Combine predictions from multiple models to improve robustness:\n",
    "  - Averaging\n",
    "  - Bagging or boosting techniques\n",
    "\n"
   ]
  },
  {
   "cell_type": "code",
   "execution_count": null,
   "id": "8b666a6b0d87903c",
   "metadata": {
    "collapsed": false,
    "jupyter": {
     "outputs_hidden": false
    }
   },
   "outputs": [],
   "source": []
  }
 ],
 "metadata": {
  "kernelspec": {
   "display_name": "Python 3 (ipykernel)",
   "language": "python",
   "name": "python3"
  },
  "language_info": {
   "codemirror_mode": {
    "name": "ipython",
    "version": 3
   },
   "file_extension": ".py",
   "mimetype": "text/x-python",
   "name": "python",
   "nbconvert_exporter": "python",
   "pygments_lexer": "ipython3",
   "version": "3.9.19"
  }
 },
 "nbformat": 4,
 "nbformat_minor": 5
}
