{
 "cells": [
  {
   "cell_type": "code",
   "execution_count": 1,
   "id": "initial_id",
   "metadata": {
    "ExecuteTime": {
     "end_time": "2025-01-06T20:52:09.946711100Z",
     "start_time": "2025-01-06T20:52:09.772583100Z"
    }
   },
   "outputs": [],
   "source": [
    "%load_ext autoreload\n",
    "%autoreload 2\n",
    "\n",
    "import sys\n",
    "sys.path.append('/path/to/Utilities')\n",
    "\n",
    "from Utilities.models_2_0 import *\n",
    "import matplotlib.pyplot as plt"
   ]
  },
  {
   "cell_type": "code",
   "execution_count": 2,
   "id": "e38451fe8393b786",
   "metadata": {
    "ExecuteTime": {
     "end_time": "2025-01-06T20:52:10.423105400Z",
     "start_time": "2025-01-06T20:52:10.067235800Z"
    },
    "collapsed": false,
    "jupyter": {
     "outputs_hidden": false
    }
   },
   "outputs": [
    {
     "name": "stdout",
     "output_type": "stream",
     "text": [
      "(166,)\n",
      "(166,)\n"
     ]
    }
   ],
   "source": [
    "excel_filename = 'Eurofer/Eurofer_data_1_2.xlsx'\n",
    "material_property = \"Ultimate Strength_SH\"\n",
    "var_names, variables, dataframe = load_data(excel_filename, material_property, header_rows_list=[1, 3], num_data_rows=20, display_data_table_bool=False)\n",
    "\n",
    "X0 = np.concatenate(variables[::2])\n",
    "y0 = np.concatenate(variables[1::2])\n",
    "\n",
    "print(X0.shape)\n",
    "print(y0.shape)"
   ]
  },
  {
   "cell_type": "code",
   "execution_count": 3,
   "id": "44f96e3ca6701ad8",
   "metadata": {
    "ExecuteTime": {
     "end_time": "2025-01-06T20:52:10.790523900Z",
     "start_time": "2025-01-06T20:52:10.423105400Z"
    },
    "collapsed": false,
    "jupyter": {
     "outputs_hidden": false
    }
   },
   "outputs": [
    {
     "name": "stdout",
     "output_type": "stream",
     "text": [
      "(191,)\n",
      "(191,)\n"
     ]
    }
   ],
   "source": [
    "material_property1 = \"Yield Strength_SH\"\n",
    "var_names, variables, dataframe = load_data(excel_filename, material_property1, header_rows_list=[1, 3], num_data_rows=20, display_data_table_bool=False)\n",
    "\n",
    "X1 = np.concatenate(variables[::2])\n",
    "y1 = np.concatenate(variables[1::2])\n",
    "print(X1.shape)\n",
    "print(y1.shape)"
   ]
  },
  {
   "cell_type": "code",
   "execution_count": 4,
   "id": "d4ce2ce1df3ccf4",
   "metadata": {
    "ExecuteTime": {
     "end_time": "2025-01-06T20:52:11.108153600Z",
     "start_time": "2025-01-06T20:52:10.794887100Z"
    },
    "collapsed": false,
    "jupyter": {
     "outputs_hidden": false
    }
   },
   "outputs": [
    {
     "data": {
      "image/png": "[encoded data removed]",
      "text/plain": [
       "<Figure size 432x288 with 1 Axes>"
      ]
     },
     "metadata": {
      "needs_background": "light"
     },
     "output_type": "display_data"
    }
   ],
   "source": [
    "plt.scatter(X0, y0, label = material_property)\n",
    "plt.scatter(X1, y1, label = material_property1)\n",
    "plt.ylabel(\"Strength (MPa)\")\n",
    "plt.xlabel(\"Temp\")\n",
    "plt.legend()\n",
    "plt.show()"
   ]
  },
  {
   "cell_type": "markdown",
   "id": "de17c585660e8b55",
   "metadata": {
    "collapsed": false,
    "jupyter": {
     "outputs_hidden": false
    }
   },
   "source": [
    "### General NN"
   ]
  },
  {
   "cell_type": "code",
   "execution_count": 6,
   "id": "14814834599496e9",
   "metadata": {
    "ExecuteTime": {
     "end_time": "2025-01-06T20:52:11.614772500Z",
     "start_time": "2025-01-06T20:52:11.439951200Z"
    },
    "collapsed": false,
    "jupyter": {
     "outputs_hidden": false
    }
   },
   "outputs": [],
   "source": [
    "import torch\n",
    "import torch.nn as nn\n",
    "import torch.optim as optim\n",
    "from torch.utils.data import DataLoader, TensorDataset, random_split, Subset"
   ]
  },
  {
   "cell_type": "code",
   "execution_count": 7,
   "id": "79a4177d6eb98532",
   "metadata": {
    "ExecuteTime": {
     "end_time": "2025-01-06T20:52:12.061955700Z",
     "start_time": "2025-01-06T20:52:11.860432400Z"
    },
    "collapsed": false,
    "jupyter": {
     "outputs_hidden": false
    }
   },
   "outputs": [],
   "source": [
    "class Model(nn.Module):\n",
    "    def __init__(self, input_size, hidden_size, output_size):\n",
    "        super(Model, self).__init__()\n",
    "        self.fc1 = nn.Linear(input_size, hidden_size)\n",
    "        self.relu = nn.ReLU()\n",
    "        self.fc2 = nn.Linear(hidden_size, hidden_size)\n",
    "        self.fc3 = nn.Linear(hidden_size, output_size)\n",
    "    def forward(self, x):\n",
    "        x = self.fc1(x)\n",
    "        x = self.relu(x)\n",
    "        x = self.fc2(x)\n",
    "        x = self.relu(x)\n",
    "        x = self.fc3(x)\n",
    "        return x"
   ]
  },
  {
   "cell_type": "code",
   "execution_count": 8,
   "id": "872aa39603955e9e",
   "metadata": {
    "ExecuteTime": {
     "end_time": "2025-01-06T20:52:12.352957600Z",
     "start_time": "2025-01-06T20:52:12.190568300Z"
    },
    "collapsed": false,
    "jupyter": {
     "outputs_hidden": false
    }
   },
   "outputs": [],
   "source": [
    "from sklearn.preprocessing import MinMaxScaler\n",
    "\n",
    "scaler_X = MinMaxScaler()\n",
    "scaler_y = MinMaxScaler()\n",
    "\n",
    "X_scaled = scaler_X.fit_transform(X0.reshape(-1, 1))\n",
    "y_scaled = scaler_y.fit_transform(y0.reshape(-1, 1))\n",
    "\n",
    "X = torch.tensor(X_scaled, dtype=torch.float32)\n",
    "y = torch.tensor(y_scaled, dtype=torch.float32)"
   ]
  },
  {
   "cell_type": "code",
   "execution_count": 9,
   "id": "c3efdbfe736ab598",
   "metadata": {
    "ExecuteTime": {
     "end_time": "2025-01-06T20:52:12.718982Z",
     "start_time": "2025-01-06T20:52:12.543966800Z"
    },
    "collapsed": false,
    "jupyter": {
     "outputs_hidden": false
    }
   },
   "outputs": [],
   "source": [
    "dataset = TensorDataset(X,y)\n",
    "train_size = int(0.8 * len(dataset))\n",
    "test_size = len(dataset) - train_size\n",
    "train_dataset, test_dataset = random_split(dataset, [train_size, test_size])"
   ]
  },
  {
   "cell_type": "code",
   "execution_count": 10,
   "id": "9a3c49a7a499c95a",
   "metadata": {
    "ExecuteTime": {
     "end_time": "2025-01-06T20:52:13.360096900Z",
     "start_time": "2025-01-06T20:52:13.185619300Z"
    },
    "collapsed": false,
    "jupyter": {
     "outputs_hidden": false
    }
   },
   "outputs": [],
   "source": [
    "batch_size = 32\n",
    "train_loader = DataLoader(train_dataset, batch_size=batch_size, shuffle=True)\n",
    "test_loader = DataLoader(test_dataset, batch_size=batch_size, shuffle=False)"
   ]
  },
  {
   "cell_type": "code",
   "execution_count": 11,
   "id": "8bf6690a93a01bd0",
   "metadata": {
    "ExecuteTime": {
     "end_time": "2025-01-06T20:52:14.066136400Z",
     "start_time": "2025-01-06T20:52:13.525225700Z"
    },
    "collapsed": false,
    "jupyter": {
     "outputs_hidden": false
    }
   },
   "outputs": [],
   "source": [
    "learning_rate = 4e-3\n",
    "weight_decay = 1e-5\n",
    "model = Model(input_size = 1, hidden_size = 16, output_size = 1)\n",
    "criterion = nn.MSELoss()\n",
    "optimizer = optim.Adam(model.parameters(), lr=learning_rate, weight_decay=weight_decay)"
   ]
  },
  {
   "cell_type": "code",
   "execution_count": 12,
   "id": "46215fa226e46ce2",
   "metadata": {
    "ExecuteTime": {
     "end_time": "2025-01-06T20:52:14.435229600Z",
     "start_time": "2025-01-06T20:52:14.066136400Z"
    },
    "collapsed": false,
    "jupyter": {
     "outputs_hidden": false
    }
   },
   "outputs": [
    {
     "name": "stdout",
     "output_type": "stream",
     "text": [
      "Epoch [1/30], Loss: 0.5235\n",
      "Epoch [2/30], Loss: 0.2915\n",
      "Epoch [3/30], Loss: 0.1991\n",
      "Epoch [4/30], Loss: 0.1110\n",
      "Epoch [5/30], Loss: 0.0816\n",
      "Epoch [6/30], Loss: 0.0753\n",
      "Epoch [7/30], Loss: 0.0805\n",
      "Epoch [8/30], Loss: 0.0654\n",
      "Epoch [9/30], Loss: 0.0566\n",
      "Epoch [10/30], Loss: 0.0552\n",
      "Epoch [11/30], Loss: 0.0516\n",
      "Epoch [12/30], Loss: 0.0478\n",
      "Epoch [13/30], Loss: 0.0394\n",
      "Epoch [14/30], Loss: 0.0377\n",
      "Epoch [15/30], Loss: 0.0303\n",
      "Epoch [16/30], Loss: 0.0278\n",
      "Epoch [17/30], Loss: 0.0224\n",
      "Epoch [18/30], Loss: 0.0190\n",
      "Epoch [19/30], Loss: 0.0193\n",
      "Epoch [20/30], Loss: 0.0121\n",
      "Epoch [21/30], Loss: 0.0102\n",
      "Epoch [22/30], Loss: 0.0099\n",
      "Epoch [23/30], Loss: 0.0095\n",
      "Epoch [24/30], Loss: 0.0097\n",
      "Epoch [25/30], Loss: 0.0075\n",
      "Epoch [26/30], Loss: 0.0078\n",
      "Epoch [27/30], Loss: 0.0075\n",
      "Epoch [28/30], Loss: 0.0073\n",
      "Epoch [29/30], Loss: 0.0109\n",
      "Epoch [30/30], Loss: 0.0064\n"
     ]
    }
   ],
   "source": [
    "epochs = 30\n",
    "Losses = []\n",
    "for epoch in range(epochs):\n",
    "    model.train()\n",
    "    total_loss = 0\n",
    "\n",
    "    for batch_X, batch_y in train_loader:\n",
    "        optimizer.zero_grad()\n",
    "        \n",
    "        predictions = model(batch_X)\n",
    "        loss = criterion(predictions, batch_y)\n",
    "        \n",
    "        loss.backward()\n",
    "        optimizer.step()\n",
    "\n",
    "        total_loss += loss.item()\n",
    "        \n",
    "    if (epoch + 1) % 1 == 0:\n",
    "        Losses.append(total_loss)\n",
    "        print(f'Epoch [{epoch+1}/{epochs}], Loss: {total_loss / len(train_loader):.4f}')"
   ]
  },
  {
   "cell_type": "code",
   "execution_count": 13,
   "id": "e48a3f38515b1d36",
   "metadata": {
    "ExecuteTime": {
     "end_time": "2025-01-06T20:52:14.769313700Z",
     "start_time": "2025-01-06T20:52:14.433224600Z"
    },
    "collapsed": false,
    "jupyter": {
     "outputs_hidden": false
    }
   },
   "outputs": [
    {
     "data": {
      "image/png": "[encoded data removed]",
      "text/plain": [
       "<Figure size 432x288 with 1 Axes>"
      ]
     },
     "metadata": {
      "needs_background": "light"
     },
     "output_type": "display_data"
    }
   ],
   "source": [
    "plt.plot(Losses)\n",
    "plt.title(\"Loss vs epoch\")\n",
    "plt.xlabel(\"Epoch\")\n",
    "plt.ylabel(\"Loss\")\n",
    "plt.show()"
   ]
  },
  {
   "cell_type": "code",
   "execution_count": 14,
   "id": "d61e182a29c4676",
   "metadata": {
    "ExecuteTime": {
     "end_time": "2025-01-06T20:52:14.928352900Z",
     "start_time": "2025-01-06T20:52:14.738066400Z"
    },
    "collapsed": false,
    "jupyter": {
     "outputs_hidden": false
    }
   },
   "outputs": [
    {
     "name": "stdout",
     "output_type": "stream",
     "text": [
      "Test Loss: 0.0021\n"
     ]
    }
   ],
   "source": [
    "model.eval()\n",
    "test_loss = 0\n",
    "with torch.no_grad():\n",
    "    for batch_X, batch_y in test_loader:\n",
    "        predictions = model(batch_X)\n",
    "        loss = criterion(predictions, batch_y)\n",
    "        test_loss += loss.item()\n",
    "\n",
    "print(f'Test Loss: {test_loss / len(test_loader):.4f}')"
   ]
  },
  {
   "cell_type": "code",
   "execution_count": 15,
   "id": "542a9f1b439b7e77",
   "metadata": {
    "ExecuteTime": {
     "end_time": "2025-01-06T20:52:15.132986800Z",
     "start_time": "2025-01-06T20:52:14.928352900Z"
    },
    "collapsed": false,
    "jupyter": {
     "outputs_hidden": false
    }
   },
   "outputs": [],
   "source": [
    "X_test = np.arange(1,701).reshape(-1, 1)\n",
    "X_test = scaler_X.transform(X_test)\n",
    "model.eval()\n",
    "with torch.no_grad():\n",
    "    predictions = model(torch.tensor(X_test, dtype=torch.float32))\n",
    "    predictions = scaler_y.inverse_transform(predictions.detach().numpy())"
   ]
  },
  {
   "cell_type": "code",
   "execution_count": 16,
   "id": "d5a7d3a02588abe2",
   "metadata": {
    "ExecuteTime": {
     "end_time": "2025-01-06T20:52:15.784462700Z",
     "start_time": "2025-01-06T20:52:15.357805800Z"
    },
    "collapsed": false,
    "jupyter": {
     "outputs_hidden": false
    }
   },
   "outputs": [
    {
     "data": {
      "image/png": "[encoded data removed]",
      "text/plain": [
       "<Figure size 432x288 with 1 Axes>"
      ]
     },
     "metadata": {
      "needs_background": "light"
     },
     "output_type": "display_data"
    }
   ],
   "source": [
    "plt.scatter(X0, y0, label = material_property)\n",
    "plt.plot(scaler_X.inverse_transform(X_test), predictions, label = f\"Preditions {material_property}\" )\n",
    "plt.scatter(X1, y1, label = material_property1)\n",
    "\n",
    "plt.ylabel(\"Strength (MPa)\")\n",
    "plt.xlabel(\"Temp\")\n",
    "plt.legend()\n",
    "plt.show()"
   ]
  },
  {
   "cell_type": "markdown",
   "id": "f2acbe4d083fdc95",
   "metadata": {
    "collapsed": false,
    "jupyter": {
     "outputs_hidden": false
    }
   },
   "source": [
    "### K-Fold Cross Validation"
   ]
  },
  {
   "cell_type": "code",
   "execution_count": 18,
   "id": "6762486ea16e72c",
   "metadata": {
    "ExecuteTime": {
     "end_time": "2025-01-06T20:52:16.336993200Z",
     "start_time": "2025-01-06T20:52:16.026356900Z"
    },
    "collapsed": false,
    "jupyter": {
     "outputs_hidden": false
    }
   },
   "outputs": [],
   "source": [
    "from sklearn.model_selection import KFold\n",
    "\n",
    "\n",
    "dataset = TensorDataset(X, y)\n",
    "train_size = int(0.8 * len(dataset))\n",
    "test_size = len(dataset) - train_size\n",
    "train_dataset, test_dataset = random_split(dataset, [train_size, test_size])\n",
    "num_folds = 5\n",
    "kf = KFold(n_splits=num_folds, shuffle=True, random_state=42)"
   ]
  },
  {
   "cell_type": "code",
   "execution_count": 19,
   "id": "75c46fc07ed0f9d6",
   "metadata": {
    "ExecuteTime": {
     "end_time": "2025-01-06T20:52:16.544540Z",
     "start_time": "2025-01-06T20:52:16.336993200Z"
    },
    "collapsed": false,
    "jupyter": {
     "outputs_hidden": false
    }
   },
   "outputs": [],
   "source": [
    "def kfold_trian(dataset, kf, model, criterion, optimizer, epochs = 30):\n",
    "    TrainLoss = []\n",
    "    ValLoss = []\n",
    "    \n",
    "    for epoch in range(epochs):\n",
    "        model.train()\n",
    "        total_train_loss = 0\n",
    "        total_val_loss = 0\n",
    "    \n",
    "        for fold, (train_idx, val_idx) in enumerate(kf.split(dataset)):\n",
    "            # Prepare data for this fold\n",
    "            train_subset = Subset(dataset, train_idx)\n",
    "            val_subset = Subset(dataset, val_idx)\n",
    "    \n",
    "            train_loader = DataLoader(train_subset, batch_size=32, shuffle=True)\n",
    "            val_loader = DataLoader(val_subset, batch_size=32, shuffle=False)\n",
    "    \n",
    "            # Training phase\n",
    "            fold_train_loss = 0\n",
    "            for batch_X, batch_y in train_loader:\n",
    "                optimizer.zero_grad()\n",
    "                predictions = model(batch_X)\n",
    "                loss = criterion(predictions, batch_y)\n",
    "                loss.backward()\n",
    "                optimizer.step()\n",
    "                fold_train_loss += loss.item()\n",
    "            total_train_loss += fold_train_loss / len(train_loader)\n",
    "    \n",
    "            # Validation phase\n",
    "            model.eval()\n",
    "            fold_val_loss = 0\n",
    "            with torch.no_grad():\n",
    "                for batch_X, batch_y in val_loader:\n",
    "                    predictions = model(batch_X)\n",
    "                    loss = criterion(predictions, batch_y)\n",
    "                    fold_val_loss += loss.item()\n",
    "            total_val_loss += fold_val_loss / len(val_loader)\n",
    "    \n",
    "        if (epoch + 1) % 1 == 0:\n",
    "            avg_train_loss = total_train_loss / num_folds\n",
    "            avg_val_loss = total_val_loss / num_folds\n",
    "            print(f'Epoch [{epoch+1}/{epochs}] - Train Loss: {avg_train_loss:.4f}, Val Loss: {avg_val_loss:.4f}')\n",
    "            \n",
    "        if (epoch + 1) % 1 == 0:\n",
    "            TrainLoss.append(total_train_loss / num_folds)\n",
    "            ValLoss.append(total_val_loss / num_folds)\n",
    "            \n",
    "    return model, TrainLoss, ValLoss"
   ]
  },
  {
   "cell_type": "code",
   "execution_count": 20,
   "id": "3374e1c8d3273425",
   "metadata": {
    "ExecuteTime": {
     "end_time": "2025-01-06T20:52:18.013143Z",
     "start_time": "2025-01-06T20:52:16.702257500Z"
    },
    "collapsed": false,
    "jupyter": {
     "outputs_hidden": false
    }
   },
   "outputs": [
    {
     "name": "stdout",
     "output_type": "stream",
     "text": [
      "Epoch [1/30] - Train Loss: 0.4271, Val Loss: 0.3758\n",
      "Epoch [2/30] - Train Loss: 0.0868, Val Loss: 0.0750\n",
      "Epoch [3/30] - Train Loss: 0.0287, Val Loss: 0.0242\n",
      "Epoch [4/30] - Train Loss: 0.0141, Val Loss: 0.0144\n",
      "Epoch [5/30] - Train Loss: 0.0111, Val Loss: 0.0105\n",
      "Epoch [6/30] - Train Loss: 0.0094, Val Loss: 0.0093\n",
      "Epoch [7/30] - Train Loss: 0.0087, Val Loss: 0.0090\n",
      "Epoch [8/30] - Train Loss: 0.0088, Val Loss: 0.0088\n",
      "Epoch [9/30] - Train Loss: 0.0085, Val Loss: 0.0087\n",
      "Epoch [10/30] - Train Loss: 0.0086, Val Loss: 0.0085\n",
      "Epoch [11/30] - Train Loss: 0.0081, Val Loss: 0.0086\n",
      "Epoch [12/30] - Train Loss: 0.0083, Val Loss: 0.0084\n",
      "Epoch [13/30] - Train Loss: 0.0086, Val Loss: 0.0085\n",
      "Epoch [14/30] - Train Loss: 0.0087, Val Loss: 0.0086\n",
      "Epoch [15/30] - Train Loss: 0.0082, Val Loss: 0.0082\n",
      "Epoch [16/30] - Train Loss: 0.0077, Val Loss: 0.0079\n",
      "Epoch [17/30] - Train Loss: 0.0075, Val Loss: 0.0076\n",
      "Epoch [18/30] - Train Loss: 0.0078, Val Loss: 0.0073\n",
      "Epoch [19/30] - Train Loss: 0.0067, Val Loss: 0.0067\n",
      "Epoch [20/30] - Train Loss: 0.0059, Val Loss: 0.0062\n",
      "Epoch [21/30] - Train Loss: 0.0056, Val Loss: 0.0059\n",
      "Epoch [22/30] - Train Loss: 0.0052, Val Loss: 0.0054\n",
      "Epoch [23/30] - Train Loss: 0.0053, Val Loss: 0.0051\n",
      "Epoch [24/30] - Train Loss: 0.0047, Val Loss: 0.0048\n",
      "Epoch [25/30] - Train Loss: 0.0045, Val Loss: 0.0045\n",
      "Epoch [26/30] - Train Loss: 0.0046, Val Loss: 0.0044\n",
      "Epoch [27/30] - Train Loss: 0.0041, Val Loss: 0.0042\n",
      "Epoch [28/30] - Train Loss: 0.0039, Val Loss: 0.0041\n",
      "Epoch [29/30] - Train Loss: 0.0045, Val Loss: 0.0043\n",
      "Epoch [30/30] - Train Loss: 0.0045, Val Loss: 0.0041\n"
     ]
    }
   ],
   "source": [
    "model = Model(input_size=1, hidden_size=16, output_size=1)\n",
    "criterion = nn.MSELoss()\n",
    "learning_rate = 4e-3\n",
    "weight_decay = 1e-5\n",
    "optimizer = optim.Adam(model.parameters(), lr=learning_rate, weight_decay=weight_decay)\n",
    "\n",
    "model, TrainLoss, ValLoss = kfold_trian(train_dataset, kf, model, criterion, optimizer)"
   ]
  },
  {
   "cell_type": "code",
   "execution_count": 21,
   "id": "71f352e16acc0246",
   "metadata": {
    "ExecuteTime": {
     "end_time": "2025-01-06T20:52:18.337582900Z",
     "start_time": "2025-01-06T20:52:18.009132500Z"
    },
    "collapsed": false,
    "jupyter": {
     "outputs_hidden": false
    }
   },
   "outputs": [
    {
     "data": {
      "image/png": "[encoded data removed]",
      "text/plain": [
       "<Figure size 432x288 with 1 Axes>"
      ]
     },
     "metadata": {
      "needs_background": "light"
     },
     "output_type": "display_data"
    }
   ],
   "source": [
    "plt.plot(TrainLoss, label = \"TrainLoss\")\n",
    "plt.plot(ValLoss, label = \"ValLoss\")\n",
    "plt.title(\"Loss vs epoch\")\n",
    "plt.xlabel(\"Epoch\")\n",
    "plt.ylabel(\"Loss\")\n",
    "plt.legend()\n",
    "plt.show()"
   ]
  },
  {
   "cell_type": "code",
   "execution_count": 22,
   "id": "f5bab04cff34314a",
   "metadata": {
    "ExecuteTime": {
     "end_time": "2025-01-06T20:52:18.543991200Z",
     "start_time": "2025-01-06T20:52:18.337582900Z"
    },
    "collapsed": false,
    "jupyter": {
     "outputs_hidden": false
    }
   },
   "outputs": [
    {
     "name": "stdout",
     "output_type": "stream",
     "text": [
      "Test Loss: 0.0049\n"
     ]
    }
   ],
   "source": [
    "model.eval()\n",
    "test_loss = 0\n",
    "with torch.no_grad():\n",
    "    for batch_X, batch_y in test_dataset:\n",
    "        predictions = model(batch_X)\n",
    "        loss = criterion(predictions, batch_y)\n",
    "        test_loss += loss.item()\n",
    "\n",
    "print(f'Test Loss: {test_loss / len(test_dataset):.4f}')"
   ]
  },
  {
   "cell_type": "code",
   "execution_count": 23,
   "id": "4ab5999d07ee3110",
   "metadata": {
    "ExecuteTime": {
     "end_time": "2025-01-06T20:52:18.802092700Z",
     "start_time": "2025-01-06T20:52:18.594314800Z"
    },
    "collapsed": false,
    "jupyter": {
     "outputs_hidden": false
    }
   },
   "outputs": [
    {
     "name": "stdout",
     "output_type": "stream",
     "text": [
      "Train Loss: 0.0041\n"
     ]
    }
   ],
   "source": [
    "model.eval()\n",
    "train_loss = 0\n",
    "with torch.no_grad():\n",
    "    for batch_X, batch_y in train_dataset:\n",
    "        predictions = model(batch_X)\n",
    "        loss = criterion(predictions, batch_y)\n",
    "        train_loss += loss.item()\n",
    "\n",
    "print(f'Train Loss: {train_loss / len(train_dataset):.4f}')"
   ]
  },
  {
   "cell_type": "code",
   "execution_count": 24,
   "id": "d9a892af1850bfa",
   "metadata": {
    "ExecuteTime": {
     "end_time": "2025-01-06T20:52:19.721829400Z",
     "start_time": "2025-01-06T20:52:19.502741500Z"
    },
    "collapsed": false,
    "jupyter": {
     "outputs_hidden": false
    }
   },
   "outputs": [],
   "source": [
    "X_test = np.arange(1,701).reshape(-1, 1)\n",
    "X_test = scaler_X.transform(X_test)\n",
    "model.eval()\n",
    "with torch.no_grad():\n",
    "    predictions = model(torch.tensor(X_test, dtype=torch.float32))\n",
    "    predictions = scaler_y.inverse_transform(predictions.detach().numpy())"
   ]
  },
  {
   "cell_type": "code",
   "execution_count": 25,
   "id": "b2333a71a554efb6",
   "metadata": {
    "ExecuteTime": {
     "end_time": "2025-01-06T20:52:20.561530700Z",
     "start_time": "2025-01-06T20:52:20.244152600Z"
    },
    "collapsed": false,
    "jupyter": {
     "outputs_hidden": false
    }
   },
   "outputs": [
    {
     "data": {
      "image/png": "[encoded data removed]",
      "text/plain": [
       "<Figure size 432x288 with 1 Axes>"
      ]
     },
     "metadata": {
      "needs_background": "light"
     },
     "output_type": "display_data"
    }
   ],
   "source": [
    "plt.scatter(X0, y0, label = material_property)\n",
    "plt.plot(scaler_X.inverse_transform(X_test), predictions, label = f\"Preditions {material_property}\" )\n",
    "plt.scatter(X1, y1, label = material_property1)\n",
    "\n",
    "plt.ylabel(\"Strength (MPa)\")\n",
    "plt.xlabel(\"Temp\")\n",
    "plt.legend()\n",
    "plt.show()"
   ]
  },
  {
   "cell_type": "markdown",
   "id": "2b221d4f4de9e2a8",
   "metadata": {
    "collapsed": false,
    "jupyter": {
     "outputs_hidden": false
    }
   },
   "source": [
    "# Neural Network Improvement Strategies\n",
    "\n",
    "## 1. **Data Augmentation**\n",
    "- Helps prevent overfitting and improves model generalization.\n",
    "\n",
    "## 2. **Feature Engineering / More Descriptors**\n",
    "- Extract meaningful features from raw data to improve the model’s ability to learn.\n",
    "- Example: Add domain-specific descriptors or combine existing features in new ways.\n",
    "\n",
    "## 3. **Data Normalization**\n",
    "- Improves convergence speed and prevents numerical instability.\n",
    "\n",
    "## 4. **Hyperparameter Tuning**\n",
    "- Optimize key parameters such as:\n",
    "  - Learning rate\n",
    "  - Number of hidden layers and neurons\n",
    "  - Batch size\n",
    "- Grid Search, Random Search, or Bayesian Optimization\n",
    "\n",
    "## 5. **Evaluation Metrics**\n",
    "  - RMSE\n",
    "  - Accuracy\n",
    "  - Precision/Recall\n",
    "  - F1 Score\n",
    "  - Mean Absolute Error (MAE)\n",
    "\n",
    "## 6. **Experiment with Optimizers**\n",
    "  - Adam\n",
    "  - SGD with momentum\n",
    "  - RMSProp\n",
    "  - AdamW\n",
    "\n",
    "## 7. **Regularization**\n",
    "- Reduce overfitting using:\n",
    "  - Dropout\n",
    "  - L2 regularization\n",
    "  - Early stopping based on validation loss\n",
    "\n",
    "## 8. **More Complex Neural Network Architectures**\n",
    "- Experiment with advanced architectures such as:\n",
    "  - Adding more layers and neurons (Deep Neural Networks)\n",
    "  - Attention mechanisms for focusing on relevant parts of data\n",
    "  - Transformers\n",
    "\n",
    "## 9. **Ensemble Learning**\n",
    "- Combine predictions from multiple models to improve robustness:\n",
    "  - Averaging\n",
    "  - Bagging or boosting techniques\n",
    "\n"
   ]
  },
  {
   "cell_type": "code",
   "execution_count": 27,
   "id": "ee980312af6b0cbb",
   "metadata": {
    "ExecuteTime": {
     "end_time": "2025-01-06T20:52:21.517339400Z",
     "start_time": "2025-01-06T20:52:21.310338700Z"
    },
    "collapsed": false,
    "jupyter": {
     "outputs_hidden": false
    }
   },
   "outputs": [],
   "source": [
    "from sklearn.preprocessing import MinMaxScaler"
   ]
  },
  {
   "cell_type": "code",
   "execution_count": 28,
   "id": "a072235286b25e6",
   "metadata": {
    "ExecuteTime": {
     "end_time": "2025-01-06T20:52:21.935104200Z",
     "start_time": "2025-01-06T20:52:21.736561900Z"
    },
    "collapsed": false,
    "jupyter": {
     "outputs_hidden": false
    }
   },
   "outputs": [],
   "source": [
    "def scale(material_property):\n",
    "    var_names, variables, dataframe = load_data(excel_filename, material_property, header_rows_list=[1, 3], num_data_rows=20, display_data_table_bool=False)\n",
    "    \n",
    "    X = np.concatenate(variables[::2])\n",
    "    y = np.concatenate(variables[1::2])\n",
    "    \n",
    "    scaler_X = MinMaxScaler()\n",
    "    scaler_y = MinMaxScaler()\n",
    "    \n",
    "    X_scaled = scaler_X.fit_transform(X.reshape(-1, 1))\n",
    "    y_scaled = scaler_y.fit_transform(y.reshape(-1, 1))\n",
    "    \n",
    "    X = torch.tensor(X_scaled, dtype=torch.float32)\n",
    "    y = torch.tensor(y_scaled, dtype=torch.float32)\n",
    "    return X,y,scaler_X,scaler_y"
   ]
  },
  {
   "cell_type": "code",
   "execution_count": 29,
   "id": "9af661f5765c2b4b",
   "metadata": {
    "ExecuteTime": {
     "end_time": "2025-01-06T20:52:23.160711100Z",
     "start_time": "2025-01-06T20:52:22.138251500Z"
    },
    "collapsed": false,
    "jupyter": {
     "outputs_hidden": false
    }
   },
   "outputs": [],
   "source": [
    "UltimateStrength_X, UltimateStrength_y, UltimateStrength_scaler_X, UltimateStrength_scaler_y = scale(material_property=\"Ultimate Strength_SH\")\n",
    "YieldStrength_X, YieldStrength_y, YieldStrength_scaler_X, YieldStrength_scaler_y = scale(material_property=\"Yield Strength_SH\")\n",
    "TotalElongation_X, TotalElongation_y, TotalElongation_scaler_X, TotalElongation_scaler_y = scale(material_property=\"Total Elongation_SH\")\n",
    "UniformElongation_X, UniformElongation_y, UniformElongation_scaler_X, UniformElongation_scaler_y = scale(material_property=\"Uniform Elongation_SH\")"
   ]
  },
  {
   "cell_type": "markdown",
   "id": "4c0d77d24017eeab",
   "metadata": {
    "collapsed": false,
    "jupyter": {
     "outputs_hidden": false
    }
   },
   "source": [
    "**UltimateStrength**"
   ]
  },
  {
   "cell_type": "code",
   "execution_count": 31,
   "id": "c3a1ff68d5030a96",
   "metadata": {
    "ExecuteTime": {
     "end_time": "2025-01-06T20:56:36.347571600Z",
     "start_time": "2025-01-06T20:56:36.134956700Z"
    },
    "collapsed": false,
    "jupyter": {
     "outputs_hidden": false
    }
   },
   "outputs": [],
   "source": [
    "dataset = TensorDataset(UltimateStrength_X, UltimateStrength_y)\n",
    "train_size = int(0.8 * len(dataset))\n",
    "test_size = len(dataset) - train_size\n",
    "train_dataset, test_dataset = random_split(dataset, [train_size, test_size])"
   ]
  },
  {
   "cell_type": "code",
   "execution_count": 32,
   "id": "e786b749a6fd1fe6",
   "metadata": {
    "ExecuteTime": {
     "end_time": "2025-01-06T20:56:37.646226900Z",
     "start_time": "2025-01-06T20:56:36.490653700Z"
    },
    "collapsed": false,
    "jupyter": {
     "outputs_hidden": false
    }
   },
   "outputs": [
    {
     "name": "stdout",
     "output_type": "stream",
     "text": [
      "Epoch [1/30] - Train Loss: 0.1181, Val Loss: 0.1062\n",
      "Epoch [2/30] - Train Loss: 0.0557, Val Loss: 0.0492\n",
      "Epoch [3/30] - Train Loss: 0.0171, Val Loss: 0.0155\n",
      "Epoch [4/30] - Train Loss: 0.0091, Val Loss: 0.0085\n",
      "Epoch [5/30] - Train Loss: 0.0069, Val Loss: 0.0074\n",
      "Epoch [6/30] - Train Loss: 0.0065, Val Loss: 0.0063\n",
      "Epoch [7/30] - Train Loss: 0.0069, Val Loss: 0.0061\n",
      "Epoch [8/30] - Train Loss: 0.0059, Val Loss: 0.0061\n",
      "Epoch [9/30] - Train Loss: 0.0054, Val Loss: 0.0052\n",
      "Epoch [10/30] - Train Loss: 0.0051, Val Loss: 0.0053\n",
      "Epoch [11/30] - Train Loss: 0.0054, Val Loss: 0.0051\n",
      "Epoch [12/30] - Train Loss: 0.0045, Val Loss: 0.0051\n",
      "Epoch [13/30] - Train Loss: 0.0049, Val Loss: 0.0048\n",
      "Epoch [14/30] - Train Loss: 0.0051, Val Loss: 0.0047\n",
      "Epoch [15/30] - Train Loss: 0.0047, Val Loss: 0.0045\n",
      "Epoch [16/30] - Train Loss: 0.0045, Val Loss: 0.0046\n",
      "Epoch [17/30] - Train Loss: 0.0049, Val Loss: 0.0044\n",
      "Epoch [18/30] - Train Loss: 0.0048, Val Loss: 0.0045\n",
      "Epoch [19/30] - Train Loss: 0.0045, Val Loss: 0.0047\n",
      "Epoch [20/30] - Train Loss: 0.0047, Val Loss: 0.0046\n",
      "Epoch [21/30] - Train Loss: 0.0041, Val Loss: 0.0044\n",
      "Epoch [22/30] - Train Loss: 0.0045, Val Loss: 0.0046\n",
      "Epoch [23/30] - Train Loss: 0.0043, Val Loss: 0.0043\n",
      "Epoch [24/30] - Train Loss: 0.0043, Val Loss: 0.0043\n",
      "Epoch [25/30] - Train Loss: 0.0043, Val Loss: 0.0043\n",
      "Epoch [26/30] - Train Loss: 0.0044, Val Loss: 0.0044\n",
      "Epoch [27/30] - Train Loss: 0.0045, Val Loss: 0.0047\n",
      "Epoch [28/30] - Train Loss: 0.0049, Val Loss: 0.0049\n",
      "Epoch [29/30] - Train Loss: 0.0040, Val Loss: 0.0044\n",
      "Epoch [30/30] - Train Loss: 0.0040, Val Loss: 0.0043\n"
     ]
    }
   ],
   "source": [
    "kf = KFold(n_splits=num_folds, shuffle=True)\n",
    "UltimateStrength_model = Model(input_size=1, hidden_size=16, output_size=1)\n",
    "UltimateStrength_model, TrainLoss, ValLoss = kfold_trian(\n",
    "    dataset = train_dataset, \n",
    "    kf = kf, \n",
    "    model = UltimateStrength_model, \n",
    "    criterion = nn.MSELoss(),\n",
    "    optimizer = optim.Adam(UltimateStrength_model.parameters(), lr=4e-3, weight_decay=1e-5)\n",
    ")"
   ]
  },
  {
   "cell_type": "code",
   "execution_count": 33,
   "id": "3a132fe7a54bda01",
   "metadata": {
    "ExecuteTime": {
     "end_time": "2025-01-06T20:56:37.853801900Z",
     "start_time": "2025-01-06T20:56:37.644222800Z"
    },
    "collapsed": false,
    "jupyter": {
     "outputs_hidden": false
    }
   },
   "outputs": [],
   "source": [
    "X_test = np.arange(1,701).reshape(-1, 1)\n",
    "X_test = scaler_X.transform(X_test)\n",
    "UltimateStrength_model.eval()\n",
    "with torch.no_grad():\n",
    "    UltimateStrength_predictions = UltimateStrength_model(torch.tensor(X_test, dtype=torch.float32))\n",
    "    UltimateStrength_predictions = UltimateStrength_scaler_y.inverse_transform(UltimateStrength_predictions.detach().numpy())"
   ]
  },
  {
   "cell_type": "markdown",
   "id": "a64edb301c629987",
   "metadata": {
    "collapsed": false,
    "jupyter": {
     "outputs_hidden": false
    }
   },
   "source": [
    "**YieldStrength**"
   ]
  },
  {
   "cell_type": "code",
   "execution_count": 35,
   "id": "f2f4bea75539c525",
   "metadata": {
    "ExecuteTime": {
     "end_time": "2025-01-06T20:56:38.089507Z",
     "start_time": "2025-01-06T20:56:37.855808Z"
    },
    "collapsed": false,
    "jupyter": {
     "outputs_hidden": false
    }
   },
   "outputs": [],
   "source": [
    "dataset = TensorDataset(YieldStrength_X, YieldStrength_y)\n",
    "train_size = int(0.8 * len(dataset))\n",
    "test_size = len(dataset) - train_size\n",
    "train_dataset, test_dataset = random_split(dataset, [train_size, test_size])"
   ]
  },
  {
   "cell_type": "code",
   "execution_count": 36,
   "id": "f7e8f7595bdbc857",
   "metadata": {
    "ExecuteTime": {
     "end_time": "2025-01-06T20:56:39.218795900Z",
     "start_time": "2025-01-06T20:56:38.073744800Z"
    },
    "collapsed": false,
    "jupyter": {
     "outputs_hidden": false
    }
   },
   "outputs": [
    {
     "name": "stdout",
     "output_type": "stream",
     "text": [
      "Epoch [1/30] - Train Loss: 0.1570, Val Loss: 0.1319\n",
      "Epoch [2/30] - Train Loss: 0.0831, Val Loss: 0.0763\n",
      "Epoch [3/30] - Train Loss: 0.0525, Val Loss: 0.0505\n",
      "Epoch [4/30] - Train Loss: 0.0259, Val Loss: 0.0222\n",
      "Epoch [5/30] - Train Loss: 0.0139, Val Loss: 0.0142\n",
      "Epoch [6/30] - Train Loss: 0.0131, Val Loss: 0.0128\n",
      "Epoch [7/30] - Train Loss: 0.0125, Val Loss: 0.0122\n",
      "Epoch [8/30] - Train Loss: 0.0117, Val Loss: 0.0117\n",
      "Epoch [9/30] - Train Loss: 0.0117, Val Loss: 0.0121\n",
      "Epoch [10/30] - Train Loss: 0.0107, Val Loss: 0.0109\n",
      "Epoch [11/30] - Train Loss: 0.0103, Val Loss: 0.0102\n",
      "Epoch [12/30] - Train Loss: 0.0098, Val Loss: 0.0100\n",
      "Epoch [13/30] - Train Loss: 0.0099, Val Loss: 0.0101\n",
      "Epoch [14/30] - Train Loss: 0.0094, Val Loss: 0.0095\n",
      "Epoch [15/30] - Train Loss: 0.0092, Val Loss: 0.0093\n",
      "Epoch [16/30] - Train Loss: 0.0091, Val Loss: 0.0090\n",
      "Epoch [17/30] - Train Loss: 0.0089, Val Loss: 0.0092\n",
      "Epoch [18/30] - Train Loss: 0.0087, Val Loss: 0.0089\n",
      "Epoch [19/30] - Train Loss: 0.0085, Val Loss: 0.0087\n",
      "Epoch [20/30] - Train Loss: 0.0083, Val Loss: 0.0084\n",
      "Epoch [21/30] - Train Loss: 0.0084, Val Loss: 0.0085\n",
      "Epoch [22/30] - Train Loss: 0.0081, Val Loss: 0.0083\n",
      "Epoch [23/30] - Train Loss: 0.0082, Val Loss: 0.0084\n",
      "Epoch [24/30] - Train Loss: 0.0080, Val Loss: 0.0084\n",
      "Epoch [25/30] - Train Loss: 0.0082, Val Loss: 0.0086\n",
      "Epoch [26/30] - Train Loss: 0.0083, Val Loss: 0.0083\n",
      "Epoch [27/30] - Train Loss: 0.0082, Val Loss: 0.0081\n",
      "Epoch [28/30] - Train Loss: 0.0078, Val Loss: 0.0081\n",
      "Epoch [29/30] - Train Loss: 0.0080, Val Loss: 0.0082\n",
      "Epoch [30/30] - Train Loss: 0.0081, Val Loss: 0.0081\n"
     ]
    }
   ],
   "source": [
    "kf = KFold(n_splits=num_folds, shuffle=True)\n",
    "YieldStrength_model = Model(input_size=1, hidden_size=16, output_size=1)\n",
    "YieldStrength_model, TrainLoss, ValLoss = kfold_trian(\n",
    "    dataset = train_dataset, \n",
    "    kf = kf, \n",
    "    model = YieldStrength_model, \n",
    "    criterion = nn.MSELoss(),\n",
    "    optimizer = optim.Adam(YieldStrength_model.parameters(), lr=4e-3, weight_decay=1e-5)\n",
    ")"
   ]
  },
  {
   "cell_type": "code",
   "execution_count": 37,
   "id": "46437ac8c66c99ba",
   "metadata": {
    "ExecuteTime": {
     "end_time": "2025-01-06T20:56:39.454815200Z",
     "start_time": "2025-01-06T20:56:39.224805900Z"
    },
    "collapsed": false,
    "jupyter": {
     "outputs_hidden": false
    }
   },
   "outputs": [],
   "source": [
    "X_test = np.arange(1,701).reshape(-1, 1)\n",
    "X_test = scaler_X.transform(X_test)\n",
    "YieldStrength_model.eval()\n",
    "with torch.no_grad():\n",
    "    YieldStrength_predictions = YieldStrength_model(torch.tensor(X_test, dtype=torch.float32))\n",
    "    YieldStrength_predictions = YieldStrength_scaler_y.inverse_transform(YieldStrength_predictions.detach().numpy())"
   ]
  },
  {
   "cell_type": "markdown",
   "id": "9c84a19ff9fcdf1d",
   "metadata": {
    "collapsed": false,
    "jupyter": {
     "outputs_hidden": false
    }
   },
   "source": [
    "**TotalElongation**"
   ]
  },
  {
   "cell_type": "code",
   "execution_count": 39,
   "id": "b0dcf4653556ff0",
   "metadata": {
    "ExecuteTime": {
     "end_time": "2025-01-06T20:59:09.335426400Z",
     "start_time": "2025-01-06T20:59:09.146028600Z"
    },
    "collapsed": false,
    "jupyter": {
     "outputs_hidden": false
    }
   },
   "outputs": [],
   "source": [
    "dataset = TensorDataset(TotalElongation_X, TotalElongation_y)\n",
    "train_size = int(0.8 * len(dataset))\n",
    "test_size = len(dataset) - train_size\n",
    "train_dataset, test_dataset = random_split(dataset, [train_size, test_size])"
   ]
  },
  {
   "cell_type": "code",
   "execution_count": 40,
   "id": "36bb60c61285df90",
   "metadata": {
    "ExecuteTime": {
     "end_time": "2025-01-06T20:59:10.595600200Z",
     "start_time": "2025-01-06T20:59:09.541977100Z"
    },
    "collapsed": false,
    "jupyter": {
     "outputs_hidden": false
    }
   },
   "outputs": [
    {
     "name": "stdout",
     "output_type": "stream",
     "text": [
      "Epoch [1/30] - Train Loss: 0.0410, Val Loss: 0.0354\n",
      "Epoch [2/30] - Train Loss: 0.0260, Val Loss: 0.0270\n",
      "Epoch [3/30] - Train Loss: 0.0250, Val Loss: 0.0239\n",
      "Epoch [4/30] - Train Loss: 0.0219, Val Loss: 0.0209\n",
      "Epoch [5/30] - Train Loss: 0.0187, Val Loss: 0.0181\n",
      "Epoch [6/30] - Train Loss: 0.0169, Val Loss: 0.0154\n",
      "Epoch [7/30] - Train Loss: 0.0150, Val Loss: 0.0141\n",
      "Epoch [8/30] - Train Loss: 0.0136, Val Loss: 0.0129\n",
      "Epoch [9/30] - Train Loss: 0.0132, Val Loss: 0.0131\n",
      "Epoch [10/30] - Train Loss: 0.0129, Val Loss: 0.0128\n",
      "Epoch [11/30] - Train Loss: 0.0121, Val Loss: 0.0124\n",
      "Epoch [12/30] - Train Loss: 0.0123, Val Loss: 0.0125\n",
      "Epoch [13/30] - Train Loss: 0.0120, Val Loss: 0.0127\n",
      "Epoch [14/30] - Train Loss: 0.0117, Val Loss: 0.0123\n",
      "Epoch [15/30] - Train Loss: 0.0124, Val Loss: 0.0121\n",
      "Epoch [16/30] - Train Loss: 0.0122, Val Loss: 0.0124\n",
      "Epoch [17/30] - Train Loss: 0.0143, Val Loss: 0.0131\n",
      "Epoch [18/30] - Train Loss: 0.0122, Val Loss: 0.0129\n",
      "Epoch [19/30] - Train Loss: 0.0121, Val Loss: 0.0123\n",
      "Epoch [20/30] - Train Loss: 0.0126, Val Loss: 0.0121\n",
      "Epoch [21/30] - Train Loss: 0.0122, Val Loss: 0.0121\n",
      "Epoch [22/30] - Train Loss: 0.0117, Val Loss: 0.0122\n",
      "Epoch [23/30] - Train Loss: 0.0125, Val Loss: 0.0121\n",
      "Epoch [24/30] - Train Loss: 0.0123, Val Loss: 0.0120\n",
      "Epoch [25/30] - Train Loss: 0.0114, Val Loss: 0.0119\n",
      "Epoch [26/30] - Train Loss: 0.0118, Val Loss: 0.0119\n",
      "Epoch [27/30] - Train Loss: 0.0124, Val Loss: 0.0119\n",
      "Epoch [28/30] - Train Loss: 0.0121, Val Loss: 0.0123\n",
      "Epoch [29/30] - Train Loss: 0.0126, Val Loss: 0.0122\n",
      "Epoch [30/30] - Train Loss: 0.0121, Val Loss: 0.0118\n"
     ]
    }
   ],
   "source": [
    "kf = KFold(n_splits=num_folds, shuffle=True)\n",
    "TotalElongation_model = Model(input_size=1, hidden_size=16, output_size=1)\n",
    "TotalElongation_model, TrainLoss, ValLoss = kfold_trian(\n",
    "    dataset = train_dataset, \n",
    "    kf = kf, \n",
    "    model = TotalElongation_model, \n",
    "    criterion = nn.MSELoss(),\n",
    "    optimizer = optim.Adam(TotalElongation_model.parameters(), lr=4e-3, weight_decay=1e-5)\n",
    ")"
   ]
  },
  {
   "cell_type": "code",
   "execution_count": 41,
   "id": "2fbff2a61e8523a0",
   "metadata": {
    "ExecuteTime": {
     "end_time": "2025-01-06T20:59:10.832527600Z",
     "start_time": "2025-01-06T20:59:10.599382800Z"
    },
    "collapsed": false,
    "jupyter": {
     "outputs_hidden": false
    }
   },
   "outputs": [],
   "source": [
    "X_test = np.arange(1,701).reshape(-1, 1)\n",
    "X_test = scaler_X.transform(X_test)\n",
    "TotalElongation_model.eval()\n",
    "with torch.no_grad():\n",
    "    TotalElongation_predictions = TotalElongation_model(torch.tensor(X_test, dtype=torch.float32))\n",
    "    TotalElongation_predictions = TotalElongation_scaler_y.inverse_transform(TotalElongation_predictions.detach().numpy())"
   ]
  },
  {
   "cell_type": "markdown",
   "id": "9b1a519794bdb08d",
   "metadata": {
    "collapsed": false,
    "jupyter": {
     "outputs_hidden": false
    }
   },
   "source": [
    "**UniformElongation**"
   ]
  },
  {
   "cell_type": "code",
   "execution_count": 43,
   "id": "331958106d69b8b2",
   "metadata": {
    "ExecuteTime": {
     "end_time": "2025-01-06T21:04:12.874119600Z",
     "start_time": "2025-01-06T21:04:12.668808600Z"
    },
    "collapsed": false,
    "jupyter": {
     "outputs_hidden": false
    }
   },
   "outputs": [],
   "source": [
    "dataset = TensorDataset(UniformElongation_X, UniformElongation_y)\n",
    "train_size = int(0.8 * len(dataset))\n",
    "test_size = len(dataset) - train_size\n",
    "train_dataset, test_dataset = random_split(dataset, [train_size, test_size])"
   ]
  },
  {
   "cell_type": "code",
   "execution_count": 44,
   "id": "9ea48ec71de3c6c5",
   "metadata": {
    "ExecuteTime": {
     "end_time": "2025-01-06T21:04:13.749793600Z",
     "start_time": "2025-01-06T21:04:13.033698100Z"
    },
    "collapsed": false,
    "jupyter": {
     "outputs_hidden": false
    }
   },
   "outputs": [
    {
     "name": "stdout",
     "output_type": "stream",
     "text": [
      "Epoch [1/30] - Train Loss: 0.1727, Val Loss: 0.1536\n",
      "Epoch [2/30] - Train Loss: 0.0797, Val Loss: 0.0687\n",
      "Epoch [3/30] - Train Loss: 0.0476, Val Loss: 0.0479\n",
      "Epoch [4/30] - Train Loss: 0.0497, Val Loss: 0.0460\n",
      "Epoch [5/30] - Train Loss: 0.0440, Val Loss: 0.0409\n",
      "Epoch [6/30] - Train Loss: 0.0418, Val Loss: 0.0377\n",
      "Epoch [7/30] - Train Loss: 0.0355, Val Loss: 0.0338\n",
      "Epoch [8/30] - Train Loss: 0.0304, Val Loss: 0.0278\n",
      "Epoch [9/30] - Train Loss: 0.0226, Val Loss: 0.0228\n",
      "Epoch [10/30] - Train Loss: 0.0201, Val Loss: 0.0208\n",
      "Epoch [11/30] - Train Loss: 0.0198, Val Loss: 0.0204\n",
      "Epoch [12/30] - Train Loss: 0.0196, Val Loss: 0.0203\n",
      "Epoch [13/30] - Train Loss: 0.0193, Val Loss: 0.0201\n",
      "Epoch [14/30] - Train Loss: 0.0207, Val Loss: 0.0202\n",
      "Epoch [15/30] - Train Loss: 0.0188, Val Loss: 0.0201\n",
      "Epoch [16/30] - Train Loss: 0.0207, Val Loss: 0.0202\n",
      "Epoch [17/30] - Train Loss: 0.0208, Val Loss: 0.0201\n",
      "Epoch [18/30] - Train Loss: 0.0194, Val Loss: 0.0201\n",
      "Epoch [19/30] - Train Loss: 0.0209, Val Loss: 0.0198\n",
      "Epoch [20/30] - Train Loss: 0.0191, Val Loss: 0.0201\n",
      "Epoch [21/30] - Train Loss: 0.0200, Val Loss: 0.0203\n",
      "Epoch [22/30] - Train Loss: 0.0199, Val Loss: 0.0202\n",
      "Epoch [23/30] - Train Loss: 0.0180, Val Loss: 0.0198\n",
      "Epoch [24/30] - Train Loss: 0.0190, Val Loss: 0.0203\n",
      "Epoch [25/30] - Train Loss: 0.0194, Val Loss: 0.0197\n",
      "Epoch [26/30] - Train Loss: 0.0188, Val Loss: 0.0199\n",
      "Epoch [27/30] - Train Loss: 0.0202, Val Loss: 0.0200\n",
      "Epoch [28/30] - Train Loss: 0.0212, Val Loss: 0.0200\n",
      "Epoch [29/30] - Train Loss: 0.0216, Val Loss: 0.0199\n",
      "Epoch [30/30] - Train Loss: 0.0195, Val Loss: 0.0198\n"
     ]
    }
   ],
   "source": [
    "kf = KFold(n_splits=num_folds, shuffle=True)\n",
    "UniformElongation_model = Model(input_size=1, hidden_size=16, output_size=1)\n",
    "UniformElongation_model, TrainLoss, ValLoss = kfold_trian(\n",
    "    dataset = train_dataset, \n",
    "    kf = kf, \n",
    "    model = UniformElongation_model, \n",
    "    criterion = nn.MSELoss(),\n",
    "    optimizer = optim.Adam(UniformElongation_model.parameters(), lr=4e-3, weight_decay=1e-5)\n",
    ")"
   ]
  },
  {
   "cell_type": "code",
   "execution_count": 45,
   "id": "3c8fe57ddd3490b6",
   "metadata": {
    "ExecuteTime": {
     "end_time": "2025-01-06T21:04:13.970156400Z",
     "start_time": "2025-01-06T21:04:13.745957Z"
    },
    "collapsed": false,
    "jupyter": {
     "outputs_hidden": false
    }
   },
   "outputs": [],
   "source": [
    "X_test = np.arange(1,701).reshape(-1, 1)\n",
    "X_test = scaler_X.transform(X_test)\n",
    "UniformElongation_model.eval()\n",
    "with torch.no_grad():\n",
    "    UniformElongation_predictions = UniformElongation_model(torch.tensor(X_test, dtype=torch.float32))\n",
    "    UniformElongation_predictions = UniformElongation_scaler_y.inverse_transform(UniformElongation_predictions.detach().numpy())"
   ]
  },
  {
   "cell_type": "markdown",
   "id": "4ba306c5adfc8af",
   "metadata": {
    "collapsed": false,
    "jupyter": {
     "outputs_hidden": false
    }
   },
   "source": [
    "**Results**"
   ]
  },
  {
   "cell_type": "code",
   "execution_count": 47,
   "id": "7cedaa59e519054",
   "metadata": {
    "ExecuteTime": {
     "end_time": "2025-01-06T21:05:49.685820600Z",
     "start_time": "2025-01-06T21:05:49.291423100Z"
    },
    "collapsed": false,
    "jupyter": {
     "outputs_hidden": false
    }
   },
   "outputs": [
    {
     "data": {
      "image/png": "[encoded data removed]",
      "text/plain": [
       "<Figure size 720x576 with 1 Axes>"
      ]
     },
     "metadata": {
      "needs_background": "light"
     },
     "output_type": "display_data"
    }
   ],
   "source": [
    "plt.figure(figsize=(10,8))\n",
    "plt.scatter(\n",
    "    UltimateStrength_scaler_X.inverse_transform(UltimateStrength_X), \n",
    "    UltimateStrength_scaler_y.inverse_transform(UltimateStrength_y), \n",
    "    label = \"UltimateStrength\")\n",
    "plt.plot(scaler_X.inverse_transform(X_test), UltimateStrength_predictions, label=f\"Preditions UltimateStrength\")\n",
    "\n",
    "plt.scatter(\n",
    "    YieldStrength_scaler_X.inverse_transform(YieldStrength_X), \n",
    "    YieldStrength_scaler_y.inverse_transform(YieldStrength_y), \n",
    "    label = \"YieldStrength\")\n",
    "plt.plot(scaler_X.inverse_transform(X_test), YieldStrength_predictions, label=f\"Preditions YieldStrength\")\n",
    "\n",
    "plt.scatter(\n",
    "    UniformElongation_scaler_X.inverse_transform(UniformElongation_X), \n",
    "    UniformElongation_scaler_y.inverse_transform(UniformElongation_y), \n",
    "    label = \"UniformElongation\")\n",
    "plt.plot(scaler_X.inverse_transform(X_test), UniformElongation_predictions, label = f\"Preditions UniformElongation\" )\n",
    "\n",
    "plt.scatter(\n",
    "    TotalElongation_scaler_X.inverse_transform(TotalElongation_X), \n",
    "    TotalElongation_scaler_y.inverse_transform(TotalElongation_y), \n",
    "    label = \"TotalElongation\")\n",
    "plt.plot(scaler_X.inverse_transform(X_test), TotalElongation_predictions, label = f\"Preditions TotalElongation\" )\n",
    "\n",
    "plt.ylabel(\"Strength (MPa)\")\n",
    "plt.xlabel(\"Temp\")\n",
    "plt.legend()\n",
    "plt.show()"
   ]
  },
  {
   "cell_type": "code",
   "execution_count": null,
   "id": "bf6c5ebe9b5b59f6",
   "metadata": {
    "collapsed": false,
    "jupyter": {
     "outputs_hidden": false
    }
   },
   "outputs": [],
   "source": []
  }
 ],
 "metadata": {
  "kernelspec": {
   "display_name": "Python 3 (ipykernel)",
   "language": "python",
   "name": "python3"
  },
  "language_info": {
   "codemirror_mode": {
    "name": "ipython",
    "version": 3
   },
   "file_extension": ".py",
   "mimetype": "text/x-python",
   "name": "python",
   "nbconvert_exporter": "python",
   "pygments_lexer": "ipython3",
   "version": "3.9.19"
  }
 },
 "nbformat": 4,
 "nbformat_minor": 5
}
