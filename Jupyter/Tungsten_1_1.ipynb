{
 "cells": [
  {
   "cell_type": "markdown",
   "id": "32929cb3-b4ad-4e04-a276-2e014cdbf396",
   "metadata": {},
   "source": [
    "# Eurofer Properties Database\n",
    "\n"
   ]
  },
  {
   "cell_type": "markdown",
   "id": "ceb68264-54f6-4f30-82ca-1d52f7bd1f63",
   "metadata": {},
   "source": [
    "## Table of Contents\n",
    "- [Abstract](#abstract)\n",
    "- [Introduction](#introduction)\n",
    "- [Section 1: Fabrication & Microstructure](#section-1)\n",
    "  - [1.1. Ore Extraction](#ore_extraction)\n",
    "  - [1.2. Tungsten Fabrication Methods](#tungsten_fabrication)\n",
    "  - [1.3. Microstructure](#microstructure)\n",
    "- [Section 2: Thermo-physical Properties](#section-2)\n",
    "  - [2.1. Density](#density)\n",
    "  - [2.2. Thermal Diffusivity](#diffusivity)\n",
    "  - [2.3. Specific Heat](#cp)\n",
    "  - [2.4. Thermal Conductivity](#conductivity)\n",
    "  - [2.5. Coefficient of Thermal Expansion](#expansion)\n",
    "  - [2.6. Thermal Emissivity](#emissivity)\n",
    "  - [2.7. Electrical Resistivity](#resistivity)\n",
    "  - [2.8. Magnetic Properties](#magnetic)\n",
    "  - [2.9. Elastic Properties](#elastic)\n",
    "- [Section 3: Mechanical Properties](#mechanical)"
   ]
  },
  {
   "cell_type": "markdown",
   "id": "bd72455d-0dc9-4897-a388-83d353596929",
   "metadata": {},
   "source": [
    "<a id=\"abstract\"></a>\n",
    "<h2 style=\"text-align: center;\">Abstract</h2>\n",
    "<p style=\"text-align: justify;\">\n",
    "This study presents a comprehensive database for tungsten, which aims to assist in the mechanical design of tungsten components, specifically those used in fusion reactor power sources. The database is organized into three main categories: fabrication and microstructure, thermophysical properties, and mechanical properties. Additionally, the study examines the effects of irradiation, including both neutron and ion irradiation, on the properties of tungsten. The data for each property is collected from multiple publicly available sources, and the sources are provided along with links to the original publications for verification or potential corrections. To describe the properties of tungsten, various functional forms are developed based on temperature, and if applicable, the irradiation dose.\n",
    "</p>"
   ]
  },
  {
   "cell_type": "markdown",
   "id": "b43b1d9c-8798-4210-bccf-ccfbbea1dd38",
   "metadata": {},
   "source": [
    "<a id=\"introduction\"></a>\n",
    "<h2>Introduction</h2>"
   ]
  },
  {
   "cell_type": "markdown",
   "id": "e1ea1a9b-9700-4c9e-9301-b349916762f1",
   "metadata": {},
   "source": [
    "<a id=\"section-1\"></a>\n",
    "<h2>Section 1: Fabrication & Microstructure</h2>\n",
    "<a id=\"ore_extraction\"></a>\n",
    "<h3> 1.1. Ore Extraction</h3>"
   ]
  },
  {
   "cell_type": "markdown",
   "id": "3c63074b-7d70-45ba-a0f9-6c2141d957a0",
   "metadata": {},
   "source": [
    "The extraction of tungsten from its ores comprises several stages. Eventually, the ore is transformed into tungsten oxide ($WO_3$), which is then subjected to heating with hydrogen or carbon. This heating process leads to the production of powdered tungsten. Due to its exceptionally high melting point, it is not economically viable to cast tungsten ingots. As an alternative, powdered tungsten is combined with small quantities of powdered nickel or other metals and then sintered. Another method for extracting tungsten is through hydrogen reduction of $WF_6$.\n",
    "\\begin{equation}\n",
    "    WF_6 + 3 H_2 \\rightarrow W + 6 HF\n",
    "\\end{equation}\n",
    "\n",
    "or pyrolytic decomposition \\cite{AMT2023}:\n",
    "\\begin{equation}\n",
    "    WF_6 \\rightarrow W + 3 F_2\n",
    "\\end{equation}"
   ]
  },
  {
   "cell_type": "markdown",
   "id": "8bb495d8-3e9c-4980-8e04-b0b4c6dac476",
   "metadata": {},
   "source": [
    "<a id=\"tungsten_fabrication\"></a>\n",
    "<h3> 1.2. Tungsten Fabrication Methods</h3>\n",
    "\n",
    "Traditional techniques like powder metallurgy, spark plasma sintering, chemical vapor deposition, hot isostatic pressing, and thermoplastic routes are commonly employed to produce tungsten products. These methods are preferred due to tungsten's high ductile-brittle transition temperature. However, an alternative manufacturing approach that offers more flexibility is selective laser melting, a form of 3D printing that allows for the creation of intricate three-dimensional shapes. The main manufacturing routes for tungsten are depicted in Figure 1 and Figure 2. To facilitate future discussions, we will now establish the following terminology:\n",
    "\n",
    "| Term                        | Abbreviation |\n",
    "|-----------------------------|--------------|\n",
    "| Powder Metallurgy            | PM           |\n",
    "| Single Crystal               | SC           |\n",
    "| Spark Plasma Sintering       | SPS          |\n",
    "| Chemical Vapor Deposition    | CVD          |\n",
    "| Hot Isostatic Pressing       | HIP          |\n",
    "| Selective Laser Melting      | SLM          |\n",
    "| Swaging                      | S            |\n",
    "| Hot Rolling                  | R            |\n",
    "| Forging                      | F            |\n",
    "| ASTM Grain Size              | G = ASTM00–ASTM12 |\n",
    "\n",
    "It should be noted that the ASTM grain size can be determined using the formula (where G represents the ASTM grain number and L represents the average size in microns). The ASTM grain number, G, is defined as the number of grains per square inch at 100x magnification. According to ASTM E112, G is set to 0 when L equals 320 μm. To establish a relationship between the ASTM grain size number, G, and the number of grains per square inch at 100x magnification, N:\n",
    "\n",
    "$$\n",
    "L = 320 \\times 2^{-\\left(\\frac{G}{2}\\right)}\n",
    "$$\n",
    "\n",
    "$$\n",
    "N = 2^{(G-1)}\n",
    "$$\n",
    "\n",
    "$$\n",
    "G = 2.8854 \\ln\\left(\\frac{320}{L}\\right)\n",
    "$$\n",
    "\n",
    "Due to the dependence of properties on the method of tungsten preparation, we propose a naming system as follows: `W-(Manufacturing Route)-(Forming Process)-(Grain Size)`. When referring to tungsten (W) data obtained from powder metallurgy (PM) and subsequently formed through hot rolling (HR) with a grain size of 130 microns, it will be identified as **W-PM-HR-ASTM03**. However, if the tungsten is a single crystal with a size of 320 microns, it will be designated as **W-SC-00-ASTM00**. On the other hand, chemical vapor deposition (CVD) tungsten with an average size of 8 microns will be denoted as **W-CVD-00-ASTM11**. This system aims to establish a standardized referencing system for various tungsten data. For example, tungsten produced by Plansee for electrode materials will be referred to as **W-PM-HR-ASTM03** to **W-PM-HR-ASTM08**.\n",
    "\n",
    "Because the W used in most structural applications is fabricated via the PM route, followed by sintering, followed by rolling, forging, or swaging, we adopt a simpler notation for \"structural tungsten,\" as follows: **(Forming Process)-(Grain Size)**. The designation for structural W would be **R-03** for rolled W with a grain size of 130 μm, etc.\n",
    "\n",
    "![Tungsten fabrication processes](Tungsten/Figures/W_fabrication_1.png)\n",
    "*Figure 1: Tungsten fabrication processes.*\n",
    "\n",
    "![Tungsten fabrication processes](Tungsten/Figures/W_fabrication_2.png)\n",
    "*Figure 2: Tungsten fabrication processes.*\n",
    "\n",
    "![Tungsten fabrication processes](Tungsten/Figures/W_extraction.png)\n",
    "*Figure 3: Tungsten fabrication processes.*\n",
    "\n"
   ]
  },
  {
   "cell_type": "markdown",
   "id": "1b85f89d-cd40-4877-b948-f0d12d33aa30",
   "metadata": {},
   "source": [
    "<a id=\"microstructure\"></a>\n",
    "<h3> 1.3. Microstructure</h3>\n",
    "\n",
    "![Microstructure](Tungsten/Figures/W_grains.png)\n",
    "*Figure 4: W microstructure at the grain level.*"
   ]
  },
  {
   "cell_type": "markdown",
   "id": "d3e942cf-9aee-4a15-95bb-ee9c476d0d13",
   "metadata": {},
   "source": [
    "<a id=\"section-2\"></a>\n",
    "<h2>Section 2: Thermophysical Properties</h2>"
   ]
  },
  {
   "cell_type": "code",
   "execution_count": 10,
   "id": "9c04f5e07595ffe7",
   "metadata": {
    "collapsed": false,
    "ExecuteTime": {
     "end_time": "2024-09-09T07:24:51.167391600Z",
     "start_time": "2024-09-09T07:24:51.048638900Z"
    }
   },
   "outputs": [
    {
     "name": "stdout",
     "output_type": "stream",
     "text": [
      "The autoreload extension is already loaded. To reload it, use:\n",
      "  %reload_ext autoreload\n"
     ]
    }
   ],
   "source": [
    "%load_ext autoreload\n",
    "%autoreload 2\n",
    "\n",
    "import sys\n",
    "sys.path.append('/path/to/Utilities')\n",
    "from Utilities.models_1_1 import *\n",
    "from Utilities.plots_1_1 import *\n",
    "\n",
    "excel_filename = 'Tungsten/Tungsten.xlsx'\n",
    "material_name = \"Tungsten\"\n",
    "\n",
    "# Temperature range and initializations\n",
    "T = np.arange(300, 1000, 10)\n",
    "n = len(T)\n",
    "RT = 273\n",
    "f_size = 10\n",
    "legend_size = 6\n",
    "m_size = 60\n"
   ]
  },
  {
   "cell_type": "markdown",
   "id": "01f87bd0-2372-4266-87e6-ab4b5561f959",
   "metadata": {},
   "source": [
    "<a id=\"density\"></a>\n",
    "<h3>2.1. Density</h3>"
   ]
  },
  {
   "cell_type": "code",
   "execution_count": null,
   "id": "115bd08a92bc2089",
   "metadata": {
    "collapsed": false
   },
   "outputs": [],
   "source": [
    "# Load excel data for desired property name\n",
    "material_property = \"W_density\"\n",
    "var_names, variables, dataframe = load_data(excel_filename, material_property, header_rows_list=[1, 3], num_data_rows=7)\n",
    "\n",
    "x_label = 'Temperature [K]'\n",
    "y_label = r'$\\rho$ [Kg/m$^3$]'\n",
    "x_lim = [290, 1000]\n",
    "y_lim = [0, 10000]\n",
    "data_labels = ['Tavassoli2004a']\n",
    "\n",
    "# Concatenate and sort data for fitting\n",
    "vars_x = variables[::2] \n",
    "vars_y = variables[1::2]\n",
    "T_data, Y_data = concatenate_and_sort(vars_x, vars_y)\n",
    "x_data_list = [x for x in vars_x]\n",
    "y_data_list = vars_y\n",
    "data_marker_sizes = [m_size] * len(x_data_list)\n",
    "\n",
    "# Fit the data\n",
    "p = [1, 1, 1, 1]\n",
    "fit_result = get_model_fit_and_print_it(T_data, Y_data, fit_func='poly', param_initials=p, method='leastsq',\\\n",
    "    material_name=material_name, property_name=material_property, eq_digits=3, print_bool=True)\n",
    "\n",
    "plot_data(x_data_list, y_data_list, T, fit_result, f_size, data_marker_sizes,\\\n",
    "          x_label, y_label, x_lim, y_lim, data_labels,\\\n",
    "          title=material_property + \" of \" + material_name)\n"
   ]
  },
  {
   "cell_type": "markdown",
   "id": "0d90cfff-046e-4e9c-a651-5f091a9d685d",
   "metadata": {
    "ExecuteTime": {
     "end_time": "2024-08-21T06:17:49.494923200Z",
     "start_time": "2024-08-21T06:17:49.478923200Z"
    }
   },
   "source": [
    "Data Source:[Tavassoli 2004](https://github.com/ZapOrg/ZapRepo/blob/main/RAFM%20Steels/Eurofer/Tavassoli2004--Fusion%20Demo%20Interim%20Structural%20Design%20Criteria%20(DISDC).pdf.pdf)"
   ]
  },
  {
   "cell_type": "markdown",
   "id": "998a06a9-49d8-4a92-babb-691eac8f0416",
   "metadata": {},
   "source": [
    "<a id=diffusivity></a>\n",
    "<h3>2.2. Thermal Diffusivity</h3>"
   ]
  },
  {
   "cell_type": "code",
   "execution_count": 9,
   "id": "2c7bcc29-0e9b-4af9-96b9-4f20577e2b64",
   "metadata": {
    "ExecuteTime": {
     "end_time": "2024-09-09T07:24:20.567215500Z",
     "start_time": "2024-09-09T07:24:20.350063600Z"
    }
   },
   "outputs": [
    {
     "ename": "ValueError",
     "evalue": "Worksheet named 'Eurofer_diffusivity' not found",
     "output_type": "error",
     "traceback": [
      "\u001B[1;31m---------------------------------------------------------------------------\u001B[0m",
      "\u001B[1;31mValueError\u001B[0m                                Traceback (most recent call last)",
      "Cell \u001B[1;32mIn[9], line 2\u001B[0m\n\u001B[0;32m      1\u001B[0m material_property \u001B[38;5;241m=\u001B[39m \u001B[38;5;124m\"\u001B[39m\u001B[38;5;124mEurofer_diffusivity\u001B[39m\u001B[38;5;124m\"\u001B[39m\n\u001B[1;32m----> 2\u001B[0m var_names, variables, dataframe \u001B[38;5;241m=\u001B[39m \u001B[43mload_data\u001B[49m\u001B[43m(\u001B[49m\u001B[43mexcel_filename\u001B[49m\u001B[43m,\u001B[49m\u001B[43m \u001B[49m\u001B[43mmaterial_property\u001B[49m\u001B[43m,\u001B[49m\u001B[43m \u001B[49m\u001B[43mheader_rows_list\u001B[49m\u001B[38;5;241;43m=\u001B[39;49m\u001B[43m[\u001B[49m\u001B[38;5;241;43m1\u001B[39;49m\u001B[43m,\u001B[49m\u001B[43m \u001B[49m\u001B[38;5;241;43m3\u001B[39;49m\u001B[43m]\u001B[49m\u001B[43m,\u001B[49m\u001B[43m \u001B[49m\u001B[43mnum_data_rows\u001B[49m\u001B[38;5;241;43m=\u001B[39;49m\u001B[38;5;241;43m8\u001B[39;49m\u001B[43m)\u001B[49m\n\u001B[0;32m      3\u001B[0m x_label \u001B[38;5;241m=\u001B[39m \u001B[38;5;124m'\u001B[39m\u001B[38;5;124mTemperature [K]\u001B[39m\u001B[38;5;124m'\u001B[39m\n\u001B[0;32m      4\u001B[0m y_label \u001B[38;5;241m=\u001B[39m \u001B[38;5;124mr\u001B[39m\u001B[38;5;124m'\u001B[39m\u001B[38;5;124m$Diffusivity$ cm$^2$/s]\u001B[39m\u001B[38;5;124m'\u001B[39m\n",
      "File \u001B[1;32m~\\Documents\\GitHub\\DatabaseCodes\\Jupyter\\Utilities\\models_1_1.py:44\u001B[0m, in \u001B[0;36mload_data\u001B[1;34m(filename, sheet_name, header_rows_list, num_data_rows, room_temp, display_data_table_bool)\u001B[0m\n\u001B[0;32m     40\u001B[0m     var_names \u001B[38;5;241m=\u001B[39m [col\u001B[38;5;241m.\u001B[39mtranslate(translation_table) \u001B[38;5;28;01mfor\u001B[39;00m col \u001B[38;5;129;01min\u001B[39;00m col_names]\n\u001B[0;32m     42\u001B[0m \u001B[38;5;28;01melif\u001B[39;00m \u001B[38;5;28mlen\u001B[39m(header_rows_list) \u001B[38;5;241m==\u001B[39m \u001B[38;5;241m2\u001B[39m:\n\u001B[1;32m---> 44\u001B[0m     col_names_prefix \u001B[38;5;241m=\u001B[39m \u001B[38;5;28mlist\u001B[39m(\u001B[43mpd\u001B[49m\u001B[38;5;241;43m.\u001B[39;49m\u001B[43mread_excel\u001B[49m\u001B[43m(\u001B[49m\u001B[43mfilename\u001B[49m\u001B[43m,\u001B[49m\u001B[43m \u001B[49m\u001B[43msheet_name\u001B[49m\u001B[38;5;241;43m=\u001B[39;49m\u001B[43msheet_name\u001B[49m\u001B[43m,\u001B[49m\u001B[43m \u001B[49m\u001B[43mheader\u001B[49m\u001B[38;5;241;43m=\u001B[39;49m\u001B[43mheader_rows_list\u001B[49m\u001B[43m[\u001B[49m\u001B[38;5;241;43m0\u001B[39;49m\u001B[43m]\u001B[49m\u001B[38;5;241;43m-\u001B[39;49m\u001B[38;5;241;43m1\u001B[39;49m\u001B[43m,\u001B[49m\u001B[43m \u001B[49m\u001B[43mnrows\u001B[49m\u001B[38;5;241;43m=\u001B[39;49m\u001B[38;5;241;43m1\u001B[39;49m\u001B[43m)\u001B[49m)\n\u001B[0;32m     45\u001B[0m     col_names_prefix \u001B[38;5;241m=\u001B[39m [col_name \u001B[38;5;28;01mfor\u001B[39;00m col_name \u001B[38;5;129;01min\u001B[39;00m col_names_prefix \u001B[38;5;28;01mif\u001B[39;00m \u001B[38;5;124m\"\u001B[39m\u001B[38;5;124mUnnamed\u001B[39m\u001B[38;5;124m\"\u001B[39m \u001B[38;5;129;01mnot\u001B[39;00m \u001B[38;5;129;01min\u001B[39;00m col_name]\n\u001B[0;32m     46\u001B[0m     var_names_prefix \u001B[38;5;241m=\u001B[39m [col\u001B[38;5;241m.\u001B[39mtranslate(translation_table) \u001B[38;5;28;01mfor\u001B[39;00m col \u001B[38;5;129;01min\u001B[39;00m col_names_prefix]\n",
      "File \u001B[1;32m~\\anaconda3\\envs\\C232\\lib\\site-packages\\pandas\\io\\excel\\_base.py:486\u001B[0m, in \u001B[0;36mread_excel\u001B[1;34m(io, sheet_name, header, names, index_col, usecols, dtype, engine, converters, true_values, false_values, skiprows, nrows, na_values, keep_default_na, na_filter, verbose, parse_dates, date_parser, date_format, thousands, decimal, comment, skipfooter, storage_options, dtype_backend)\u001B[0m\n\u001B[0;32m    480\u001B[0m     \u001B[38;5;28;01mraise\u001B[39;00m \u001B[38;5;167;01mValueError\u001B[39;00m(\n\u001B[0;32m    481\u001B[0m         \u001B[38;5;124m\"\u001B[39m\u001B[38;5;124mEngine should not be specified when passing \u001B[39m\u001B[38;5;124m\"\u001B[39m\n\u001B[0;32m    482\u001B[0m         \u001B[38;5;124m\"\u001B[39m\u001B[38;5;124man ExcelFile - ExcelFile already has the engine set\u001B[39m\u001B[38;5;124m\"\u001B[39m\n\u001B[0;32m    483\u001B[0m     )\n\u001B[0;32m    485\u001B[0m \u001B[38;5;28;01mtry\u001B[39;00m:\n\u001B[1;32m--> 486\u001B[0m     data \u001B[38;5;241m=\u001B[39m \u001B[43mio\u001B[49m\u001B[38;5;241;43m.\u001B[39;49m\u001B[43mparse\u001B[49m\u001B[43m(\u001B[49m\n\u001B[0;32m    487\u001B[0m \u001B[43m        \u001B[49m\u001B[43msheet_name\u001B[49m\u001B[38;5;241;43m=\u001B[39;49m\u001B[43msheet_name\u001B[49m\u001B[43m,\u001B[49m\n\u001B[0;32m    488\u001B[0m \u001B[43m        \u001B[49m\u001B[43mheader\u001B[49m\u001B[38;5;241;43m=\u001B[39;49m\u001B[43mheader\u001B[49m\u001B[43m,\u001B[49m\n\u001B[0;32m    489\u001B[0m \u001B[43m        \u001B[49m\u001B[43mnames\u001B[49m\u001B[38;5;241;43m=\u001B[39;49m\u001B[43mnames\u001B[49m\u001B[43m,\u001B[49m\n\u001B[0;32m    490\u001B[0m \u001B[43m        \u001B[49m\u001B[43mindex_col\u001B[49m\u001B[38;5;241;43m=\u001B[39;49m\u001B[43mindex_col\u001B[49m\u001B[43m,\u001B[49m\n\u001B[0;32m    491\u001B[0m \u001B[43m        \u001B[49m\u001B[43musecols\u001B[49m\u001B[38;5;241;43m=\u001B[39;49m\u001B[43musecols\u001B[49m\u001B[43m,\u001B[49m\n\u001B[0;32m    492\u001B[0m \u001B[43m        \u001B[49m\u001B[43mdtype\u001B[49m\u001B[38;5;241;43m=\u001B[39;49m\u001B[43mdtype\u001B[49m\u001B[43m,\u001B[49m\n\u001B[0;32m    493\u001B[0m \u001B[43m        \u001B[49m\u001B[43mconverters\u001B[49m\u001B[38;5;241;43m=\u001B[39;49m\u001B[43mconverters\u001B[49m\u001B[43m,\u001B[49m\n\u001B[0;32m    494\u001B[0m \u001B[43m        \u001B[49m\u001B[43mtrue_values\u001B[49m\u001B[38;5;241;43m=\u001B[39;49m\u001B[43mtrue_values\u001B[49m\u001B[43m,\u001B[49m\n\u001B[0;32m    495\u001B[0m \u001B[43m        \u001B[49m\u001B[43mfalse_values\u001B[49m\u001B[38;5;241;43m=\u001B[39;49m\u001B[43mfalse_values\u001B[49m\u001B[43m,\u001B[49m\n\u001B[0;32m    496\u001B[0m \u001B[43m        \u001B[49m\u001B[43mskiprows\u001B[49m\u001B[38;5;241;43m=\u001B[39;49m\u001B[43mskiprows\u001B[49m\u001B[43m,\u001B[49m\n\u001B[0;32m    497\u001B[0m \u001B[43m        \u001B[49m\u001B[43mnrows\u001B[49m\u001B[38;5;241;43m=\u001B[39;49m\u001B[43mnrows\u001B[49m\u001B[43m,\u001B[49m\n\u001B[0;32m    498\u001B[0m \u001B[43m        \u001B[49m\u001B[43mna_values\u001B[49m\u001B[38;5;241;43m=\u001B[39;49m\u001B[43mna_values\u001B[49m\u001B[43m,\u001B[49m\n\u001B[0;32m    499\u001B[0m \u001B[43m        \u001B[49m\u001B[43mkeep_default_na\u001B[49m\u001B[38;5;241;43m=\u001B[39;49m\u001B[43mkeep_default_na\u001B[49m\u001B[43m,\u001B[49m\n\u001B[0;32m    500\u001B[0m \u001B[43m        \u001B[49m\u001B[43mna_filter\u001B[49m\u001B[38;5;241;43m=\u001B[39;49m\u001B[43mna_filter\u001B[49m\u001B[43m,\u001B[49m\n\u001B[0;32m    501\u001B[0m \u001B[43m        \u001B[49m\u001B[43mverbose\u001B[49m\u001B[38;5;241;43m=\u001B[39;49m\u001B[43mverbose\u001B[49m\u001B[43m,\u001B[49m\n\u001B[0;32m    502\u001B[0m \u001B[43m        \u001B[49m\u001B[43mparse_dates\u001B[49m\u001B[38;5;241;43m=\u001B[39;49m\u001B[43mparse_dates\u001B[49m\u001B[43m,\u001B[49m\n\u001B[0;32m    503\u001B[0m \u001B[43m        \u001B[49m\u001B[43mdate_parser\u001B[49m\u001B[38;5;241;43m=\u001B[39;49m\u001B[43mdate_parser\u001B[49m\u001B[43m,\u001B[49m\n\u001B[0;32m    504\u001B[0m \u001B[43m        \u001B[49m\u001B[43mdate_format\u001B[49m\u001B[38;5;241;43m=\u001B[39;49m\u001B[43mdate_format\u001B[49m\u001B[43m,\u001B[49m\n\u001B[0;32m    505\u001B[0m \u001B[43m        \u001B[49m\u001B[43mthousands\u001B[49m\u001B[38;5;241;43m=\u001B[39;49m\u001B[43mthousands\u001B[49m\u001B[43m,\u001B[49m\n\u001B[0;32m    506\u001B[0m \u001B[43m        \u001B[49m\u001B[43mdecimal\u001B[49m\u001B[38;5;241;43m=\u001B[39;49m\u001B[43mdecimal\u001B[49m\u001B[43m,\u001B[49m\n\u001B[0;32m    507\u001B[0m \u001B[43m        \u001B[49m\u001B[43mcomment\u001B[49m\u001B[38;5;241;43m=\u001B[39;49m\u001B[43mcomment\u001B[49m\u001B[43m,\u001B[49m\n\u001B[0;32m    508\u001B[0m \u001B[43m        \u001B[49m\u001B[43mskipfooter\u001B[49m\u001B[38;5;241;43m=\u001B[39;49m\u001B[43mskipfooter\u001B[49m\u001B[43m,\u001B[49m\n\u001B[0;32m    509\u001B[0m \u001B[43m        \u001B[49m\u001B[43mdtype_backend\u001B[49m\u001B[38;5;241;43m=\u001B[39;49m\u001B[43mdtype_backend\u001B[49m\u001B[43m,\u001B[49m\n\u001B[0;32m    510\u001B[0m \u001B[43m    \u001B[49m\u001B[43m)\u001B[49m\n\u001B[0;32m    511\u001B[0m \u001B[38;5;28;01mfinally\u001B[39;00m:\n\u001B[0;32m    512\u001B[0m     \u001B[38;5;66;03m# make sure to close opened file handles\u001B[39;00m\n\u001B[0;32m    513\u001B[0m     \u001B[38;5;28;01mif\u001B[39;00m should_close:\n",
      "File \u001B[1;32m~\\anaconda3\\envs\\C232\\lib\\site-packages\\pandas\\io\\excel\\_base.py:1551\u001B[0m, in \u001B[0;36mExcelFile.parse\u001B[1;34m(self, sheet_name, header, names, index_col, usecols, converters, true_values, false_values, skiprows, nrows, na_values, parse_dates, date_parser, date_format, thousands, comment, skipfooter, dtype_backend, **kwds)\u001B[0m\n\u001B[0;32m   1518\u001B[0m \u001B[38;5;28;01mdef\u001B[39;00m \u001B[38;5;21mparse\u001B[39m(\n\u001B[0;32m   1519\u001B[0m     \u001B[38;5;28mself\u001B[39m,\n\u001B[0;32m   1520\u001B[0m     sheet_name: \u001B[38;5;28mstr\u001B[39m \u001B[38;5;241m|\u001B[39m \u001B[38;5;28mint\u001B[39m \u001B[38;5;241m|\u001B[39m \u001B[38;5;28mlist\u001B[39m[\u001B[38;5;28mint\u001B[39m] \u001B[38;5;241m|\u001B[39m \u001B[38;5;28mlist\u001B[39m[\u001B[38;5;28mstr\u001B[39m] \u001B[38;5;241m|\u001B[39m \u001B[38;5;28;01mNone\u001B[39;00m \u001B[38;5;241m=\u001B[39m \u001B[38;5;241m0\u001B[39m,\n\u001B[1;32m   (...)\u001B[0m\n\u001B[0;32m   1538\u001B[0m     \u001B[38;5;241m*\u001B[39m\u001B[38;5;241m*\u001B[39mkwds,\n\u001B[0;32m   1539\u001B[0m ) \u001B[38;5;241m-\u001B[39m\u001B[38;5;241m>\u001B[39m DataFrame \u001B[38;5;241m|\u001B[39m \u001B[38;5;28mdict\u001B[39m[\u001B[38;5;28mstr\u001B[39m, DataFrame] \u001B[38;5;241m|\u001B[39m \u001B[38;5;28mdict\u001B[39m[\u001B[38;5;28mint\u001B[39m, DataFrame]:\n\u001B[0;32m   1540\u001B[0m \u001B[38;5;250m    \u001B[39m\u001B[38;5;124;03m\"\"\"\u001B[39;00m\n\u001B[0;32m   1541\u001B[0m \u001B[38;5;124;03m    Parse specified sheet(s) into a DataFrame.\u001B[39;00m\n\u001B[0;32m   1542\u001B[0m \n\u001B[1;32m   (...)\u001B[0m\n\u001B[0;32m   1549\u001B[0m \u001B[38;5;124;03m        DataFrame from the passed in Excel file.\u001B[39;00m\n\u001B[0;32m   1550\u001B[0m \u001B[38;5;124;03m    \"\"\"\u001B[39;00m\n\u001B[1;32m-> 1551\u001B[0m     \u001B[38;5;28;01mreturn\u001B[39;00m \u001B[38;5;28;43mself\u001B[39;49m\u001B[38;5;241;43m.\u001B[39;49m\u001B[43m_reader\u001B[49m\u001B[38;5;241;43m.\u001B[39;49m\u001B[43mparse\u001B[49m\u001B[43m(\u001B[49m\n\u001B[0;32m   1552\u001B[0m \u001B[43m        \u001B[49m\u001B[43msheet_name\u001B[49m\u001B[38;5;241;43m=\u001B[39;49m\u001B[43msheet_name\u001B[49m\u001B[43m,\u001B[49m\n\u001B[0;32m   1553\u001B[0m \u001B[43m        \u001B[49m\u001B[43mheader\u001B[49m\u001B[38;5;241;43m=\u001B[39;49m\u001B[43mheader\u001B[49m\u001B[43m,\u001B[49m\n\u001B[0;32m   1554\u001B[0m \u001B[43m        \u001B[49m\u001B[43mnames\u001B[49m\u001B[38;5;241;43m=\u001B[39;49m\u001B[43mnames\u001B[49m\u001B[43m,\u001B[49m\n\u001B[0;32m   1555\u001B[0m \u001B[43m        \u001B[49m\u001B[43mindex_col\u001B[49m\u001B[38;5;241;43m=\u001B[39;49m\u001B[43mindex_col\u001B[49m\u001B[43m,\u001B[49m\n\u001B[0;32m   1556\u001B[0m \u001B[43m        \u001B[49m\u001B[43musecols\u001B[49m\u001B[38;5;241;43m=\u001B[39;49m\u001B[43musecols\u001B[49m\u001B[43m,\u001B[49m\n\u001B[0;32m   1557\u001B[0m \u001B[43m        \u001B[49m\u001B[43mconverters\u001B[49m\u001B[38;5;241;43m=\u001B[39;49m\u001B[43mconverters\u001B[49m\u001B[43m,\u001B[49m\n\u001B[0;32m   1558\u001B[0m \u001B[43m        \u001B[49m\u001B[43mtrue_values\u001B[49m\u001B[38;5;241;43m=\u001B[39;49m\u001B[43mtrue_values\u001B[49m\u001B[43m,\u001B[49m\n\u001B[0;32m   1559\u001B[0m \u001B[43m        \u001B[49m\u001B[43mfalse_values\u001B[49m\u001B[38;5;241;43m=\u001B[39;49m\u001B[43mfalse_values\u001B[49m\u001B[43m,\u001B[49m\n\u001B[0;32m   1560\u001B[0m \u001B[43m        \u001B[49m\u001B[43mskiprows\u001B[49m\u001B[38;5;241;43m=\u001B[39;49m\u001B[43mskiprows\u001B[49m\u001B[43m,\u001B[49m\n\u001B[0;32m   1561\u001B[0m \u001B[43m        \u001B[49m\u001B[43mnrows\u001B[49m\u001B[38;5;241;43m=\u001B[39;49m\u001B[43mnrows\u001B[49m\u001B[43m,\u001B[49m\n\u001B[0;32m   1562\u001B[0m \u001B[43m        \u001B[49m\u001B[43mna_values\u001B[49m\u001B[38;5;241;43m=\u001B[39;49m\u001B[43mna_values\u001B[49m\u001B[43m,\u001B[49m\n\u001B[0;32m   1563\u001B[0m \u001B[43m        \u001B[49m\u001B[43mparse_dates\u001B[49m\u001B[38;5;241;43m=\u001B[39;49m\u001B[43mparse_dates\u001B[49m\u001B[43m,\u001B[49m\n\u001B[0;32m   1564\u001B[0m \u001B[43m        \u001B[49m\u001B[43mdate_parser\u001B[49m\u001B[38;5;241;43m=\u001B[39;49m\u001B[43mdate_parser\u001B[49m\u001B[43m,\u001B[49m\n\u001B[0;32m   1565\u001B[0m \u001B[43m        \u001B[49m\u001B[43mdate_format\u001B[49m\u001B[38;5;241;43m=\u001B[39;49m\u001B[43mdate_format\u001B[49m\u001B[43m,\u001B[49m\n\u001B[0;32m   1566\u001B[0m \u001B[43m        \u001B[49m\u001B[43mthousands\u001B[49m\u001B[38;5;241;43m=\u001B[39;49m\u001B[43mthousands\u001B[49m\u001B[43m,\u001B[49m\n\u001B[0;32m   1567\u001B[0m \u001B[43m        \u001B[49m\u001B[43mcomment\u001B[49m\u001B[38;5;241;43m=\u001B[39;49m\u001B[43mcomment\u001B[49m\u001B[43m,\u001B[49m\n\u001B[0;32m   1568\u001B[0m \u001B[43m        \u001B[49m\u001B[43mskipfooter\u001B[49m\u001B[38;5;241;43m=\u001B[39;49m\u001B[43mskipfooter\u001B[49m\u001B[43m,\u001B[49m\n\u001B[0;32m   1569\u001B[0m \u001B[43m        \u001B[49m\u001B[43mdtype_backend\u001B[49m\u001B[38;5;241;43m=\u001B[39;49m\u001B[43mdtype_backend\u001B[49m\u001B[43m,\u001B[49m\n\u001B[0;32m   1570\u001B[0m \u001B[43m        \u001B[49m\u001B[38;5;241;43m*\u001B[39;49m\u001B[38;5;241;43m*\u001B[39;49m\u001B[43mkwds\u001B[49m\u001B[43m,\u001B[49m\n\u001B[0;32m   1571\u001B[0m \u001B[43m    \u001B[49m\u001B[43m)\u001B[49m\n",
      "File \u001B[1;32m~\\anaconda3\\envs\\C232\\lib\\site-packages\\pandas\\io\\excel\\_base.py:746\u001B[0m, in \u001B[0;36mBaseExcelReader.parse\u001B[1;34m(self, sheet_name, header, names, index_col, usecols, dtype, true_values, false_values, skiprows, nrows, na_values, verbose, parse_dates, date_parser, date_format, thousands, decimal, comment, skipfooter, dtype_backend, **kwds)\u001B[0m\n\u001B[0;32m    743\u001B[0m     \u001B[38;5;28mprint\u001B[39m(\u001B[38;5;124mf\u001B[39m\u001B[38;5;124m\"\u001B[39m\u001B[38;5;124mReading sheet \u001B[39m\u001B[38;5;132;01m{\u001B[39;00masheetname\u001B[38;5;132;01m}\u001B[39;00m\u001B[38;5;124m\"\u001B[39m)\n\u001B[0;32m    745\u001B[0m \u001B[38;5;28;01mif\u001B[39;00m \u001B[38;5;28misinstance\u001B[39m(asheetname, \u001B[38;5;28mstr\u001B[39m):\n\u001B[1;32m--> 746\u001B[0m     sheet \u001B[38;5;241m=\u001B[39m \u001B[38;5;28;43mself\u001B[39;49m\u001B[38;5;241;43m.\u001B[39;49m\u001B[43mget_sheet_by_name\u001B[49m\u001B[43m(\u001B[49m\u001B[43masheetname\u001B[49m\u001B[43m)\u001B[49m\n\u001B[0;32m    747\u001B[0m \u001B[38;5;28;01melse\u001B[39;00m:  \u001B[38;5;66;03m# assume an integer if not a string\u001B[39;00m\n\u001B[0;32m    748\u001B[0m     sheet \u001B[38;5;241m=\u001B[39m \u001B[38;5;28mself\u001B[39m\u001B[38;5;241m.\u001B[39mget_sheet_by_index(asheetname)\n",
      "File \u001B[1;32m~\\anaconda3\\envs\\C232\\lib\\site-packages\\pandas\\io\\excel\\_openpyxl.py:569\u001B[0m, in \u001B[0;36mOpenpyxlReader.get_sheet_by_name\u001B[1;34m(self, name)\u001B[0m\n\u001B[0;32m    568\u001B[0m \u001B[38;5;28;01mdef\u001B[39;00m \u001B[38;5;21mget_sheet_by_name\u001B[39m(\u001B[38;5;28mself\u001B[39m, name: \u001B[38;5;28mstr\u001B[39m):\n\u001B[1;32m--> 569\u001B[0m     \u001B[38;5;28;43mself\u001B[39;49m\u001B[38;5;241;43m.\u001B[39;49m\u001B[43mraise_if_bad_sheet_by_name\u001B[49m\u001B[43m(\u001B[49m\u001B[43mname\u001B[49m\u001B[43m)\u001B[49m\n\u001B[0;32m    570\u001B[0m     \u001B[38;5;28;01mreturn\u001B[39;00m \u001B[38;5;28mself\u001B[39m\u001B[38;5;241m.\u001B[39mbook[name]\n",
      "File \u001B[1;32m~\\anaconda3\\envs\\C232\\lib\\site-packages\\pandas\\io\\excel\\_base.py:597\u001B[0m, in \u001B[0;36mBaseExcelReader.raise_if_bad_sheet_by_name\u001B[1;34m(self, name)\u001B[0m\n\u001B[0;32m    595\u001B[0m \u001B[38;5;28;01mdef\u001B[39;00m \u001B[38;5;21mraise_if_bad_sheet_by_name\u001B[39m(\u001B[38;5;28mself\u001B[39m, name: \u001B[38;5;28mstr\u001B[39m) \u001B[38;5;241m-\u001B[39m\u001B[38;5;241m>\u001B[39m \u001B[38;5;28;01mNone\u001B[39;00m:\n\u001B[0;32m    596\u001B[0m     \u001B[38;5;28;01mif\u001B[39;00m name \u001B[38;5;129;01mnot\u001B[39;00m \u001B[38;5;129;01min\u001B[39;00m \u001B[38;5;28mself\u001B[39m\u001B[38;5;241m.\u001B[39msheet_names:\n\u001B[1;32m--> 597\u001B[0m         \u001B[38;5;28;01mraise\u001B[39;00m \u001B[38;5;167;01mValueError\u001B[39;00m(\u001B[38;5;124mf\u001B[39m\u001B[38;5;124m\"\u001B[39m\u001B[38;5;124mWorksheet named \u001B[39m\u001B[38;5;124m'\u001B[39m\u001B[38;5;132;01m{\u001B[39;00mname\u001B[38;5;132;01m}\u001B[39;00m\u001B[38;5;124m'\u001B[39m\u001B[38;5;124m not found\u001B[39m\u001B[38;5;124m\"\u001B[39m)\n",
      "\u001B[1;31mValueError\u001B[0m: Worksheet named 'Eurofer_diffusivity' not found"
     ]
    }
   ],
   "source": [
    "material_property = \"W_diffusivity\"\n",
    "var_names, variables, dataframe = load_data(excel_filename, material_property, header_rows_list=[1, 3], num_data_rows=8)\n",
    "x_label = 'Temperature [K]'\n",
    "y_label = r'$Diffusivity$ cm$^2$/s]'\n",
    "x_lim = [290, 1000]\n",
    "y_lim = [0, 0.1]\n",
    "data_labels = ['Mergia']\n",
    "\n",
    "\n",
    "# Concatenate and sort data for fitting\n",
    "vars_x = variables[::2] \n",
    "vars_y = variables[1::2]\n",
    "T_data, Y_data = concatenate_and_sort(vars_x, vars_y)\n",
    "x_data_list = [x for x in vars_x]\n",
    "y_data_list = vars_y\n",
    "data_marker_sizes = [m_size] * len(x_data_list)\n",
    "\n",
    "# Fit the data\n",
    "p = [1, 1, 1, 1]\n",
    "fit_result = get_model_fit_and_print_it(T_data, Y_data, fit_func='poly', param_initials=p, method='leastsq',\\\n",
    "    material_name=material_name, property_name=material_property, eq_digits=3, print_bool=True)\n",
    "\n",
    "plot_data(x_data_list, y_data_list, T, fit_result, f_size, data_marker_sizes,\\\n",
    "          x_label, y_label, x_lim, y_lim, data_labels,\\\n",
    "          title=material_property + \" of \" + material_name)\n"
   ]
  },
  {
   "cell_type": "markdown",
   "id": "6ee65660-2004-43ef-b7cc-0c1a14b7351d",
   "metadata": {
    "tags": []
   },
   "source": [
    "<a id=cp></a>\n",
    "<h3>2.3. Specific Heat</h3>"
   ]
  },
  {
   "cell_type": "code",
   "execution_count": null,
   "id": "0a4687e1-d3c3-4eeb-8fbc-15a062e3d840",
   "metadata": {},
   "outputs": [],
   "source": [
    "material_property = \"W_specific_heat\"\n",
    "var_names, variables, dataframe = load_data(excel_filename, material_property, header_rows_list=[1, 3], num_data_rows=24)\n",
    "x_label = 'Temperature [K]'\n",
    "y_label = r'Specific Heat [J/Kg.K]'\n",
    "x_lim = [290, 1000]\n",
    "y_lim = [0, 1200]\n",
    "data_labels = ['Mergia','Chun']\n",
    "\n",
    "\n",
    "# Concatenate and sort data for fitting\n",
    "vars_x = variables[::2] \n",
    "vars_y = variables[1::2]\n",
    "T_data, Y_data = concatenate_and_sort(vars_x, vars_y)\n",
    "x_data_list = [x for x in vars_x]\n",
    "y_data_list = vars_y\n",
    "data_marker_sizes = [m_size] * len(x_data_list)\n",
    "\n",
    "# Fit the data\n",
    "p = [1, 1, 1, 1]\n",
    "fit_result = get_model_fit_and_print_it(T_data, Y_data, fit_func='poly', param_initials=p, method='leastsq',\\\n",
    "    material_name=material_name, property_name=material_property, eq_digits=3, print_bool=True)\n",
    "\n",
    "plot_data(x_data_list, y_data_list, T, fit_result, f_size, data_marker_sizes,\\\n",
    "          x_label, y_label, x_lim, y_lim, data_labels,\\\n",
    "          title=material_property + \" of \" + material_name)"
   ]
  },
  {
   "cell_type": "markdown",
   "id": "d8317558f89096f8",
   "metadata": {},
   "source": [
    "<a id=cp></a>\n",
    "<h3>2.4. Conductivity</h3>"
   ]
  },
  {
   "cell_type": "code",
   "execution_count": null,
   "id": "af318bdd-5677-4c98-8694-a254bc9f27d0",
   "metadata": {},
   "outputs": [],
   "source": [
    "material_property = \"W_conductivity\"\n",
    "var_names, variables, dataframe = load_data(excel_filename, material_property, header_rows_list=[1, 3], num_data_rows=13)\n",
    "x_label ='Temperature [K]'\n",
    "y_label =r'Conductivity [W/m.K]'\n",
    "x_lim = [290, 1000]\n",
    "y_lim = [0, 40]\n",
    "data_labels = ['Mergia','Chun']\n",
    "\n",
    "\n",
    "\n",
    "# Concatenate and sort data for fitting\n",
    "vars_x = variables[::2] \n",
    "vars_y = variables[1::2]\n",
    "T_data, Y_data = concatenate_and_sort(vars_x, vars_y)\n",
    "x_data_list = [x for x in vars_x]\n",
    "y_data_list = vars_y\n",
    "data_marker_sizes = [m_size] * len(x_data_list)\n",
    "\n",
    "# Fit the data\n",
    "p = [1, 1, 1, 1]\n",
    "fit_result = get_model_fit_and_print_it(T_data, Y_data, fit_func='poly', param_initials=p, method='leastsq',\\\n",
    "    material_name=material_name, property_name=material_property, eq_digits=3, print_bool=True)\n",
    "\n",
    "plot_data(x_data_list, y_data_list, T, fit_result, f_size, data_marker_sizes,\\\n",
    "          x_label, y_label, x_lim, y_lim, data_labels,\\\n",
    "          title=material_property + \" of \" + material_name)"
   ]
  },
  {
   "cell_type": "markdown",
   "id": "a7959f3b017190d4",
   "metadata": {},
   "source": [
    "<a id=cp></a>\n",
    "<h3>2.5. Resistivity</h3>"
   ]
  },
  {
   "cell_type": "code",
   "execution_count": null,
   "id": "8ddba4c6ea191911",
   "metadata": {
    "collapsed": false
   },
   "outputs": [],
   "source": [
    "material_property = \"W_resistivity\"\n",
    "var_names, variables, datafream = load_data(excel_filename, material_property, header_rows_list=[1, 3], num_data_rows=23)\n",
    "x_label='Temperature [K]'\n",
    "y_label=r'Resistivity [$\\times 10^{-8} \\Omega$.m]'\n",
    "x_lim=[300, 1000]\n",
    "y_lim=[0, 140]\n",
    "data_labels = ['Mergia']\n",
    "\n",
    "# Concatenate and sort data for fitting\n",
    "vars_x = variables[::2] \n",
    "vars_y = variables[1::2]\n",
    "T_data, Y_data = concatenate_and_sort(vars_x, vars_y)\n",
    "x_data_list = [x for x in vars_x]\n",
    "y_data_list = vars_y\n",
    "data_marker_sizes = [m_size] * len(x_data_list)\n",
    "\n",
    "# Fit the data\n",
    "p = [1, 1, 1, 1]\n",
    "fit_result = get_model_fit_and_print_it(T_data, Y_data, fit_func='poly', param_initials=p, method='leastsq',\\\n",
    "    material_name=material_name, property_name=material_property, eq_digits=3, print_bool=True)\n",
    "\n",
    "plot_data(x_data_list, y_data_list, T, fit_result, f_size, data_marker_sizes,\\\n",
    "          x_label, y_label, x_lim, y_lim, data_labels,\\\n",
    "          title=material_property + \" of \" + material_name)"
   ]
  },
  {
   "cell_type": "markdown",
   "id": "60fd193e27365593",
   "metadata": {},
   "source": [
    "<a id=cp></a>\n",
    "<h3>2.6. CTE</h3>"
   ]
  },
  {
   "cell_type": "code",
   "execution_count": null,
   "id": "8a5d78ddc0ad7c27",
   "metadata": {
    "collapsed": false
   },
   "outputs": [],
   "source": [
    "material_property = \"W_CTE\"\n",
    "var_names, variables, dataframe = load_data(excel_filename, material_property, header_rows_list=[1, 3], num_data_rows=7)\n",
    "\n",
    "x_label='Temperature [K]'\n",
    "y_label=r'CTE [$10^{-6}$/K]'\n",
    "x_lim=[300, 1000]\n",
    "y_lim=[0, 14]\n",
    "data_labels = ['Chun']\n",
    "\n",
    "\n",
    "# Concatenate and sort data for fitting\n",
    "vars_x = variables[::2] \n",
    "vars_y = variables[1::2]\n",
    "T_data, Y_data = concatenate_and_sort(vars_x, vars_y)\n",
    "x_data_list = [x for x in vars_x]\n",
    "y_data_list = vars_y\n",
    "data_marker_sizes = [m_size] * len(x_data_list)\n",
    "\n",
    "# Fit the data\n",
    "p = [1, 1, 1, 1]\n",
    "fit_result = get_model_fit_and_print_it(T_data, Y_data, fit_func='poly', param_initials=p, method='leastsq',\\\n",
    "    material_name=material_name, property_name=material_property, eq_digits=3, print_bool=True)\n",
    "\n",
    "plot_data(x_data_list, y_data_list, T, fit_result, f_size, data_marker_sizes,\\\n",
    "          x_label, y_label, x_lim, y_lim, data_labels,\\\n",
    "          title=material_property + \" of \" + material_name)"
   ]
  },
  {
   "cell_type": "markdown",
   "id": "db80eecb3048562f",
   "metadata": {},
   "source": [
    "<a id=cp></a>\n",
    "<h3>2.7. Emissivity</h3>"
   ]
  },
  {
   "cell_type": "code",
   "execution_count": null,
   "id": "e8bf038a83f1a9f8",
   "metadata": {
    "collapsed": false
   },
   "outputs": [],
   "source": [
    "material_property = \"W_emissivity\"\n",
    "var_names, variables, dataframe = load_data(excel_filename, material_property, header_rows_list=[1, 3], num_data_rows=5)\n",
    "x_label = 'Temperature [K]'\n",
    "y_label = r'Hemispherical Emissivity'\n",
    "x_lim=[400, 1000]\n",
    "y_lim=[0, 0.5]\n",
    "data_labels = ['Echániz rolled Hemispherical','Echániz polished Hemispherical']\n",
    "\n",
    "# Concatenate and sort data for fitting\n",
    "vars_x = variables[:4:2] \n",
    "vars_y = variables[1:4:2]\n",
    "T_data, Y_data = concatenate_and_sort(vars_x, vars_y)\n",
    "x_data_list = [x for x in vars_x]\n",
    "y_data_list = vars_y\n",
    "data_marker_sizes = [m_size] * len(x_data_list)\n",
    "\n",
    "# Fit the data\n",
    "p = [1, 1, 1, 1]\n",
    "fit_result = get_model_fit_and_print_it(T_data, Y_data, fit_func='poly', param_initials=p, method='leastsq',\\\n",
    "    material_name=material_name, property_name=material_property, eq_digits=3, print_bool=True)\n",
    "\n",
    "plot_data(x_data_list, y_data_list, T, fit_result, f_size, data_marker_sizes,\\\n",
    "          x_label, y_label, x_lim, y_lim, data_labels,\\\n",
    "          title=material_property + \" of \" + material_name)"
   ]
  },
  {
   "cell_type": "code",
   "execution_count": null,
   "id": "264e3148-bceb-4650-8d13-cf8b981d0b2c",
   "metadata": {},
   "outputs": [],
   "source": [
    "material_property = \"W_emissivity\"\n",
    "var_names, variables, dataframe = load_data(excel_filename, material_property, header_rows_list=[1, 3], num_data_rows=5)\n",
    "x_label = 'Temperature [K]'\n",
    "y_label = r'Normal Emissivity'\n",
    "x_lim=[340, 1000]\n",
    "y_lim=[0, 0.5]\n",
    "data_labels = ['Echániz polished Normal']\n",
    "\n",
    "vars_x = variables[::2]\n",
    "vars_y = variables[1::2]\n",
    "\n",
    "# Extract only the third element from vars_x and vars_y\n",
    "\n",
    "# Creating lists with only the first column\n",
    "x_data_list = [vars_x[2]]\n",
    "y_data_list = [vars_y[2]]\n",
    "data_marker_sizes = [m_size] * len(x_data_list)\n",
    "\n",
    "# Fit the data\n",
    "p = [1, 1, 1, 1]\n",
    "fit_result = get_model_fit_and_print_it(T_data, Y_data, fit_func='poly', param_initials=p, method='leastsq',\\\n",
    "    material_name=material_name, property_name=material_property, eq_digits=3, print_bool=True)\n",
    "\n",
    "plot_data(x_data_list, y_data_list, T, fit_result, f_size, data_marker_sizes,\\\n",
    "          x_label, y_label, x_lim, y_lim, data_labels,\\\n",
    "          title=material_property + \" of \" + material_name)"
   ]
  },
  {
   "cell_type": "markdown",
   "id": "82e009500802eb06",
   "metadata": {},
   "source": [
    "<a id=cp></a>\n",
    "<h3>2.8. Elastic</h3> "
   ]
  },
  {
   "cell_type": "code",
   "execution_count": null,
   "id": "6514d2de42238a9f",
   "metadata": {
    "collapsed": false
   },
   "outputs": [],
   "source": [
    "material_property = \"W_elastic\"\n",
    "var_names, variables, dataframe = load_data(excel_filename, material_property, header_rows_list=[1, 3], num_data_rows=9)\n",
    "x_label = 'Temperature [K]'\n",
    "y_label = 'Elastic Modulus [GPa]'\n",
    "x_lim=[300, 1000]\n",
    "y_lim=[0, 50]\n",
    "data_labels = ['Tavassoli2002']\n",
    "\n",
    "# Concatenate and sort data for fitting\n",
    "vars_x = variables[::2] \n",
    "vars_y = variables[1::2]\n",
    "T_data, Y_data = concatenate_and_sort(vars_x, vars_y)\n",
    "x_data_list = [x for x in vars_x]\n",
    "y_data_list = vars_y\n",
    "data_marker_sizes = [m_size] * len(x_data_list)\n",
    "\n",
    "# Fit the data\n",
    "p = [1, 1, 1, 1]\n",
    "fit_result = get_model_fit_and_print_it(T_data, Y_data, fit_func='poly', param_initials=p, method='leastsq',\\\n",
    "    material_name=material_name, property_name=material_property, eq_digits=3, print_bool=True)\n",
    "\n",
    "plot_data(x_data_list, y_data_list, T, fit_result, f_size, data_marker_sizes,\\\n",
    "          x_label, y_label, x_lim, y_lim, data_labels,\\\n",
    "          title=material_property + \" of \" + material_name)\n"
   ]
  },
  {
   "cell_type": "markdown",
   "id": "316629670547307c",
   "metadata": {},
   "source": [
    "<a id=cp></a>\n",
    "<h3>2.9. Hardness</h3m> "
   ]
  },
  {
   "cell_type": "code",
   "execution_count": null,
   "id": "a013cab31098fce6",
   "metadata": {
    "collapsed": false
   },
   "outputs": [],
   "source": [
    "material_property = \"W_hardness\"\n",
    "var_names, variables, dataframe = load_data(excel_filename, material_property, header_rows_list=[1, 3], num_data_rows=12)\n",
    "x_label = 'Temperature [C]'\n",
    "y_label = 'Hardness [HV30]'\n",
    "x_lim=[0, 1200]\n",
    "y_lim=[0, 500]\n",
    "data_labels = ['1040C','1040C','980C','980']\n",
    "\n",
    "# Concatenate and sort data for fitting\n",
    "vars_x = variables[::2] \n",
    "vars_y = variables[1::2]\n",
    "T_data, Y_data = concatenate_and_sort(vars_x, vars_y)\n",
    "x_data_list = [x for x in vars_x]\n",
    "y_data_list = vars_y\n",
    "data_marker_sizes = [m_size] * len(x_data_list)\n",
    "\n",
    "# Fit the data\n",
    "p = [1, 1, 1, 1]\n",
    "fit_result = get_model_fit_and_print_it(T_data, Y_data, fit_func='poly', param_initials=p, method='leastsq',\\\n",
    "    material_name=material_name, property_name=material_property, eq_digits=3, print_bool=True)\n",
    "\n",
    "plot_data(x_data_list, y_data_list, T, fit_result, f_size, data_marker_sizes,\\\n",
    "          x_label, y_label, x_lim, y_lim, data_labels,\\\n",
    "          title=material_property + \" of \" + material_name)"
   ]
  },
  {
   "cell_type": "markdown",
   "id": "58953e94c3e3f5b6",
   "metadata": {},
   "source": [
    "<a id=cp></a>\n",
    "<h3>2.10. Strength</h3m> "
   ]
  },
  {
   "cell_type": "code",
   "execution_count": null,
   "id": "383a7ca4548ef8f1",
   "metadata": {
    "collapsed": false
   },
   "outputs": [],
   "source": [
    "material_property = \"W_strength\"\n",
    "var_names, variables, dataframe = load_data(excel_filename, material_property, header_rows_list=[1, 3], num_data_rows=15)\n",
    "x_label = 'Temperature [K]'\n",
    "y_label = 'Yield Strength [MPa]'\n",
    "x_lim=[RT, 1200]\n",
    "y_lim=[0, 1000]\n",
    "data_labels = ['Chun']\n",
    "m_size=20\n",
    "\n",
    "T_data = variables[10]+RT\n",
    "Y_data = variables[11]\n",
    "x_data_list = T_data\n",
    "y_data_list = Y_data\n",
    "data_marker_sizes = [m_size] * len(x_data_list)\n",
    "\n",
    "# Fit the data\n",
    "p = [1, 1, 1, 1]\n",
    "fit_result = get_model_fit_and_print_it(T_data, Y_data, fit_func='poly', param_initials=p, method='leastsq',\\\n",
    "    material_name=material_name, property_name=material_property, eq_digits=3, print_bool=True)\n",
    "\n",
    "plot_data(x_data_list, y_data_list, T, fit_result, f_size, data_marker_sizes,\\\n",
    "          x_label, y_label, x_lim, y_lim, data_labels,\\\n",
    "          title=material_property + \" of \" + material_name)\n"
   ]
  },
  {
   "cell_type": "markdown",
   "id": "cb9df528378705a5",
   "metadata": {},
   "source": [
    "<a id=cp></a>\n",
    "<h3>2.11. Ductility</h3m> "
   ]
  },
  {
   "cell_type": "code",
   "execution_count": null,
   "id": "b62ae618a75da9fa",
   "metadata": {
    "collapsed": false
   },
   "outputs": [],
   "source": []
  },
  {
   "cell_type": "code",
   "execution_count": null,
   "id": "62a7771ad36b1153",
   "metadata": {
    "collapsed": false
   },
   "outputs": [],
   "source": [
    "material_property = \"W_ductility\"\n",
    "var_names, variables, dataframe = load_data(excel_filename, material_property, header_rows_list=[1, 3], num_data_rows=15)\n",
    "\n",
    "\n",
    "# Concatenate and sort data for fitting\n",
    "vars_x = variables[::2] \n",
    "vars_y = variables[1::2]\n",
    "\n",
    "T, k = concatenate_and_sort(vars_x, vars_y)\n",
    "\n",
    "x_data_list = [x for x in vars_x]\n",
    "y_data_list = vars_y\n",
    "data_labels = ['Chun', 'Van der Schaaf', 'Van der Schaaf', 'Van der Schaaf', 'Van der Schaaf', 'Van der Schaaf', 'Van der Schaaf']\n",
    "\n",
    "fit_result = get_model_fit_and_print_it(T, k, fit_func='poly', fit_fun_args_and_initials={'a':1, 'b':1, 'c':1, 'd':1}, material_name=material_name, property_name=material_property, eq_digits=6, print_bool=True)\n",
    "\n",
    "custom_multi_plot(x_data_list, y_data_list,\n",
    "                  x_label='Temperature [K]', y_label=r'Specific Heat [J/Kg.K]', title=material_property + \" of \" + material_name,\n",
    "                  scale='linear', font_size=fsize, xlim=[0, 800], ylim=[0, 35], \n",
    "                  grid=True, legend=True, data_labels=data_labels, fit_labels=None,\n",
    "                  data_colors=data_colors, fit_colors=None, data_marker_sizes=data_marker_sizes, \n",
    "                  fit_line_widths=[2], x_label_font_size=fsize, y_label_font_size=fsize, title_font_size=fsize, \n",
    "                  legend_font_size=fsize, legend_loc='lower left', legend_num_cols=2)\n",
    "# \n",
    "plot_fit_and_conf(T, fit_result, sigma=2, legend=True, legend_font_size=fsize, legend_loc='lower left', legend_num_cols=2,\n",
    "                  fit_line_color='red', pred_int_fill_color='grey', conf_int_fill_color='blue')"
   ]
  },
  {
   "cell_type": "markdown",
   "id": "b5bc272fa0a52dc9",
   "metadata": {},
   "source": [
    "<a id=cp></a>\n",
    "<h3>2.12. Toughness</h3m> "
   ]
  },
  {
   "cell_type": "code",
   "execution_count": null,
   "id": "2b26f9ce55844324",
   "metadata": {
    "collapsed": false
   },
   "outputs": [],
   "source": [
    "material_property = \"W_toughness\"\n",
    "var_names, variables = load_data(excel_filename, material_property, header_rows_list=[1, 3], num_data_rows=23, room_temp=293)"
   ]
  },
  {
   "cell_type": "code",
   "execution_count": null,
   "id": "a3fa1dbc7ae155c6",
   "metadata": {
    "collapsed": false
   },
   "outputs": [],
   "source": [
    "# Temperature range and initializations\n",
    "T = np.arange(-200, 500, 10)\n",
    "n = len(T)\n",
    "\n",
    "# Concatenate and sort data for fitting\n",
    "vars_x = variables[::2] \n",
    "vars_y = variables[1::2]\n",
    "\n",
    "T, k = concatenate_and_sort(vars_x, vars_y)\n",
    "\n",
    "x_data_list = [x for x in vars_x]\n",
    "y_data_list = vars_y\n",
    "data_colors = ['green', 'red', 'magenta', 'blue', 'cyan', 'black', 'orange', 'purple', ]\n",
    "data_marker_sizes = [msize] * len(x_data_list)\n",
    "data_labels = ['Tavassoli', 'Tavassoli', '3Lindau', '3Lindau', '3Lindau']\n",
    "\n",
    "fit_result = get_model_fit_and_print_it(T, k, fit_func='poly', fit_fun_args_and_initials={'a':1, 'b':1, 'c':1, 'd':1}, material_name=material_name, property_name=material_property, eq_digits=6, print_bool=True)\n",
    "\n",
    "custom_multi_plot(x_data_list, y_data_list,\n",
    "                  x_label='Temperature [K]', y_label=r'Specific Heat [J/Kg.K]', title=material_property + \" of \" + material_name,\n",
    "                  scale='linear', font_size=fsize, xlim=[-200, 500], ylim=[0, 350], \n",
    "                  grid=True, legend=True, data_labels=data_labels, fit_labels=None,\n",
    "                  data_colors=data_colors, fit_colors=None, data_marker_sizes=data_marker_sizes, \n",
    "                  fit_line_widths=[2], x_label_font_size=fsize, y_label_font_size=fsize, title_font_size=fsize, \n",
    "                  legend_font_size=fsize, legend_loc='lower left', legend_num_cols=2)\n",
    "# \n",
    "plot_fit_and_conf(T, fit_result, sigma=2, legend=True, legend_font_size=fsize, legend_loc='lower left', legend_num_cols=2,\n",
    "                  fit_line_color='red', pred_int_fill_color='grey', conf_int_fill_color='blue')"
   ]
  },
  {
   "cell_type": "markdown",
   "id": "cf4ce95de2e54deb",
   "metadata": {},
   "source": [
    "<a id=cp></a>\n",
    "<h3>2.13. Creep</h3m> "
   ]
  },
  {
   "cell_type": "code",
   "execution_count": null,
   "id": "434de5cb62544ff7",
   "metadata": {
    "collapsed": false
   },
   "outputs": [],
   "source": [
    "material_property = \"W_creep\"\n",
    "var_names, variables = load_data(excel_filename, material_property, header_rows_list=[1, 3], num_data_rows=10, room_temp=293)"
   ]
  },
  {
   "cell_type": "code",
   "execution_count": null,
   "id": "7dfd656f4fdeacbd",
   "metadata": {
    "collapsed": false
   },
   "outputs": [],
   "source": [
    "# Temperature range and initializations\n",
    "T = np.arange(10, 300000, 10)\n",
    "n = len(T)\n",
    "\n",
    "# Concatenate and sort data for fitting\n",
    "vars_x = variables[::2] \n",
    "vars_y = variables[1::2]\n",
    "\n",
    "T, k = concatenate_and_sort(vars_x, vars_y)\n",
    "\n",
    "x_data_list = [x for x in vars_x]\n",
    "y_data_list = vars_y\n",
    "data_colors = ['green', 'red', 'magenta', 'blue', 'cyan', 'black', 'orange', 'purple', ]\n",
    "data_marker_sizes = [msize] * len(x_data_list)\n",
    "data_labels = ['Aiello', 'Aiello', 'Aiello', 'Aiello', 'Gaganidze']\n",
    "\n",
    "fit_result = get_model_fit_and_print_it(T, k, fit_func='poly', fit_fun_args_and_initials={'a':1, 'b':1, 'c':1, 'd':1}, material_name=material_name, property_name=material_property, eq_digits=6, print_bool=True)\n",
    "\n",
    "custom_multi_plot(x_data_list, y_data_list,\n",
    "                  x_label='Temperature [K]', y_label=r'Specific Heat [J/Kg.K]', title=material_property + \" of \" + material_name,\n",
    "                  scale='linear', font_size=fsize, xlim=[10, 300000], ylim=[0, 300], \n",
    "                  grid=True, legend=True, data_labels=data_labels, fit_labels=None,\n",
    "                  data_colors=data_colors, fit_colors=None, data_marker_sizes=data_marker_sizes, \n",
    "                  fit_line_widths=[2], x_label_font_size=fsize, y_label_font_size=fsize, title_font_size=fsize, \n",
    "                  legend_font_size=fsize, legend_loc='lower left', legend_num_cols=2)\n",
    "# \n",
    "plot_fit_and_conf(T, fit_result, sigma=2, legend=True, legend_font_size=fsize, legend_loc='lower left', legend_num_cols=2,\n",
    "                  fit_line_color='red', pred_int_fill_color='grey', conf_int_fill_color='blue')"
   ]
  },
  {
   "cell_type": "markdown",
   "id": "bf11ee4ca7debb68",
   "metadata": {},
   "source": [
    "<a id=cp></a>\n",
    "<h3>2.14. Fatigue</h3m> "
   ]
  },
  {
   "cell_type": "code",
   "execution_count": null,
   "id": "14024c242c7acf1d",
   "metadata": {
    "collapsed": false
   },
   "outputs": [],
   "source": [
    "material_property = \"W_fatigue\"\n",
    "var_names, variables = load_data(excel_filename, material_property, header_rows_list=[1, 3], num_data_rows=31, room_temp=293)"
   ]
  },
  {
   "cell_type": "code",
   "execution_count": null,
   "id": "90690de523e5655",
   "metadata": {
    "collapsed": false
   },
   "outputs": [],
   "source": [
    "# Temperature range and initializations\n",
    "T = np.arange(10, 1000000, 10)\n",
    "n = len(T)\n",
    "\n",
    "# Concatenate and sort data for fitting\n",
    "vars_x = variables[::2] \n",
    "vars_y = variables[1::2]\n",
    "\n",
    "T, k = concatenate_and_sort(vars_x, vars_y)\n",
    "\n",
    "x_data_list = [x for x in vars_x]\n",
    "y_data_list = vars_y\n",
    "data_colors = ['green', 'red', 'magenta', 'blue', 'cyan', 'black', 'orange', 'purple', ]\n",
    "data_marker_sizes = [msize] * len(x_data_list)\n",
    "data_labels = ['Aiello', 'Aiello', 'Roldán', 'Roldán', 'Roldán', 'Gaganidze', 'Gaganidze']\n",
    "\n",
    "fit_result = get_model_fit_and_print_it(T, k, fit_func='poly', fit_fun_args_and_initials={'a':1, 'b':1, 'c':1, 'd':1}, material_name=material_name, property_name=material_property, eq_digits=6, print_bool=True)\n",
    "\n",
    "custom_multi_plot(x_data_list, y_data_list,\n",
    "                  x_label='Temperature [K]', y_label=r'Specific Heat [J/Kg.K]', title=material_property + \" of \" + material_name,\n",
    "                  scale='linear', font_size=fsize, xlim=[10, 1000000], ylim=[0, 2], \n",
    "                  grid=True, legend=True, data_labels=data_labels, fit_labels=None,\n",
    "                  data_colors=data_colors, fit_colors=None, data_marker_sizes=data_marker_sizes, \n",
    "                  fit_line_widths=[2], x_label_font_size=fsize, y_label_font_size=fsize, title_font_size=fsize, \n",
    "                  legend_font_size=fsize, legend_loc='lower left', legend_num_cols=2)\n",
    "# \n",
    "plot_fit_and_conf(T, fit_result, sigma=2, legend=True, legend_font_size=fsize, legend_loc='lower left', legend_num_cols=2,\n",
    "                  fit_line_color='red', pred_int_fill_color='grey', conf_int_fill_color='blue')"
   ]
  },
  {
   "cell_type": "code",
   "execution_count": null,
   "id": "5936a184cdf7963",
   "metadata": {
    "collapsed": false
   },
   "outputs": [],
   "source": []
  }
 ],
 "metadata": {
  "kernelspec": {
   "display_name": "Python 3 (ipykernel)",
   "language": "python",
   "name": "python3"
  },
  "language_info": {
   "codemirror_mode": {
    "name": "ipython",
    "version": 3
   },
   "file_extension": ".py",
   "mimetype": "text/x-python",
   "name": "python",
   "nbconvert_exporter": "python",
   "pygments_lexer": "ipython3",
   "version": "3.9.12"
  }
 },
 "nbformat": 4,
 "nbformat_minor": 5
}
