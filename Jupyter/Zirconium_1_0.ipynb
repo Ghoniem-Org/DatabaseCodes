{
 "cells": [
  {
   "cell_type": "markdown",
   "id": "32929cb3-b4ad-4e04-a276-2e014cdbf396",
   "metadata": {},
   "source": [
    "# Zirconium Properties Database\n",
    "\n"
   ]
  },
  {
   "cell_type": "markdown",
   "id": "ceb68264-54f6-4f30-82ca-1d52f7bd1f63",
   "metadata": {},
   "source": [
    "## Table of Contents\n",
    "- [Abstract](#abstract)\n",
    "- [Introduction](#introduction)\n",
    "- [Section 1: Manufacturing & Heat Treatment](#section-1)\n",
    "  - [1.1. Composition](#composition)\n",
    "  - [1.2. Heat Treatment](#heat_treatment)\n",
    "  - [1.3. Microstructure](#microstructure)\n",
    "  - [1.4. Product Forms](#forms)\n",
    "- [Section 2: Thermo-physical Properties](#section-2)\n",
    "  - [2.1. Density](#density)\n",
    "  - [2.2. Thermal Diffusivity](#diffusivity)\n",
    "  - [2.3. Specific Heat](#cp)\n",
    "  - [2.4. Thermal Conductivity](#conductivity)\n",
    "  - [2.5. Coefficient of Thermal Expansion](#expansion)\n",
    "  - [2.6. Thermal Emissivity](#emissivity)\n",
    "  - [2.7. Electrical Resistivity](#resistivity)\n",
    "  - [2.8. Magnetic Properties](#magnetic)\n",
    "  - [2.9. Elastic Properties](#elastic)\n",
    "- [Section 3: Mechanical Properties](#mechanical)"
   ]
  },
  {
   "cell_type": "markdown",
   "id": "bd72455d-0dc9-4897-a388-83d353596929",
   "metadata": {},
   "source": [
    "<a id=\"abstract\"></a>\n",
    "<h2 style=\"text-align: center;\">Abstract</h2>\n",
    "<p style=\"text-align: justify;\">\n",
    "We present a comprehensive database for .\n",
    "</p>"
   ]
  },
  {
   "cell_type": "markdown",
   "id": "b43b1d9c-8798-4210-bccf-ccfbbea1dd38",
   "metadata": {},
   "source": [
    "<a id=\"introduction\"></a>\n",
    "<h2>Introduction</h2>"
   ]
  },
  {
   "cell_type": "markdown",
   "id": "e1ea1a9b-9700-4c9e-9301-b349916762f1",
   "metadata": {},
   "source": [
    "<a id=\"section-1\"></a>\n",
    "<h2>Section 1: Manufacturing & Heat Treatment</h2>\n",
    "<a id=\"composition\"></a>\n",
    "<h3> 1.1. Composition</h3>"
   ]
  },
  {
   "cell_type": "markdown",
   "id": "fd5c26b8-0691-49a6-b4e5-0b355622ff08",
   "metadata": {},
   "source": [
    "<a id=\"product\"></a>\n",
    "<h3> 1.4. Product Forms</h3>"
   ]
  },
  {
   "cell_type": "markdown",
   "id": "d3e942cf-9aee-4a15-95bb-ee9c476d0d13",
   "metadata": {},
   "source": [
    "<a id=\"section-2\"></a>\n",
    "<h2>Section 2: Thermophysical Properties</h2>"
   ]
  },
  {
   "cell_type": "code",
   "execution_count": 8,
   "id": "9c04f5e07595ffe7",
   "metadata": {
    "ExecuteTime": {
     "end_time": "2024-08-22T05:58:02.798786800Z",
     "start_time": "2024-08-22T05:58:02.675436200Z"
    },
    "collapsed": false,
    "jupyter": {
     "outputs_hidden": false
    }
   },
   "outputs": [],
   "source": [
    "%load_ext autoreload\n",
    "%autoreload 2\n",
    "\n",
    "import sys\n",
    "sys.path.append('/path/to/Utilities')\n",
    "\n",
    "from Utilities.models_2_0 import *\n",
    "from Utilities.plots_2_0 import *\n",
    "\n",
    "\n",
    "excel_filename = 'Zirconium/OSU_ZR_creep_data_plots.xlsx'\n",
    "material_name = \"Zirconium\"\n"
   ]
  },
  {
   "cell_type": "markdown",
   "id": "cf4ce95de2e54deb",
   "metadata": {},
   "source": [
    "<a id=cp></a>\n",
    "<h3>2.13. Creep</h3m> "
   ]
  },
  {
   "cell_type": "code",
   "execution_count": 10,
   "id": "f1717ad3-9ea7-45f0-a42b-71e3eeaafda7",
   "metadata": {},
   "outputs": [
    {
     "data": {
      "text/html": [
       "<div>\n",
       "<style scoped>\n",
       "    .dataframe tbody tr th:only-of-type {\n",
       "        vertical-align: middle;\n",
       "    }\n",
       "\n",
       "    .dataframe tbody tr th {\n",
       "        vertical-align: top;\n",
       "    }\n",
       "\n",
       "    .dataframe thead th {\n",
       "        text-align: right;\n",
       "    }\n",
       "</style>\n",
       "<table border=\"1\" class=\"dataframe\">\n",
       "  <thead>\n",
       "    <tr style=\"text-align: right;\">\n",
       "      <th></th>\n",
       "      <th>timesec</th>\n",
       "      <th>voltV</th>\n",
       "      <th>engstrain</th>\n",
       "      <th>truestrain</th>\n",
       "      <th>notes</th>\n",
       "    </tr>\n",
       "  </thead>\n",
       "  <tbody>\n",
       "    <tr>\n",
       "      <th>0</th>\n",
       "      <td>0.000000</td>\n",
       "      <td>5.000</td>\n",
       "      <td>0.000000</td>\n",
       "      <td>0.000000</td>\n",
       "      <td>68</td>\n",
       "    </tr>\n",
       "    <tr>\n",
       "      <th>1</th>\n",
       "      <td>4.400000</td>\n",
       "      <td>4.990</td>\n",
       "      <td>0.000333</td>\n",
       "      <td>0.000333</td>\n",
       "      <td>68</td>\n",
       "    </tr>\n",
       "    <tr>\n",
       "      <th>2</th>\n",
       "      <td>8.800000</td>\n",
       "      <td>4.770</td>\n",
       "      <td>0.007667</td>\n",
       "      <td>0.007637</td>\n",
       "      <td>68</td>\n",
       "    </tr>\n",
       "    <tr>\n",
       "      <th>3</th>\n",
       "      <td>13.200000</td>\n",
       "      <td>4.750</td>\n",
       "      <td>0.008333</td>\n",
       "      <td>0.008299</td>\n",
       "      <td>69</td>\n",
       "    </tr>\n",
       "    <tr>\n",
       "      <th>4</th>\n",
       "      <td>17.583333</td>\n",
       "      <td>4.750</td>\n",
       "      <td>0.008333</td>\n",
       "      <td>0.008299</td>\n",
       "      <td>68</td>\n",
       "    </tr>\n",
       "    <tr>\n",
       "      <th>...</th>\n",
       "      <td>...</td>\n",
       "      <td>...</td>\n",
       "      <td>...</td>\n",
       "      <td>...</td>\n",
       "      <td>...</td>\n",
       "    </tr>\n",
       "    <tr>\n",
       "      <th>215</th>\n",
       "      <td>217132.216667</td>\n",
       "      <td>2.195</td>\n",
       "      <td>0.093500</td>\n",
       "      <td>0.089384</td>\n",
       "      <td>69</td>\n",
       "    </tr>\n",
       "    <tr>\n",
       "      <th>216</th>\n",
       "      <td>218932.183333</td>\n",
       "      <td>2.195</td>\n",
       "      <td>0.093500</td>\n",
       "      <td>0.089384</td>\n",
       "      <td>69</td>\n",
       "    </tr>\n",
       "    <tr>\n",
       "      <th>217</th>\n",
       "      <td>220732.183333</td>\n",
       "      <td>2.194</td>\n",
       "      <td>0.093533</td>\n",
       "      <td>0.089414</td>\n",
       "      <td>69</td>\n",
       "    </tr>\n",
       "    <tr>\n",
       "      <th>218</th>\n",
       "      <td>222532.166667</td>\n",
       "      <td>2.196</td>\n",
       "      <td>0.093467</td>\n",
       "      <td>0.089353</td>\n",
       "      <td>69</td>\n",
       "    </tr>\n",
       "    <tr>\n",
       "      <th>219</th>\n",
       "      <td>224332.216667</td>\n",
       "      <td>2.196</td>\n",
       "      <td>0.093467</td>\n",
       "      <td>0.089353</td>\n",
       "      <td>70</td>\n",
       "    </tr>\n",
       "  </tbody>\n",
       "</table>\n",
       "<p>220 rows × 5 columns</p>\n",
       "</div>"
      ],
      "text/plain": [
       "           timesec  voltV  engstrain  truestrain  notes\n",
       "0         0.000000  5.000   0.000000    0.000000     68\n",
       "1         4.400000  4.990   0.000333    0.000333     68\n",
       "2         8.800000  4.770   0.007667    0.007637     68\n",
       "3        13.200000  4.750   0.008333    0.008299     69\n",
       "4        17.583333  4.750   0.008333    0.008299     68\n",
       "..             ...    ...        ...         ...    ...\n",
       "215  217132.216667  2.195   0.093500    0.089384     69\n",
       "216  218932.183333  2.195   0.093500    0.089384     69\n",
       "217  220732.183333  2.194   0.093533    0.089414     69\n",
       "218  222532.166667  2.196   0.093467    0.089353     69\n",
       "219  224332.216667  2.196   0.093467    0.089353     70\n",
       "\n",
       "[220 rows x 5 columns]"
      ]
     },
     "metadata": {},
     "output_type": "display_data"
    },
    {
     "data": {
      "image/png": "[encoded data removed]",
      "text/plain": [
       "<Figure size 720x432 with 1 Axes>"
      ]
     },
     "metadata": {
      "needs_background": "light"
     },
     "output_type": "display_data"
    }
   ],
   "source": [
    "import matplotlib.pyplot as plt\n",
    "import pandas as pd\n",
    "from matplotlib.ticker import ScalarFormatter\n",
    "\n",
    "# Load your data (assuming `load_data` returns the DataFrame in `df`)\n",
    "material_property = \"ZR-COAT1\"\n",
    "var_names, variables, df = load_data(excel_filename, material_property, header_rows_list=[1], num_data_rows=220)\n",
    "\n",
    "# Plot configuration\n",
    "legend_size = 6\n",
    "m_size = 60\n",
    "x_label = 'Time [s]'\n",
    "y_label = r'True strain [%]'\n",
    "x_lim = [0, 2.5e5]\n",
    "y_lim = [0, 10]\n",
    "data_labels = ['450$^\\circ$C & 55 MPa - Hayes']\n",
    "font_size = 24\n",
    "legend_loc = 'best'\n",
    "legend_size = 20\n",
    "\n",
    "# Set the global font to Times Roman\n",
    "plt.rcParams['font.family'] = 'serif'\n",
    "plt.rcParams['font.serif'] = ['Times New Roman']  # or just 'Times'\n",
    "\n",
    "# Extract column headings to verify column names\n",
    "headings = df.columns\n",
    "x_data = df['timesec']\n",
    "y_data = 100 * df['truestrain']\n",
    "\n",
    "# Plotting\n",
    "plt.figure(figsize=(10, 6))\n",
    "#plt.plot(x_data, y_data, label=data_labels[0], color='blue', linestyle='-', linewidth=3)\n",
    "plt.scatter(x_data, y_data, label=data_labels[0], color='green', s=10, edgecolor='black')\n",
    "\n",
    "# Customize the axes labels and title\n",
    "plt.xlabel(x_label, fontsize=font_size)\n",
    "plt.ylabel(y_label, fontsize=font_size)\n",
    "plt.xlim(x_lim)\n",
    "plt.ylim(y_lim)\n",
    "plt.title(f'Zirconium creep tests by Troy Hayes & Mike Kassner', fontsize=font_size + 2)\n",
    "\n",
    "# Customize tick parameters (tick size)\n",
    "plt.tick_params(axis='both', which='major', labelsize=font_size - 4)  # control tick size\n",
    "plt.tick_params(axis='both', which='minor', labelsize=font_size - 6)\n",
    "\n",
    "# Display x-axis in scientific notation\n",
    "plt.ticklabel_format(style='sci', axis='x', scilimits=(0, 0))\n",
    "\n",
    "# Optionally, you can customize how the scientific notation appears by using a ScalarFormatter\n",
    "plt.gca().xaxis.set_major_formatter(ScalarFormatter(useMathText=True))\n",
    "plt.gca().ticklabel_format(axis='x', style='sci', scilimits=(0, 0))\n",
    "\n",
    "# Increase the size of the multiplier (10^n) on the x-axis\n",
    "plt.gca().xaxis.get_offset_text().set_fontsize(font_size)  # Set the multiplier font size\n",
    "\n",
    "# Customize the legend\n",
    "plt.legend(loc=legend_loc, fontsize=legend_size)\n",
    "\n",
    "# Add grid and ensure tight layout\n",
    "plt.grid(True)\n",
    "plt.tight_layout()\n",
    "\n",
    "# Show plot\n",
    "plt.show()\n"
   ]
  },
  {
   "cell_type": "code",
   "execution_count": 11,
   "id": "02485d67-0a51-46e2-8468-81e274e5126e",
   "metadata": {},
   "outputs": [
    {
     "data": {
      "image/png": "[encoded data removed]",
      "text/plain": [
       "<Figure size 720x432 with 1 Axes>"
      ]
     },
     "metadata": {
      "needs_background": "light"
     },
     "output_type": "display_data"
    }
   ],
   "source": [
    "\n",
    "# Calculate the derivative of truestrain with respect to timesec\n",
    "df['strain_rate'] = np.gradient(df['truestrain'], df['timesec'])\n",
    "\n",
    "# Suppress negative values by filtering the DataFrame\n",
    "df_filtered = df[df['strain_rate'] > 0]\n",
    "\n",
    "# Plotting\n",
    "plt.figure(figsize=(10, 6))\n",
    "#plt.plot(df_filtered['timesec'], df_filtered['strain_rate'], label='strain rate', color='green', linestyle='-', linewidth=3)\n",
    "# Use plt.scatter for just the data points\n",
    "plt.scatter(df_filtered['timesec'], df_filtered['strain_rate'], label='strain rate', color='green', s=10, edgecolor='black')\n",
    "\n",
    "# Customize the axes labels and title\n",
    "plt.xlabel('Time [s]', fontsize=24)\n",
    "plt.ylabel('Strain rate, s$^{-1}$', fontsize=24)\n",
    "plt.xlim([df_filtered['timesec'].min(), df_filtered['timesec'].max()])\n",
    "x_lim = [0, 2.5e5]\n",
    "y_lim = [1e-7, 1e-5]\n",
    "plt.xlim(x_lim)\n",
    "plt.ylim(y_lim)\n",
    "plt.title(f'Zirconium creep tests by Troy Hayes & Mike Kassner', fontsize=font_size + 2)\n",
    "\n",
    "# Set log scale for y-axis\n",
    "plt.yscale('log')\n",
    "#plt.xscale('log')\n",
    "\n",
    "# Customize tick parameters\n",
    "plt.tick_params(axis='both', which='major', labelsize=18)\n",
    "\n",
    "# Add grid and ensure tight layout\n",
    "plt.grid(True, which='both', axis='both')\n",
    "plt.tight_layout()\n",
    "\n",
    "# Show plot\n",
    "plt.show()\n"
   ]
  },
  {
   "cell_type": "code",
   "execution_count": null,
   "id": "2686659b-bb20-4df2-9595-56d9ee1262a3",
   "metadata": {},
   "outputs": [],
   "source": []
  }
 ],
 "metadata": {
  "kernelspec": {
   "display_name": "Python 3 (ipykernel)",
   "language": "python",
   "name": "python3"
  },
  "language_info": {
   "codemirror_mode": {
    "name": "ipython",
    "version": 3
   },
   "file_extension": ".py",
   "mimetype": "text/x-python",
   "name": "python",
   "nbconvert_exporter": "python",
   "pygments_lexer": "ipython3",
   "version": "3.9.19"
  }
 },
 "nbformat": 4,
 "nbformat_minor": 5
}
