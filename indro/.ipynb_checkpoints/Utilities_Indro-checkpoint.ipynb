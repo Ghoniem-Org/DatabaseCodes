{
 "cells": [
  {
   "cell_type": "code",
   "execution_count": null,
   "id": "9d2e8818-cdce-4bc6-a182-f1db0f0e91e2",
   "metadata": {},
   "outputs": [],
   "source": [
    "## Utility functions written by Indro:\n",
    "\n",
    "# Load the data from the Excel file\n",
    "def load_data(filename, sheet_name, excel_col_names, variable_names_for_cols):\n",
    "    global temp_data\n",
    "    temp_data = pd.read_excel(filename, sheet_name=sheet_name, header=1, names=excel_col_names)\n",
    "    exec(\", \".join(variable_names_for_cols) + \" = [temp_data[col].dropna().to_numpy() for col in temp_data]\", globals())\n",
    "\n",
    "# Calculate confidence and prediction intervals\n",
    "def get_conf_and_pred_intervals(x, y):\n",
    "    fit_data = {'X': x, 'Y': y}\n",
    "    fit_df = pd.DataFrame(fit_data)\n",
    "    \n",
    "    # Ordinary Least Squares\n",
    "    model = smf.ols(formula='Y ~ I(X**3) + I(X**2) + X + 1', data=fit_df)\n",
    "    results = model.fit()\n",
    "    \n",
    "    # Calculating prediction\n",
    "    predictions = results.get_prediction(fit_df)\n",
    "    prediction_summary_frame = predictions.summary_frame(alpha=0.05)\n",
    "    \n",
    "    return fit_df, results, prediction_summary_frame\n",
    "\n",
    "# Concatenate and sort lists of x and y data\n",
    "def concatenate_and_sort(x_list, y_list):\n",
    "\n",
    "    x_concat = np.concatenate(x_list)\n",
    "    y_concat = np.concatenate(y_list)\n",
    "\n",
    "    x_sorted_indices = x_concat.argsort()\n",
    "    x_sorted = x_concat[x_sorted_indices[::-1]]\n",
    "    y_sorted = y_concat[x_sorted_indices[::-1]]\n",
    "\n",
    "    return x_sorted, y_sorted"
   ]
  }
 ],
 "metadata": {
  "kernelspec": {
   "display_name": "Python 3 (ipykernel)",
   "language": "python",
   "name": "python3"
  },
  "language_info": {
   "codemirror_mode": {
    "name": "ipython",
    "version": 3
   },
   "file_extension": ".py",
   "mimetype": "text/x-python",
   "name": "python",
   "nbconvert_exporter": "python",
   "pygments_lexer": "ipython3",
   "version": "3.12.4"
  }
 },
 "nbformat": 4,
 "nbformat_minor": 5
}
